{
 "cells": [
  {
   "cell_type": "markdown",
   "id": "figured-conjunction",
   "metadata": {},
   "source": [
    "## First Class Function  \n",
    " 프로그래밍 언어가 함수(function)을 first-class citizen으로 취급, 함수 자체를 일반 값처럼 취급함\n"
   ]
  },
  {
   "cell_type": "code",
   "execution_count": 1,
   "id": "regular-leone",
   "metadata": {},
   "outputs": [
    {
     "name": "stdout",
     "output_type": "stream",
     "text": [
      "6\n"
     ]
    }
   ],
   "source": [
    "def double_func(x):\n",
    "    return x *2 \n",
    "print(double_func(3))"
   ]
  },
  {
   "cell_type": "code",
   "execution_count": 2,
   "id": "industrial-barbados",
   "metadata": {},
   "outputs": [
    {
     "name": "stdout",
     "output_type": "stream",
     "text": [
      "<function double_func at 0x7fd3247c3430>\n",
      "<function double_func at 0x7fd3247c3430>\n"
     ]
    }
   ],
   "source": [
    "# 생성한 함수를 변수처럼 취급한다.\n",
    "a = double_func\n",
    "print(double_func)\n",
    "print(a)"
   ]
  },
  {
   "cell_type": "code",
   "execution_count": 3,
   "id": "determined-establishment",
   "metadata": {},
   "outputs": [],
   "source": [
    "def make_double_list(func, args):\n",
    "    result = []\n",
    "    for i in args :\n",
    "        result.append(func(i))\n",
    "    return result"
   ]
  },
  {
   "cell_type": "code",
   "execution_count": 5,
   "id": "abstract-strengthening",
   "metadata": {},
   "outputs": [
    {
     "name": "stdout",
     "output_type": "stream",
     "text": [
      "[2, 4, 6, 8, 10]\n"
     ]
    }
   ],
   "source": [
    "# 함수를 파라미터로도 사용 가능\n",
    "input_list = [1,2,3,4,5]\n",
    "doubles = make_double_list(double_func, input_list)\n",
    "print(doubles)"
   ]
  },
  {
   "cell_type": "code",
   "execution_count": 22,
   "id": "political-footage",
   "metadata": {},
   "outputs": [],
   "source": [
    "# 함수를 호출하면 함수에서 함수를 생성해서 리턴한다.\n",
    "import time\n",
    "def log_formatter(msg):\n",
    "    \n",
    "    def log_message():\n",
    "        time_str = time.strftime('%c', time.localtime(time.time()))\n",
    "        print(time_str , end=' ')\n",
    "        print('------>', end=' ')\n",
    "        print(msg)\n",
    "\n",
    "    return log_message"
   ]
  },
  {
   "cell_type": "code",
   "execution_count": 27,
   "id": "surprised-metadata",
   "metadata": {},
   "outputs": [
    {
     "name": "stdout",
     "output_type": "stream",
     "text": [
      "Mon Apr  5 09:44:59 2021 ------> test log\n",
      "None\n"
     ]
    }
   ],
   "source": [
    "log_msg = log_formatter('test log')\n",
    "print(log_msg())"
   ]
  },
  {
   "cell_type": "code",
   "execution_count": 29,
   "id": "through-gilbert",
   "metadata": {},
   "outputs": [
    {
     "name": "stdout",
     "output_type": "stream",
     "text": [
      "Mon Apr  5 09:45:11 2021 ------> test log\n"
     ]
    }
   ],
   "source": [
    "log_msg()\n"
   ]
  },
  {
   "cell_type": "markdown",
   "id": "anonymous-exhibit",
   "metadata": {},
   "source": [
    "    - log_formatter 함수의 로컬변수 msg는 함수 실행이 종료된 후 사라지는 변수\n",
    "    - 종료된 이후에도 참조가 가능 ? log_message를 클로져(closure)라고 함\n",
    "    - 클로저는 다른함수의 지역변수 값을 그 함수가 종료돈 후에도 기억"
   ]
  },
  {
   "cell_type": "code",
   "execution_count": 30,
   "id": "accomplished-deposit",
   "metadata": {},
   "outputs": [],
   "source": [
    "del log_formatter"
   ]
  },
  {
   "cell_type": "code",
   "execution_count": 31,
   "id": "legitimate-third",
   "metadata": {},
   "outputs": [
    {
     "name": "stdout",
     "output_type": "stream",
     "text": [
      "Mon Apr  5 09:45:13 2021 ------> test log\n"
     ]
    }
   ],
   "source": [
    "# closure 이기 때문에 상위 함수를 지워도 하위 함수가 존재 한다.\n",
    "log_msg()"
   ]
  },
  {
   "cell_type": "markdown",
   "id": "married-graphics",
   "metadata": {},
   "source": [
    "## Closure  \n",
    "    - first class function을 지원하는 언어의 네임 바인딩 기술\n",
    "    - 어떤 함수를 함수 자신이 가지고 있는 환경과 함께 저장한 레코드\n",
    "    - 함수가 가진 프리변수(free variable)을 클로저가 만들어지는 당시의 값과 레퍼런스에 매핑하는 역할\n",
    "    - 자신의 영역 밖에서 호출된 함수의 변수값과 레퍼런스를 복사하고 저장\n",
    "    - free variable: 코드블럭 안에서 사용은 되지만 그 코드 블럭안에서 정의되지 않은 변수\n",
    "    "
   ]
  },
  {
   "cell_type": "code",
   "execution_count": 20,
   "id": "sustainable-trouble",
   "metadata": {},
   "outputs": [
    {
     "ename": "TypeError",
     "evalue": "log_message() takes 0 positional arguments but 1 was given",
     "output_type": "error",
     "traceback": [
      "\u001b[0;31m---------------------------------------------------------------------------\u001b[0m",
      "\u001b[0;31mTypeError\u001b[0m                                 Traceback (most recent call last)",
      "\u001b[0;32m<ipython-input-20-1ab485a53740>\u001b[0m in \u001b[0;36m<module>\u001b[0;34m\u001b[0m\n\u001b[0;32m----> 1\u001b[0;31m \u001b[0mlog_msg\u001b[0m\u001b[0;34m(\u001b[0m\u001b[0;36m234\u001b[0m\u001b[0;34m)\u001b[0m\u001b[0;34m\u001b[0m\u001b[0;34m\u001b[0m\u001b[0m\n\u001b[0m",
      "\u001b[0;31mTypeError\u001b[0m: log_message() takes 0 positional arguments but 1 was given"
     ]
    }
   ],
   "source": [
    "log_msg(234)"
   ]
  },
  {
   "cell_type": "code",
   "execution_count": 32,
   "id": "fitting-sudan",
   "metadata": {},
   "outputs": [],
   "source": [
    "def outer_func():\n",
    "    msg = 'Good Morning!'\n",
    "    \n",
    "    def inner_func():\n",
    "        print(msg)\n",
    "        \n",
    "    return inner_func()\n"
   ]
  },
  {
   "cell_type": "code",
   "execution_count": 33,
   "id": "tough-green",
   "metadata": {},
   "outputs": [
    {
     "name": "stdout",
     "output_type": "stream",
     "text": [
      "Good Morning!\n"
     ]
    }
   ],
   "source": [
    "outer_func()"
   ]
  },
  {
   "cell_type": "code",
   "execution_count": 34,
   "id": "right-gothic",
   "metadata": {},
   "outputs": [
    {
     "name": "stdout",
     "output_type": "stream",
     "text": [
      "<function outer_func.<locals>.inner_func at 0x7fd3248b7af0>\n",
      "Good Morning!\n"
     ]
    }
   ],
   "source": [
    "def outer_func():\n",
    "    msg = 'Good Morning!'\n",
    "    \n",
    "    def inner_func():\n",
    "        print(msg)\n",
    "        \n",
    "    return inner_func\n",
    "\n",
    "func = outer_func()\n",
    "print(func)\n",
    "func()"
   ]
  },
  {
   "cell_type": "code",
   "execution_count": 35,
   "id": "welcome-alliance",
   "metadata": {},
   "outputs": [
    {
     "name": "stdout",
     "output_type": "stream",
     "text": [
      "['__annotations__', '__call__', '__class__', '__closure__', '__code__', '__defaults__', '__delattr__', '__dict__', '__dir__', '__doc__', '__eq__', '__format__', '__ge__', '__get__', '__getattribute__', '__globals__', '__gt__', '__hash__', '__init__', '__init_subclass__', '__kwdefaults__', '__le__', '__lt__', '__module__', '__name__', '__ne__', '__new__', '__qualname__', '__reduce__', '__reduce_ex__', '__repr__', '__setattr__', '__sizeof__', '__str__', '__subclasshook__']\n"
     ]
    }
   ],
   "source": [
    "print(dir(func))"
   ]
  },
  {
   "cell_type": "code",
   "execution_count": 36,
   "id": "clean-flour",
   "metadata": {},
   "outputs": [
    {
     "name": "stdout",
     "output_type": "stream",
     "text": [
      "<class 'tuple'>\n"
     ]
    }
   ],
   "source": [
    "print(type(func.__closure__))"
   ]
  },
  {
   "cell_type": "code",
   "execution_count": 37,
   "id": "caroline-cleaners",
   "metadata": {},
   "outputs": [
    {
     "name": "stdout",
     "output_type": "stream",
     "text": [
      "(<cell at 0x7fd3248304f0: str object at 0x7fd3248cb5f0>,)\n"
     ]
    }
   ],
   "source": [
    "print(func.__closure__)"
   ]
  },
  {
   "cell_type": "code",
   "execution_count": 38,
   "id": "allied-sector",
   "metadata": {},
   "outputs": [
    {
     "name": "stdout",
     "output_type": "stream",
     "text": [
      "<cell at 0x7fd3248304f0: str object at 0x7fd3248cb5f0>\n"
     ]
    }
   ],
   "source": [
    "print(func.__closure__[0])"
   ]
  },
  {
   "cell_type": "code",
   "execution_count": 39,
   "id": "relative-drilling",
   "metadata": {},
   "outputs": [
    {
     "name": "stdout",
     "output_type": "stream",
     "text": [
      "['__class__', '__delattr__', '__dir__', '__doc__', '__eq__', '__format__', '__ge__', '__getattribute__', '__gt__', '__hash__', '__init__', '__init_subclass__', '__le__', '__lt__', '__ne__', '__new__', '__reduce__', '__reduce_ex__', '__repr__', '__setattr__', '__sizeof__', '__str__', '__subclasshook__', 'cell_contents']\n"
     ]
    }
   ],
   "source": [
    "print(dir(func.__closure__[0]))"
   ]
  },
  {
   "cell_type": "code",
   "execution_count": 41,
   "id": "chinese-reader",
   "metadata": {},
   "outputs": [
    {
     "name": "stdout",
     "output_type": "stream",
     "text": [
      "Good Morning!\n"
     ]
    }
   ],
   "source": [
    "print(func.__closure__[0].cell_contents)"
   ]
  },
  {
   "cell_type": "code",
   "execution_count": 42,
   "id": "cross-charm",
   "metadata": {},
   "outputs": [],
   "source": [
    "\n",
    "import time\n",
    "def log_formatter(msg):\n",
    "    \n",
    "    def log_message():\n",
    "        time_str = time.strftime('%c', time.localtime(time.time()))\n",
    "        print(time_str , end=' ')\n",
    "        print('------>', end=' ')\n",
    "        print(msg)\n",
    "\n",
    "    return log_message\n"
   ]
  },
  {
   "cell_type": "code",
   "execution_count": 44,
   "id": "previous-wings",
   "metadata": {},
   "outputs": [],
   "source": [
    "test_log_msg = log_formatter('test_log')\n",
    "runtime_log_msg = log_formatter('runtime log')"
   ]
  },
  {
   "cell_type": "code",
   "execution_count": 45,
   "id": "desperate-month",
   "metadata": {},
   "outputs": [
    {
     "name": "stdout",
     "output_type": "stream",
     "text": [
      "Mon Apr  5 10:15:43 2021 ------> test_log\n",
      "Mon Apr  5 10:15:43 2021 ------> runtime log\n"
     ]
    }
   ],
   "source": [
    "test_log_msg()\n",
    "runtime_log_msg()"
   ]
  },
  {
   "cell_type": "code",
   "execution_count": 97,
   "id": "civilian-dimension",
   "metadata": {},
   "outputs": [],
   "source": [
    "# decorator \n",
    "def log_decorator(param_func):\n",
    "    \n",
    "    def log_message():\n",
    "        time_str = time.strftime('%c', time.localtime(time.time()))\n",
    "        print(time_str , end=' ')\n",
    "        print('------>', end=' ')\n",
    "        return param_func()\n",
    "\n",
    "    return log_message\n"
   ]
  },
  {
   "cell_type": "code",
   "execution_count": 98,
   "id": "stretch-production",
   "metadata": {},
   "outputs": [],
   "source": [
    "def test_log_msg():\n",
    "    print('This is test log Message')\n",
    "    \n",
    "def runtime_log_msg():\n",
    "    print('This is runtime log Message')"
   ]
  },
  {
   "cell_type": "code",
   "execution_count": 99,
   "id": "technical-scanning",
   "metadata": {},
   "outputs": [],
   "source": [
    "test_log = log_decorator(test_log_msg)\n",
    "runtime_log = log_decorator(runtime_log_msg)"
   ]
  },
  {
   "cell_type": "code",
   "execution_count": 100,
   "id": "informative-invite",
   "metadata": {},
   "outputs": [
    {
     "name": "stdout",
     "output_type": "stream",
     "text": [
      "Mon Apr  5 10:40:11 2021 ------> This is test log Message\n",
      "\n",
      "Mon Apr  5 10:40:11 2021 ------> This is runtime log Message\n"
     ]
    }
   ],
   "source": [
    "test_log()\n",
    "print()\n",
    "runtime_log()"
   ]
  },
  {
   "cell_type": "code",
   "execution_count": 101,
   "id": "sensitive-multimedia",
   "metadata": {},
   "outputs": [],
   "source": [
    "# 애너테이션을 선언하듯 함수의 이름을 선언해주면 함수를 실행해주는 것 처럼 실행할 수 있다.\n",
    "@log_decorator\n",
    "def test_log_msg():\n",
    "    print('This is test log Message')\n",
    "    \n",
    "@log_decorator\n",
    "def runtime_log_msg():\n",
    "    print('This is runtime log Message')\n"
   ]
  },
  {
   "cell_type": "code",
   "execution_count": 102,
   "id": "literary-knife",
   "metadata": {},
   "outputs": [
    {
     "name": "stdout",
     "output_type": "stream",
     "text": [
      "Mon Apr  5 10:40:11 2021 ------> This is test log Message\n",
      "\n",
      "Mon Apr  5 10:40:11 2021 ------> This is runtime log Message\n"
     ]
    }
   ],
   "source": [
    "test_log_msg()\n",
    "print()\n",
    "runtime_log_msg()"
   ]
  },
  {
   "cell_type": "code",
   "execution_count": 103,
   "id": "imposed-westminster",
   "metadata": {},
   "outputs": [],
   "source": [
    "@log_decorator\n",
    "def runtime_log_msg(host, ip):\n",
    "    print(f'This is runtime log Message from {host}:{ip}')"
   ]
  },
  {
   "cell_type": "code",
   "execution_count": 104,
   "id": "incoming-japanese",
   "metadata": {},
   "outputs": [
    {
     "name": "stdout",
     "output_type": "stream",
     "text": [
      "Mon Apr  5 10:40:13 2021 ------> This is test log Message\n",
      "\n"
     ]
    },
    {
     "ename": "TypeError",
     "evalue": "log_message() takes 0 positional arguments but 2 were given",
     "output_type": "error",
     "traceback": [
      "\u001b[0;31m---------------------------------------------------------------------------\u001b[0m",
      "\u001b[0;31mTypeError\u001b[0m                                 Traceback (most recent call last)",
      "\u001b[0;32m<ipython-input-104-8ef4a3130f83>\u001b[0m in \u001b[0;36m<module>\u001b[0;34m\u001b[0m\n\u001b[1;32m      1\u001b[0m \u001b[0mtest_log_msg\u001b[0m\u001b[0;34m(\u001b[0m\u001b[0;34m)\u001b[0m\u001b[0;34m\u001b[0m\u001b[0;34m\u001b[0m\u001b[0m\n\u001b[1;32m      2\u001b[0m \u001b[0mprint\u001b[0m\u001b[0;34m(\u001b[0m\u001b[0;34m)\u001b[0m\u001b[0;34m\u001b[0m\u001b[0;34m\u001b[0m\u001b[0m\n\u001b[0;32m----> 3\u001b[0;31m \u001b[0mruntime_log_msg\u001b[0m\u001b[0;34m(\u001b[0m\u001b[0;34m'localhost'\u001b[0m\u001b[0;34m,\u001b[0m \u001b[0;34m'192.168.0.1'\u001b[0m\u001b[0;34m)\u001b[0m\u001b[0;34m\u001b[0m\u001b[0;34m\u001b[0m\u001b[0m\n\u001b[0m",
      "\u001b[0;31mTypeError\u001b[0m: log_message() takes 0 positional arguments but 2 were given"
     ]
    }
   ],
   "source": [
    "test_log_msg()\n",
    "print()\n",
    "runtime_log_msg('localhost', '192.168.0.1')"
   ]
  },
  {
   "cell_type": "markdown",
   "id": "instructional-millennium",
   "metadata": {},
   "source": [
    "# 위와같이 데코레이터와 다른 갯수의 파라미터를 사용하기 위해 내부의 함수에 선언해주는것\n",
    "def log_decorator(param_func):\n",
    "    \n",
    "    def log_message(*args, **kargs):\n",
    "        time_str = time.strftime('%c', time.localtime(time.time()))\n",
    "        print(time_str , end=' ')\n",
    "        print('------>', end=' ')\n",
    "        return param_func(*args, **kargs)\n",
    "\n",
    "    return log_message\n"
   ]
  },
  {
   "cell_type": "code",
   "execution_count": 108,
   "id": "fewer-district",
   "metadata": {},
   "outputs": [],
   "source": [
    "@log_decorator\n",
    "def test_log_msg():\n",
    "    print('This is test log Message')\n",
    "\n",
    "@log_decorator\n",
    "def runtime_log_msg(host, ip):\n",
    "    print(f'This is runtime log Message from {host}:{ip}')"
   ]
  },
  {
   "cell_type": "code",
   "execution_count": 109,
   "id": "engaged-adventure",
   "metadata": {},
   "outputs": [
    {
     "name": "stdout",
     "output_type": "stream",
     "text": [
      "Mon Apr  5 10:43:46 2021 ------> This is test log Message\n",
      "\n",
      "Mon Apr  5 10:43:46 2021 ------> This is runtime log Message from localhost:192.168.0.1\n"
     ]
    }
   ],
   "source": [
    "test_log_msg()\n",
    "print()\n",
    "runtime_log_msg('localhost', '192.168.0.1')"
   ]
  },
  {
   "cell_type": "markdown",
   "id": "assisted-death",
   "metadata": {},
   "source": [
    "# Generator\n",
    "    - iterator와 같은 loop 의 작용을 컨트롤 하기 위하여 쓰여지는 특별한 함수 또는 루틴\n",
    "    - 연속적인 값들을 리턴해야 할 때 한번에 모든 값을 리턴하지 않는다.\n",
    "    - yield 구문을 이용해 한번 호출될 때마다 하나의 값만을 리턴\n",
    "    - 일반 iterator에 비하여 적은 메모리를 사용\n",
    "   "
   ]
  },
  {
   "cell_type": "code",
   "execution_count": 110,
   "id": "christian-greek",
   "metadata": {},
   "outputs": [
    {
     "name": "stdout",
     "output_type": "stream",
     "text": [
      "[1, 4, 9, 16, 25]\n"
     ]
    }
   ],
   "source": [
    "def square_numbers(nums):\n",
    "    result = []\n",
    "    for i in nums:\n",
    "        result.append(i * i)\n",
    "    return result\n",
    "\n",
    "my_nums = square_numbers([1, 2, 3, 4, 5])\n",
    "print(my_nums)"
   ]
  },
  {
   "cell_type": "code",
   "execution_count": 123,
   "id": "arabic-congo",
   "metadata": {},
   "outputs": [],
   "source": [
    "def square_numbers(nums):\n",
    "    for i in nums:\n",
    "        yield i * i\n",
    "        \n",
    "my_nums = square_numbers([1, 2, 3, 4, 5])"
   ]
  },
  {
   "cell_type": "code",
   "execution_count": 124,
   "id": "fabulous-syndication",
   "metadata": {},
   "outputs": [
    {
     "name": "stdout",
     "output_type": "stream",
     "text": [
      "1\n"
     ]
    }
   ],
   "source": [
    "print(next(my_nums))"
   ]
  },
  {
   "cell_type": "code",
   "execution_count": 125,
   "id": "possible-heading",
   "metadata": {},
   "outputs": [
    {
     "name": "stdout",
     "output_type": "stream",
     "text": [
      "4\n",
      "9\n",
      "16\n"
     ]
    },
    {
     "ename": "TypeError",
     "evalue": "object of type 'generator' has no len()",
     "output_type": "error",
     "traceback": [
      "\u001b[0;31m---------------------------------------------------------------------------\u001b[0m",
      "\u001b[0;31mTypeError\u001b[0m                                 Traceback (most recent call last)",
      "\u001b[0;32m<ipython-input-125-65e679a1eb71>\u001b[0m in \u001b[0;36m<module>\u001b[0;34m\u001b[0m\n\u001b[1;32m      2\u001b[0m \u001b[0mprint\u001b[0m\u001b[0;34m(\u001b[0m\u001b[0mnext\u001b[0m\u001b[0;34m(\u001b[0m\u001b[0mmy_nums\u001b[0m\u001b[0;34m)\u001b[0m\u001b[0;34m)\u001b[0m\u001b[0;34m\u001b[0m\u001b[0;34m\u001b[0m\u001b[0m\n\u001b[1;32m      3\u001b[0m \u001b[0mprint\u001b[0m\u001b[0;34m(\u001b[0m\u001b[0mnext\u001b[0m\u001b[0;34m(\u001b[0m\u001b[0mmy_nums\u001b[0m\u001b[0;34m)\u001b[0m\u001b[0;34m)\u001b[0m\u001b[0;34m\u001b[0m\u001b[0;34m\u001b[0m\u001b[0m\n\u001b[0;32m----> 4\u001b[0;31m \u001b[0mprint\u001b[0m\u001b[0;34m(\u001b[0m\u001b[0mlen\u001b[0m\u001b[0;34m(\u001b[0m\u001b[0mmy_nums\u001b[0m\u001b[0;34m)\u001b[0m\u001b[0;34m)\u001b[0m\u001b[0;34m\u001b[0m\u001b[0;34m\u001b[0m\u001b[0m\n\u001b[0m",
      "\u001b[0;31mTypeError\u001b[0m: object of type 'generator' has no len()"
     ]
    }
   ],
   "source": [
    "print(next(my_nums))\n",
    "print(next(my_nums))\n",
    "print(next(my_nums))\n"
   ]
  },
  {
   "cell_type": "code",
   "execution_count": 127,
   "id": "headed-advertiser",
   "metadata": {},
   "outputs": [
    {
     "name": "stdout",
     "output_type": "stream",
     "text": [
      "1\n",
      "4\n",
      "9\n",
      "16\n",
      "25\n"
     ]
    }
   ],
   "source": [
    "my_nums = square_numbers([1, 2, 3, 4, 5])\n",
    "\n",
    "for num in my_nums:\n",
    "    print(num)"
   ]
  },
  {
   "cell_type": "code",
   "execution_count": 131,
   "id": "precise-qualification",
   "metadata": {},
   "outputs": [
    {
     "name": "stdout",
     "output_type": "stream",
     "text": [
      "[1, 4, 9, 16, 25]\n",
      "1\n",
      "4\n",
      "9\n",
      "16\n",
      "25\n"
     ]
    }
   ],
   "source": [
    "nums = [1, 2, 3, 4, 5]\n",
    "my_nums = [x * x for x in nums]\n",
    "print(my_nums)\n",
    "\n",
    "for num in my_nums:\n",
    "    print(num)"
   ]
  },
  {
   "cell_type": "code",
   "execution_count": 132,
   "id": "vanilla-mitchell",
   "metadata": {},
   "outputs": [
    {
     "name": "stdout",
     "output_type": "stream",
     "text": [
      "[0, 2, 4, 6, 8]\n"
     ]
    }
   ],
   "source": [
    "result = [] \n",
    "for i in range(10):\n",
    "    if i % 2 == 0:\n",
    "        result.append(i)\n",
    "\n",
    "print(result)"
   ]
  },
  {
   "cell_type": "code",
   "execution_count": null,
   "id": "lonely-dragon",
   "metadata": {},
   "outputs": [],
   "source": [
    "result = []"
   ]
  }
 ],
 "metadata": {
  "kernelspec": {
   "display_name": "Python 3",
   "language": "python",
   "name": "python3"
  },
  "language_info": {
   "codemirror_mode": {
    "name": "ipython",
    "version": 3
   },
   "file_extension": ".py",
   "mimetype": "text/x-python",
   "name": "python",
   "nbconvert_exporter": "python",
   "pygments_lexer": "ipython3",
   "version": "3.8.8"
  }
 },
 "nbformat": 4,
 "nbformat_minor": 5
}
