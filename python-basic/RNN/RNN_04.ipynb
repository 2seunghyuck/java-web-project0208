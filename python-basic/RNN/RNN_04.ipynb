{
 "cells": [
  {
   "cell_type": "code",
   "execution_count": 1,
   "id": "45281ab7",
   "metadata": {},
   "outputs": [],
   "source": [
    "from keras_preprocessing.image import ImageDataGenerator\n",
    "from tensorflow.keras.models import Sequential\n",
    "from tensorflow.keras.layers import Dense, Activation, Dropout, Flatten, Conv2D, MaxPooling2D\n",
    "from tensorflow.keras.preprocessing.image import ImageDataGenerator\n",
    "from tensorflow.keras import optimizers, initializers, regularizers, metrics\n",
    "\n",
    "import tensorflow as tf\n",
    "import numpy as np\n",
    "import matplotlib.pyplot as plt"
   ]
  },
  {
   "cell_type": "code",
   "execution_count": 2,
   "id": "7f337e9f",
   "metadata": {},
   "outputs": [],
   "source": [
    "b_size = 5\n",
    "\n",
    "train_datagen = ImageDataGenerator(rescale=1./255,\n",
    "                                   horizontal_flip=True, # 수평대칭 이미지를 50% 확률로 만들어 추가\n",
    "                                   width_shift_range=0.1, # 전체 크기의 10% 범위에서 좌우로 이동.\n",
    "                                   height_shift_range=0.1, # 마찬가지로 위 , 아래로 이동\n",
    "                                   # rotation_range=5,\n",
    "                                   # shear_range=0.7,\n",
    "                                   # zoom_range=[0.9, 2.2],\n",
    "                                   # vertical_flip=True\n",
    "                                   fill_mode='nearest')\n"
   ]
  },
  {
   "cell_type": "code",
   "execution_count": 3,
   "id": "f33ad8d8",
   "metadata": {},
   "outputs": [
    {
     "name": "stdout",
     "output_type": "stream",
     "text": [
      "Found 160 images belonging to 2 classes.\n"
     ]
    }
   ],
   "source": [
    "train_generator = train_datagen.flow_from_directory('/Users/user/java-web-project0208/python-basic/dataset/MRI/train',\n",
    "                                                    target_size=(150, 150),\n",
    "                                                    batch_size=b_size,\n",
    "                                                    class_mode='binary')"
   ]
  },
  {
   "cell_type": "code",
   "execution_count": 4,
   "id": "8e5d055d",
   "metadata": {},
   "outputs": [],
   "source": [
    "test_datagen = ImageDataGenerator(rescale=1./255)"
   ]
  },
  {
   "cell_type": "code",
   "execution_count": 6,
   "id": "aa92595d",
   "metadata": {},
   "outputs": [
    {
     "name": "stdout",
     "output_type": "stream",
     "text": [
      "Found 120 images belonging to 2 classes.\n"
     ]
    }
   ],
   "source": [
    "test_generator = test_datagen.flow_from_directory('/Users/user/java-web-project0208/python-basic/dataset/MRI/test',\n",
    "                                                  target_size=(150, 150),\n",
    "                                                  batch_size=b_size,\n",
    "                                                  class_mode='binary')"
   ]
  },
  {
   "cell_type": "code",
   "execution_count": 7,
   "id": "c8b1168f",
   "metadata": {},
   "outputs": [],
   "source": [
    "model = Sequential()\n",
    "model.add(Conv2D(32, (3, 3), input_shape=(150, 150, 3)))\n",
    "model.add(Activation('relu'))\n",
    "model.add(MaxPooling2D(pool_size=(2, 2)))\n",
    "\n",
    "model.add(Conv2D(32, (3, 3)))\n",
    "model.add(Activation('relu'))\n",
    "model.add(MaxPooling2D(pool_size=(2, 2)))\n",
    "\n",
    "model.add(Conv2D(64, (3, 3)))\n",
    "model.add(Activation('relu'))\n",
    "model.add(MaxPooling2D(pool_size=(2, 2)))\n",
    "\n",
    "model.add(Flatten())\n",
    "model.add(Dense(64))\n",
    "model.add(Activation('relu'))\n",
    "model.add(Dropout(0.5))\n",
    "model.add(Dense(2))\n",
    "model.add(Activation('softmax'))"
   ]
  },
  {
   "cell_type": "code",
   "execution_count": 8,
   "id": "a8a8bafd",
   "metadata": {},
   "outputs": [
    {
     "name": "stdout",
     "output_type": "stream",
     "text": [
      "Model: \"sequential\"\n",
      "_________________________________________________________________\n",
      "Layer (type)                 Output Shape              Param #   \n",
      "=================================================================\n",
      "conv2d (Conv2D)              (None, 148, 148, 32)      896       \n",
      "_________________________________________________________________\n",
      "activation (Activation)      (None, 148, 148, 32)      0         \n",
      "_________________________________________________________________\n",
      "max_pooling2d (MaxPooling2D) (None, 74, 74, 32)        0         \n",
      "_________________________________________________________________\n",
      "conv2d_1 (Conv2D)            (None, 72, 72, 32)        9248      \n",
      "_________________________________________________________________\n",
      "activation_1 (Activation)    (None, 72, 72, 32)        0         \n",
      "_________________________________________________________________\n",
      "max_pooling2d_1 (MaxPooling2 (None, 36, 36, 32)        0         \n",
      "_________________________________________________________________\n",
      "conv2d_2 (Conv2D)            (None, 34, 34, 64)        18496     \n",
      "_________________________________________________________________\n",
      "activation_2 (Activation)    (None, 34, 34, 64)        0         \n",
      "_________________________________________________________________\n",
      "max_pooling2d_2 (MaxPooling2 (None, 17, 17, 64)        0         \n",
      "_________________________________________________________________\n",
      "flatten (Flatten)            (None, 18496)             0         \n",
      "_________________________________________________________________\n",
      "dense (Dense)                (None, 64)                1183808   \n",
      "_________________________________________________________________\n",
      "activation_3 (Activation)    (None, 64)                0         \n",
      "_________________________________________________________________\n",
      "dropout (Dropout)            (None, 64)                0         \n",
      "_________________________________________________________________\n",
      "dense_1 (Dense)              (None, 2)                 130       \n",
      "_________________________________________________________________\n",
      "activation_4 (Activation)    (None, 2)                 0         \n",
      "=================================================================\n",
      "Total params: 1,212,578\n",
      "Trainable params: 1,212,578\n",
      "Non-trainable params: 0\n",
      "_________________________________________________________________\n"
     ]
    }
   ],
   "source": [
    "model.summary()"
   ]
  },
  {
   "cell_type": "code",
   "execution_count": 9,
   "id": "8212ee36",
   "metadata": {},
   "outputs": [],
   "source": [
    "model.compile(loss='sparse_categorical_crossentropy', optimizer=optimizers.Adam(learning_rate=0.0002),\n",
    "              metrics=['accuracy'])"
   ]
  },
  {
   "cell_type": "code",
   "execution_count": 10,
   "id": "00e01e4d",
   "metadata": {},
   "outputs": [
    {
     "name": "stdout",
     "output_type": "stream",
     "text": [
      "Train for 32 steps, validate for 24 steps\n",
      "Epoch 1/20\n",
      "32/32 [==============================] - 11s 354ms/step - loss: 0.7043 - accuracy: 0.4500 - val_loss: 0.6885 - val_accuracy: 0.5083\n",
      "Epoch 2/20\n",
      "32/32 [==============================] - 7s 204ms/step - loss: 0.6841 - accuracy: 0.5562 - val_loss: 0.6822 - val_accuracy: 0.7500\n",
      "Epoch 3/20\n",
      "32/32 [==============================] - 7s 206ms/step - loss: 0.6871 - accuracy: 0.5750 - val_loss: 0.6662 - val_accuracy: 0.5917\n",
      "Epoch 4/20\n",
      "32/32 [==============================] - 6s 199ms/step - loss: 0.6554 - accuracy: 0.6500 - val_loss: 0.6301 - val_accuracy: 0.7250\n",
      "Epoch 5/20\n",
      "32/32 [==============================] - 6s 190ms/step - loss: 0.6843 - accuracy: 0.5750 - val_loss: 0.6519 - val_accuracy: 0.5167\n",
      "Epoch 6/20\n",
      "32/32 [==============================] - 6s 195ms/step - loss: 0.6410 - accuracy: 0.6500 - val_loss: 0.6188 - val_accuracy: 0.5583\n",
      "Epoch 7/20\n",
      "32/32 [==============================] - 6s 191ms/step - loss: 0.5941 - accuracy: 0.6938 - val_loss: 0.5857 - val_accuracy: 0.6250\n",
      "Epoch 8/20\n",
      "32/32 [==============================] - 6s 199ms/step - loss: 0.5578 - accuracy: 0.6938 - val_loss: 0.5113 - val_accuracy: 0.7417\n",
      "Epoch 9/20\n",
      "32/32 [==============================] - 6s 191ms/step - loss: 0.5493 - accuracy: 0.7625 - val_loss: 0.4465 - val_accuracy: 0.8500\n",
      "Epoch 10/20\n",
      "32/32 [==============================] - 6s 194ms/step - loss: 0.5034 - accuracy: 0.7563 - val_loss: 0.3726 - val_accuracy: 0.9083\n",
      "Epoch 11/20\n",
      "32/32 [==============================] - 6s 195ms/step - loss: 0.4247 - accuracy: 0.8188 - val_loss: 0.3359 - val_accuracy: 0.8667\n",
      "Epoch 12/20\n",
      "32/32 [==============================] - 6s 194ms/step - loss: 0.4320 - accuracy: 0.7937 - val_loss: 0.3573 - val_accuracy: 0.8500\n",
      "Epoch 13/20\n",
      "32/32 [==============================] - 6s 193ms/step - loss: 0.3324 - accuracy: 0.8875 - val_loss: 0.2240 - val_accuracy: 0.9417\n",
      "Epoch 14/20\n",
      "32/32 [==============================] - 6s 191ms/step - loss: 0.2636 - accuracy: 0.9250 - val_loss: 0.2314 - val_accuracy: 0.8833\n",
      "Epoch 15/20\n",
      "32/32 [==============================] - 6s 190ms/step - loss: 0.2440 - accuracy: 0.9250 - val_loss: 0.2128 - val_accuracy: 0.9000\n",
      "Epoch 16/20\n",
      "32/32 [==============================] - 6s 190ms/step - loss: 0.2557 - accuracy: 0.8938 - val_loss: 0.2289 - val_accuracy: 0.8833\n",
      "Epoch 17/20\n",
      "32/32 [==============================] - 6s 189ms/step - loss: 0.2316 - accuracy: 0.9000 - val_loss: 0.1593 - val_accuracy: 0.9667\n",
      "Epoch 18/20\n",
      "32/32 [==============================] - 6s 193ms/step - loss: 0.1821 - accuracy: 0.9563 - val_loss: 0.2153 - val_accuracy: 0.8750\n",
      "Epoch 19/20\n",
      "32/32 [==============================] - 6s 191ms/step - loss: 0.1535 - accuracy: 0.9625 - val_loss: 0.1240 - val_accuracy: 0.9667\n",
      "Epoch 20/20\n",
      "32/32 [==============================] - 6s 192ms/step - loss: 0.2119 - accuracy: 0.9438 - val_loss: 0.1073 - val_accuracy: 0.9750\n"
     ]
    }
   ],
   "source": [
    "steps_train = len(train_generator)\n",
    "steps_test = len(test_generator)\n",
    "\n",
    "history = model.fit(\n",
    "    train_generator,\n",
    "    steps_per_epoch = steps_train,\n",
    "    epochs=20,\n",
    "    validation_data=test_generator,\n",
    "    validation_steps=steps_test\n",
    "    )"
   ]
  },
  {
   "cell_type": "code",
   "execution_count": 12,
   "id": "31555f2e",
   "metadata": {},
   "outputs": [],
   "source": [
    "acc = history.history['accuracy']\n",
    "val_acc = history.history['val_accuracy']\n",
    "y_vloss = history.history['val_loss']\n",
    "y_loss = history.history['loss']"
   ]
  },
  {
   "cell_type": "code",
   "execution_count": 13,
   "id": "948ecedc",
   "metadata": {},
   "outputs": [
    {
     "data": {
      "image/png": "[encoded data removed]",
      "text/plain": [
       "<Figure size 432x288 with 1 Axes>"
      ]
     },
     "metadata": {
      "needs_background": "light"
     },
     "output_type": "display_data"
    }
   ],
   "source": [
    "x_len = np.arange(len(y_loss))\n",
    "plt.plot(x_len, acc, marker =\".\", c =\"red\", label=\"Trainset_acc\")\n",
    "plt.plot(x_len, val_acc, marker =\".\", c =\"lightcoral\", label=\"Testset_acc\")\n",
    "plt.plot(x_len, y_vloss, marker =\".\", c =\"cornflowerblue\", label=\"Testset_loss\")\n",
    "plt.plot(x_len, y_loss, marker =\".\", c =\"blue\", label=\"Trainset_loss\")\n",
    "\n",
    "plt.legend(loc='upper right')\n",
    "plt.grid()\n",
    "plt.xlabel('epoch')\n",
    "plt.ylabel('loss/acc')\n",
    "plt.show()"
   ]
  },
  {
   "cell_type": "code",
   "execution_count": null,
   "id": "11f7d7a9",
   "metadata": {},
   "outputs": [],
   "source": []
  }
 ],
 "metadata": {
  "kernelspec": {
   "display_name": "Python 3",
   "language": "python",
   "name": "python3"
  },
  "language_info": {
   "codemirror_mode": {
    "name": "ipython",
    "version": 3
   },
   "file_extension": ".py",
   "mimetype": "text/x-python",
   "name": "python",
   "nbconvert_exporter": "python",
   "pygments_lexer": "ipython3",
   "version": "3.7.10"
  }
 },
 "nbformat": 4,
 "nbformat_minor": 5
}
