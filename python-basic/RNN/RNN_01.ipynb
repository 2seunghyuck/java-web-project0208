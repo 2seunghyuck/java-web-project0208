{
 "cells": [
  {
   "cell_type": "code",
   "execution_count": 1,
   "id": "af8d38cb",
   "metadata": {},
   "outputs": [],
   "source": [
    "from tensorflow.keras.datasets import reuters\n",
    "from tensorflow.keras.models import Sequential\n",
    "from tensorflow.keras.layers import Dense, LSTM, Embedding\n",
    "from tensorflow.keras.preprocessing import sequence\n",
    "from tensorflow.keras import utils\n",
    "\n",
    "import numpy\n",
    "import tensorflow as tf\n",
    "import matplotlib.pyplot as plt\n",
    "\n"
   ]
  },
  {
   "cell_type": "code",
   "execution_count": 4,
   "id": "e79fb204",
   "metadata": {},
   "outputs": [
    {
     "name": "stdout",
     "output_type": "stream",
     "text": [
      "Downloading data from https://storage.googleapis.com/tensorflow/tf-keras-datasets/reuters.npz\n",
      "2113536/2110848 [==============================] - 2s 1us/step\n"
     ]
    },
    {
     "name": "stderr",
     "output_type": "stream",
     "text": [
      "/Users/user/opt/anaconda3/envs/dl_env/lib/python3.7/site-packages/tensorflow_core/python/keras/datasets/reuters.py:113: VisibleDeprecationWarning: Creating an ndarray from ragged nested sequences (which is a list-or-tuple of lists-or-tuples-or ndarrays with different lengths or shapes) is deprecated. If you meant to do this, you must specify 'dtype=object' when creating the ndarray\n",
      "  x_train, y_train = np.array(xs[:idx]), np.array(labels[:idx])\n",
      "/Users/user/opt/anaconda3/envs/dl_env/lib/python3.7/site-packages/tensorflow_core/python/keras/datasets/reuters.py:114: VisibleDeprecationWarning: Creating an ndarray from ragged nested sequences (which is a list-or-tuple of lists-or-tuples-or ndarrays with different lengths or shapes) is deprecated. If you meant to do this, you must specify 'dtype=object' when creating the ndarray\n",
      "  x_test, y_test = np.array(xs[idx:]), np.array(labels[idx:])\n"
     ]
    }
   ],
   "source": [
    "# 불러온 데이터를 학습셋과 테스트셋으로 나누기\n",
    "(X_train, Y_train), (X_test, Y_test) = reuters.load_data(num_words=1000, test_split=0.2)"
   ]
  },
  {
   "cell_type": "code",
   "execution_count": 5,
   "id": "6ac73cfe",
   "metadata": {},
   "outputs": [
    {
     "name": "stdout",
     "output_type": "stream",
     "text": [
      "46 카테고리\n",
      "8982 학습용 뉴스 기사\n",
      "2246 테스트용 뉴스 기사\n",
      "[1, 2, 2, 8, 43, 10, 447, 5, 25, 207, 270, 5, 2, 111, 16, 369, 186, 90, 67, 7, 89, 5, 19, 102, 6, 19, 124, 15, 90, 67, 84, 22, 482, 26, 7, 48, 4, 49, 8, 864, 39, 209, 154, 6, 151, 6, 83, 11, 15, 22, 155, 11, 15, 7, 48, 9, 2, 2, 504, 6, 258, 6, 272, 11, 15, 22, 134, 44, 11, 15, 16, 8, 197, 2, 90, 67, 52, 29, 209, 30, 32, 132, 6, 109, 15, 17, 12]\n"
     ]
    }
   ],
   "source": [
    "# 데이터 확인하기\n",
    "category = numpy.max(Y_train) + 1\n",
    "print(category, '카테고리')\n",
    "print(len(X_train), '학습용 뉴스 기사')\n",
    "print(len(X_test), '테스트용 뉴스 기사')\n",
    "print(X_train[0])"
   ]
  },
  {
   "cell_type": "code",
   "execution_count": 6,
   "id": "332f5a26",
   "metadata": {},
   "outputs": [],
   "source": [
    "# 데이터 전처리\n",
    "x_train = sequence.pad_sequences(X_train, maxlen=100)\n",
    "x_test = sequence.pad_sequences(X_test, maxlen=100)\n",
    "y_train = utils.to_categorical(Y_train)\n",
    "y_test = utils.to_categorical(Y_test)"
   ]
  },
  {
   "cell_type": "code",
   "execution_count": 7,
   "id": "5e2eabe8",
   "metadata": {},
   "outputs": [],
   "source": [
    "# 모델의 설정\n",
    "model = Sequential()\n",
    "model.add(Embedding(1000, 100))\n",
    "model.add(LSTM(100, activation='tanh'))\n",
    "model.add(Dense(46, activation='softmax'))"
   ]
  },
  {
   "cell_type": "code",
   "execution_count": 8,
   "id": "33580e1a",
   "metadata": {},
   "outputs": [],
   "source": [
    "# 모델의 컴파일\n",
    "model.compile(loss='categorical_crossentropy', optimizer='adam', metrics=['accuracy'])"
   ]
  },
  {
   "cell_type": "code",
   "execution_count": 9,
   "id": "4f3c0497",
   "metadata": {},
   "outputs": [
    {
     "name": "stdout",
     "output_type": "stream",
     "text": [
      "Train on 8982 samples, validate on 2246 samples\n",
      "Epoch 1/20\n",
      "8982/8982 [==============================] - 75s 8ms/sample - loss: 2.5919 - accuracy: 0.3480 - val_loss: 2.2292 - val_accuracy: 0.4341\n",
      "Epoch 2/20\n",
      "8982/8982 [==============================] - 54s 6ms/sample - loss: 2.0573 - accuracy: 0.4842 - val_loss: 1.9938 - val_accuracy: 0.4987\n",
      "Epoch 3/20\n",
      "8982/8982 [==============================] - 53s 6ms/sample - loss: 1.8721 - accuracy: 0.5151 - val_loss: 1.8039 - val_accuracy: 0.5218\n",
      "Epoch 4/20\n",
      "8982/8982 [==============================] - 54s 6ms/sample - loss: 1.7393 - accuracy: 0.5450 - val_loss: 1.7265 - val_accuracy: 0.5503\n",
      "Epoch 5/20\n",
      "8982/8982 [==============================] - 56s 6ms/sample - loss: 1.6747 - accuracy: 0.5649 - val_loss: 1.7189 - val_accuracy: 0.5708\n",
      "Epoch 6/20\n",
      "8982/8982 [==============================] - 54s 6ms/sample - loss: 1.6360 - accuracy: 0.5822 - val_loss: 1.6429 - val_accuracy: 0.5908\n",
      "Epoch 7/20\n",
      "8982/8982 [==============================] - 54s 6ms/sample - loss: 1.5406 - accuracy: 0.6133 - val_loss: 1.5952 - val_accuracy: 0.6002\n",
      "Epoch 8/20\n",
      "8982/8982 [==============================] - 54s 6ms/sample - loss: 1.4626 - accuracy: 0.6393 - val_loss: 1.5162 - val_accuracy: 0.6220\n",
      "Epoch 9/20\n",
      "8982/8982 [==============================] - 53s 6ms/sample - loss: 1.3485 - accuracy: 0.6654 - val_loss: 1.4092 - val_accuracy: 0.6496\n",
      "Epoch 10/20\n",
      "8982/8982 [==============================] - 54s 6ms/sample - loss: 1.2597 - accuracy: 0.6857 - val_loss: 1.3543 - val_accuracy: 0.6612\n",
      "Epoch 11/20\n",
      "8982/8982 [==============================] - 53s 6ms/sample - loss: 1.1777 - accuracy: 0.7039 - val_loss: 1.3584 - val_accuracy: 0.6679\n",
      "Epoch 12/20\n",
      "8982/8982 [==============================] - 53s 6ms/sample - loss: 1.1450 - accuracy: 0.7098 - val_loss: 1.3216 - val_accuracy: 0.6621\n",
      "Epoch 13/20\n",
      "8982/8982 [==============================] - 51s 6ms/sample - loss: 1.0869 - accuracy: 0.7222 - val_loss: 1.2827 - val_accuracy: 0.6741\n",
      "Epoch 14/20\n",
      "8982/8982 [==============================] - 51s 6ms/sample - loss: 1.0316 - accuracy: 0.7355 - val_loss: 1.2430 - val_accuracy: 0.6901\n",
      "Epoch 15/20\n",
      "8982/8982 [==============================] - 51s 6ms/sample - loss: 0.9763 - accuracy: 0.7466 - val_loss: 1.2520 - val_accuracy: 0.6937\n",
      "Epoch 16/20\n",
      "8982/8982 [==============================] - 57s 6ms/sample - loss: 0.9358 - accuracy: 0.7599 - val_loss: 1.2391 - val_accuracy: 0.6941\n",
      "Epoch 17/20\n",
      "8982/8982 [==============================] - 54s 6ms/sample - loss: 0.8965 - accuracy: 0.7713 - val_loss: 1.2093 - val_accuracy: 0.7021\n",
      "Epoch 18/20\n",
      "8982/8982 [==============================] - 54s 6ms/sample - loss: 0.8638 - accuracy: 0.7820 - val_loss: 1.1975 - val_accuracy: 0.7084\n",
      "Epoch 19/20\n",
      "8982/8982 [==============================] - 54s 6ms/sample - loss: 0.8182 - accuracy: 0.7920 - val_loss: 1.2077 - val_accuracy: 0.7102\n",
      "Epoch 20/20\n",
      "8982/8982 [==============================] - 54s 6ms/sample - loss: 0.7881 - accuracy: 0.7999 - val_loss: 1.2309 - val_accuracy: 0.7030\n"
     ]
    }
   ],
   "source": [
    "# 모델의 실행\n",
    "history = model.fit(x_train, y_train, batch_size=100, epochs=20, validation_data=(x_test, y_test))"
   ]
  },
  {
   "cell_type": "code",
   "execution_count": null,
   "id": "c5371484",
   "metadata": {},
   "outputs": [],
   "source": [
    "# 테스트셋의 오차\n",
    "y_vloss = history.history['val_loss']\n",
    "\n",
    "# 학습셋의 오차\n",
    "y_loss = history.history['loss']\n",
    "\n",
    "# 그래프로 표현\n",
    "x_len = numpy.arange(len(y_loss))\n",
    "plt.plot(x_len, y_vloss, marker='.', c=\"red\", label='Testset_loss')\n",
    "plt.plot(x_len, y_loss, marker='.', c=\"blue\", label='Trainset_loss')\n"
   ]
  }
 ],
 "metadata": {
  "kernelspec": {
   "display_name": "Python 3",
   "language": "python",
   "name": "python3"
  },
  "language_info": {
   "codemirror_mode": {
    "name": "ipython",
    "version": 3
   },
   "file_extension": ".py",
   "mimetype": "text/x-python",
   "name": "python",
   "nbconvert_exporter": "python",
   "pygments_lexer": "ipython3",
   "version": "3.7.10"
  }
 },
 "nbformat": 4,
 "nbformat_minor": 5
}
