{
 "cells": [
  {
   "cell_type": "code",
   "execution_count": 6,
   "id": "cultural-ceramic",
   "metadata": {},
   "outputs": [],
   "source": [
    "def calculate_rectangle_area(x, y):\n",
    "    return x * y"
   ]
  },
  {
   "cell_type": "code",
   "execution_count": 7,
   "id": "ranking-bulletin",
   "metadata": {},
   "outputs": [
    {
     "name": "stdout",
     "output_type": "stream",
     "text": [
      "사각형 x의 길이 : 10\n",
      "사각형 x의 길이 : 20\n",
      "사각형의 넓이 : 200\n"
     ]
    }
   ],
   "source": [
    "rectangle_x =10\n",
    "rectangle_y =20\n",
    "print('사각형 x의 길이 :', rectangle_x)\n",
    "print('사각형 x의 길이 :', rectangle_y)\n",
    "print('사각형의 넓이 :', calculate_rectangle_area(rectangle_x, rectangle_y))"
   ]
  },
  {
   "cell_type": "code",
   "execution_count": 8,
   "id": "overhead-multimedia",
   "metadata": {},
   "outputs": [],
   "source": [
    "def func1(x): # Call by value 방식\n",
    "    x+=1\n",
    "    print('func1의 x :', x)"
   ]
  },
  {
   "cell_type": "code",
   "execution_count": 9,
   "id": "challenging-wheat",
   "metadata": {},
   "outputs": [
    {
     "name": "stdout",
     "output_type": "stream",
     "text": [
      "func1의 x : 11\n",
      "메인의 x : 10\n"
     ]
    }
   ],
   "source": [
    "x=10\n",
    "func1(x)\n",
    "print('메인의 x :', x)"
   ]
  },
  {
   "cell_type": "code",
   "execution_count": 10,
   "id": "silver-arabic",
   "metadata": {},
   "outputs": [
    {
     "name": "stdout",
     "output_type": "stream",
     "text": [
      "['melon', 'apple', 'banana']\n",
      "['melon', 'apple', 'banana']\n",
      "['apple', 'banana', 'melon']\n",
      "['apple', 'banana', 'melon']\n"
     ]
    }
   ],
   "source": [
    "fruits = ['melon', 'apple', 'banana']\n",
    "my_bag = fruits\n",
    "print(fruits)\n",
    "print(my_bag)\n",
    "my_bag.sort()\n",
    "print(fruits)\n",
    "print(my_bag)"
   ]
  },
  {
   "cell_type": "code",
   "execution_count": 11,
   "id": "separated-yugoslavia",
   "metadata": {},
   "outputs": [],
   "source": [
    "def shopping_cart(goods): # Call by Reference 방식\n",
    "    goods.append('coupon')\n",
    "    goods=[1, 2]\n",
    "    print('IN shopping_cart', goods)"
   ]
  },
  {
   "cell_type": "code",
   "execution_count": 13,
   "id": "frank-walker",
   "metadata": {},
   "outputs": [
    {
     "name": "stdout",
     "output_type": "stream",
     "text": [
      "IN shopping_cart [1, 2]\n",
      "bought ['bean', 'salt', 'beef', 'coupon']\n"
     ]
    }
   ],
   "source": [
    "shopping_list = ['bean', 'salt', 'beef']\n",
    "shopping_cart(shopping_list)\n",
    "print('bought', shopping_list)"
   ]
  },
  {
   "cell_type": "code",
   "execution_count": 17,
   "id": "inclusive-phone",
   "metadata": {},
   "outputs": [],
   "source": [
    "def test(x):\n",
    "    global a\n",
    "    print(x)\n",
    "    t=20\n",
    "    a=300\n",
    "    print('In test t, a', t, a)"
   ]
  },
  {
   "cell_type": "code",
   "execution_count": 18,
   "id": "destroyed-springfield",
   "metadata": {},
   "outputs": [
    {
     "name": "stdout",
     "output_type": "stream",
     "text": [
      "10\n",
      "In test t, a 20 300\n",
      "in Main a :  300\n"
     ]
    },
    {
     "ename": "NameError",
     "evalue": "name 't' is not defined",
     "output_type": "error",
     "traceback": [
      "\u001b[0;31m---------------------------------------------------------------------------\u001b[0m",
      "\u001b[0;31mNameError\u001b[0m                                 Traceback (most recent call last)",
      "\u001b[0;32m<ipython-input-18-4059a7b5ac37>\u001b[0m in \u001b[0;36m<module>\u001b[0;34m\u001b[0m\n\u001b[1;32m      2\u001b[0m \u001b[0mtest\u001b[0m\u001b[0;34m(\u001b[0m\u001b[0ma\u001b[0m\u001b[0;34m)\u001b[0m\u001b[0;34m\u001b[0m\u001b[0;34m\u001b[0m\u001b[0m\n\u001b[1;32m      3\u001b[0m \u001b[0mprint\u001b[0m\u001b[0;34m(\u001b[0m\u001b[0;34m'in Main a : '\u001b[0m\u001b[0;34m,\u001b[0m \u001b[0ma\u001b[0m\u001b[0;34m)\u001b[0m\u001b[0;34m\u001b[0m\u001b[0;34m\u001b[0m\u001b[0m\n\u001b[0;32m----> 4\u001b[0;31m \u001b[0mprint\u001b[0m\u001b[0;34m(\u001b[0m\u001b[0;34m'in Main t : '\u001b[0m\u001b[0;34m,\u001b[0m \u001b[0mt\u001b[0m\u001b[0;34m)\u001b[0m\u001b[0;34m\u001b[0m\u001b[0;34m\u001b[0m\u001b[0m\n\u001b[0m",
      "\u001b[0;31mNameError\u001b[0m: name 't' is not defined"
     ]
    }
   ],
   "source": [
    "a=10\n",
    "test(a)\n",
    "print('in Main a : ', a)\n",
    "print('in Main t : ', t)"
   ]
  },
  {
   "cell_type": "code",
   "execution_count": 23,
   "id": "wooden-vietnamese",
   "metadata": {},
   "outputs": [],
   "source": [
    "def f():\n",
    "    global s # 'global'명령 -- s를 함수내의 고정변수로 지정해준다.\n",
    "    s = \"i love Doosan\"\n",
    "    print(s)"
   ]
  },
  {
   "cell_type": "code",
   "execution_count": 25,
   "id": "essential-quarter",
   "metadata": {},
   "outputs": [
    {
     "name": "stdout",
     "output_type": "stream",
     "text": [
      "i love hanhwa\n",
      "i love Doosan\n",
      "i love Doosan\n"
     ]
    }
   ],
   "source": [
    "s = \"i love hanhwa\"\n",
    "\n",
    "f()\n",
    "print(s)"
   ]
  },
  {
   "cell_type": "code",
   "execution_count": 29,
   "id": "educated-boating",
   "metadata": {},
   "outputs": [],
   "source": [
    "def print_name(my_name, your_name):\n",
    "    print(\"Hello {0}, Myname is {1}\".format(your_name,my_name))"
   ]
  },
  {
   "cell_type": "code",
   "execution_count": 30,
   "id": "accurate-chancellor",
   "metadata": {},
   "outputs": [
    {
     "name": "stdout",
     "output_type": "stream",
     "text": [
      "Hello John, Myname is TOM\n"
     ]
    }
   ],
   "source": [
    "print_name(\"TOM\", \"John\")"
   ]
  },
  {
   "cell_type": "code",
   "execution_count": 31,
   "id": "amended-variance",
   "metadata": {},
   "outputs": [
    {
     "name": "stdout",
     "output_type": "stream",
     "text": [
      "Hello TOM, Myname is John\n"
     ]
    }
   ],
   "source": [
    "print_name(your_name=\"TOM\", my_name=\"John\")"
   ]
  },
  {
   "cell_type": "code",
   "execution_count": 34,
   "id": "superb-illness",
   "metadata": {},
   "outputs": [],
   "source": [
    "def variable_length(a, b, *args): # *args 맨 마지막에 와야함\n",
    "    print(a)\n",
    "    print(b)\n",
    "    print(args)"
   ]
  },
  {
   "cell_type": "code",
   "execution_count": 35,
   "id": "blind-democracy",
   "metadata": {},
   "outputs": [
    {
     "name": "stdout",
     "output_type": "stream",
     "text": [
      "1\n",
      "2\n",
      "(3, 4, 5)\n"
     ]
    }
   ],
   "source": [
    "variable_length(1, 2, 3, 4, 5)"
   ]
  },
  {
   "cell_type": "code",
   "execution_count": 42,
   "id": "fundamental-scratch",
   "metadata": {},
   "outputs": [],
   "source": [
    "def key_variable_length(**args):\n",
    "    print(args)\n",
    "    print(\"First value: {first}\".format(**args))\n",
    "    print(f\"First value is {args.get('first')}\")\n",
    "    print(\"Second value is {second}\".format(**args))\n",
    "    print(\"Third value is {third}\".format(**args))\n",
    "          "
   ]
  },
  {
   "cell_type": "code",
   "execution_count": 43,
   "id": "optimum-bailey",
   "metadata": {},
   "outputs": [
    {
     "name": "stdout",
     "output_type": "stream",
     "text": [
      "{'first': 3, 'second': 4, 'third': 5}\n",
      "First value: 3\n",
      "First value is 3\n",
      "Second value is 4\n",
      "Third value is 5\n"
     ]
    }
   ],
   "source": [
    "key_variable_length(first=3, second=4, third=5)"
   ]
  },
  {
   "cell_type": "code",
   "execution_count": 45,
   "id": "alien-drilling",
   "metadata": {},
   "outputs": [
    {
     "name": "stdout",
     "output_type": "stream",
     "text": [
      "BLACK LIVES MATTER\n",
      "black lives matter\n",
      "Black Lives Matter\n",
      "Black lives matter\n",
      "2\n",
      "True\n",
      "True\n"
     ]
    }
   ],
   "source": [
    "s = \"BLACK LIVES MATTER\"\n",
    "print(s.upper())\n",
    "print(s.lower())\n",
    "print(s.title())\n",
    "print(s.capitalize())\n",
    "print(s.count(\"T\"))\n",
    "print(s.startswith(\"B\"))\n",
    "\n",
    "k=\"123\"\n",
    "print(k.isdigit())"
   ]
  },
  {
   "cell_type": "code",
   "execution_count": 51,
   "id": "naughty-productivity",
   "metadata": {},
   "outputs": [
    {
     "name": "stdout",
     "output_type": "stream",
     "text": [
      "1 2 3\n",
      "1 2 3 \n",
      "abc--def--ghi\n",
      "abc def ghi\n",
      "def abc ghi\n",
      "def abc ghi\n",
      "    python\n",
      "python    \n",
      "    python\n",
      "python    \n"
     ]
    }
   ],
   "source": [
    "print(1, 2, 3)\n",
    "print(\"%d %d %d \" %(1, 2, 3))\n",
    "print(\"%s--%s--%s\" %('abc','def','ghi'))\n",
    "print(\"{} {} {}\".format('abc','def','ghi'))\n",
    "print(\"{1} {0} {2}\".format('abc','def','ghi'))\n",
    "print(f\"{'def'} {'abc'} {'ghi'}\")\n",
    "print(\"{0:>10s}\".format('python'))\n",
    "print(\"{0:<10s}\".format('python'))\n",
    "print(f\"{'python':>10s}\")\n",
    "print(f\"{'python':<10s}\")\n"
   ]
  },
  {
   "cell_type": "code",
   "execution_count": 52,
   "id": "international-herald",
   "metadata": {},
   "outputs": [
    {
     "name": "stdout",
     "output_type": "stream",
     "text": [
      "['zero', 'one', 'two', 'three']\n",
      "['python', 'javascript', 'sql']\n",
      "python javascript sql\n"
     ]
    }
   ],
   "source": [
    "items = 'zero one two three'.split()\n",
    "print(items)\n",
    "\n",
    "examples = 'python,javascript,sql'\n",
    "print(examples.split(','))\n",
    "a,b,c = examples.split(',')\n",
    "print(a, b, c)"
   ]
  },
  {
   "cell_type": "code",
   "execution_count": 53,
   "id": "sexual-europe",
   "metadata": {},
   "outputs": [
    {
     "name": "stdout",
     "output_type": "stream",
     "text": [
      "redbluegreenyellow\n",
      "red blue green yellow\n",
      "red, blue, green, yellow\n",
      "red- blue- green- yellow\n"
     ]
    }
   ],
   "source": [
    "colors = ['red', 'blue', 'green', 'yellow']\n",
    "result = ''.join(colors)\n",
    "print(result)\n",
    "\n",
    "result = ' '.join(colors)\n",
    "print(result)\n",
    "\n",
    "result = ', '.join(colors)\n",
    "print(result)\n",
    "\n",
    "result = '- '.join(colors)\n",
    "print(result)"
   ]
  },
  {
   "cell_type": "code",
   "execution_count": 55,
   "id": "attractive-auction",
   "metadata": {},
   "outputs": [
    {
     "name": "stdout",
     "output_type": "stream",
     "text": [
      "[1, 2, 3, 4, 5, 10]\n",
      "[1, 2, 3, 4, 5, 10, 20]\n",
      "20\n",
      "[1, 2, 3, 4, 5, 10]\n",
      "10\n",
      "[1, 2, 3, 4, 5]\n",
      "5\n"
     ]
    }
   ],
   "source": [
    "a = [1,2,3,4,5]\n",
    "a.append(10)\n",
    "print(a)\n",
    "a.append(20)\n",
    "print(a)\n",
    "print(a.pop()) # 기본구조가 STACK (LIFO) 구조임\n",
    "print(a)\n",
    "print(a.pop())\n",
    "print(a)\n",
    "print(a.pop())"
   ]
  },
  {
   "cell_type": "code",
   "execution_count": 57,
   "id": "ambient-physics",
   "metadata": {},
   "outputs": [
    {
     "name": "stdout",
     "output_type": "stream",
     "text": [
      "input a word:computer\n",
      "['c', 'o', 'm', 'p', 'u', 't', 'e', 'r']\n",
      "['r', 'e', 't', 'u', 'p', 'm', 'o', 'c']\n",
      "retupmoc\n"
     ]
    }
   ],
   "source": [
    "word = input(\"input a word:\")\n",
    "word_list = list(word)\n",
    "print(word_list)\n",
    "result = []\n",
    "for _ in range(len(word_list)):\n",
    "    result.append(word_list.pop())\n",
    "    \n",
    "print(result)\n",
    "print(word[::-1])"
   ]
  },
  {
   "cell_type": "code",
   "execution_count": 63,
   "id": "southern-poster",
   "metadata": {},
   "outputs": [
    {
     "name": "stdout",
     "output_type": "stream",
     "text": [
      "[1, 2, 3, 4, 5, 10, 20]\n",
      "1\n",
      "2\n",
      "[3, 4, 5, 10, 20]\n"
     ]
    }
   ],
   "source": [
    "a = [1,2,3,4,5]\n",
    "a.append(10)\n",
    "a.append(20)\n",
    "print(a)\n",
    "print(a.pop(0)) # pop(0) pop 에 인덱스를 줌으로 QUEUE 처럼 동작하게 만듬 \n",
    "print(a.pop(0))\n",
    "print(a)"
   ]
  },
  {
   "cell_type": "code",
   "execution_count": 65,
   "id": "previous-shell",
   "metadata": {},
   "outputs": [
    {
     "name": "stdout",
     "output_type": "stream",
     "text": [
      "(1, 2, 3, 1, 2, 3) (1, 2, 3, 1, 2, 3)\n",
      "3\n"
     ]
    }
   ],
   "source": [
    "t = (1, 2, 3) # TUPLE 사용 리스트와 비슷하게 동작하지만, 데이터를 수정할 수 없다.\n",
    "print (t+t, t*2)\n",
    "print(len(t))\n"
   ]
  },
  {
   "cell_type": "code",
   "execution_count": 74,
   "id": "naked-tomato",
   "metadata": {},
   "outputs": [
    {
     "name": "stdout",
     "output_type": "stream",
     "text": [
      "<class 'str'>\n",
      "<class 'tuple'>\n"
     ]
    }
   ],
   "source": [
    "t2 = ('s') # TUPLE을 이렇게 사용하면 tuple으로 지정되지 않고 단일 타입으로 들어간다.\n",
    "print(type(t2))\n",
    "t2 = (1,) # 하나짜리 tuple은 마지막에 , 를 붙여야함\n",
    "print(type(t2))"
   ]
  },
  {
   "cell_type": "code",
   "execution_count": 85,
   "id": "numeric-python",
   "metadata": {},
   "outputs": [
    {
     "name": "stdout",
     "output_type": "stream",
     "text": [
      "{1, 2, 3, 4}\n"
     ]
    }
   ],
   "source": [
    "s = set([1, 2, 3, 4, 3, 4]) # set 은 중복값 무시, \n",
    "print(s)"
   ]
  },
  {
   "cell_type": "code",
   "execution_count": 86,
   "id": "fitted-organic",
   "metadata": {},
   "outputs": [
    {
     "name": "stdout",
     "output_type": "stream",
     "text": [
      "{1, 2, 3, 4}\n"
     ]
    }
   ],
   "source": [
    "s.add(1)\n",
    "print(s)"
   ]
  },
  {
   "cell_type": "code",
   "execution_count": 87,
   "id": "improved-supplier",
   "metadata": {},
   "outputs": [
    {
     "name": "stdout",
     "output_type": "stream",
     "text": [
      "{1, 2, 3, 4}\n",
      "{2, 3, 4}\n"
     ]
    }
   ],
   "source": [
    "s.remove(1)\n",
    "print(s)"
   ]
  },
  {
   "cell_type": "code",
   "execution_count": 164,
   "id": "crucial-textbook",
   "metadata": {},
   "outputs": [
    {
     "ename": "AttributeError",
     "evalue": "'list' object has no attribute 'update'",
     "output_type": "error",
     "traceback": [
      "\u001b[0;31m---------------------------------------------------------------------------\u001b[0m",
      "\u001b[0;31mAttributeError\u001b[0m                            Traceback (most recent call last)",
      "\u001b[0;32m<ipython-input-164-fffd626f8819>\u001b[0m in \u001b[0;36m<module>\u001b[0;34m\u001b[0m\n\u001b[0;32m----> 1\u001b[0;31m \u001b[0ms\u001b[0m\u001b[0;34m.\u001b[0m\u001b[0mupdate\u001b[0m\u001b[0;34m(\u001b[0m\u001b[0;34m[\u001b[0m\u001b[0;36m11\u001b[0m\u001b[0;34m,\u001b[0m\u001b[0;36m22\u001b[0m\u001b[0;34m,\u001b[0m\u001b[0;36m33\u001b[0m\u001b[0;34m,\u001b[0m\u001b[0;36m44\u001b[0m\u001b[0;34m]\u001b[0m\u001b[0;34m)\u001b[0m\u001b[0;34m\u001b[0m\u001b[0;34m\u001b[0m\u001b[0m\n\u001b[0m\u001b[1;32m      2\u001b[0m \u001b[0mprint\u001b[0m\u001b[0;34m(\u001b[0m\u001b[0ms\u001b[0m\u001b[0;34m)\u001b[0m\u001b[0;34m\u001b[0m\u001b[0;34m\u001b[0m\u001b[0m\n",
      "\u001b[0;31mAttributeError\u001b[0m: 'list' object has no attribute 'update'"
     ]
    }
   ],
   "source": [
    "s.update([11,22,33,44])\n",
    "print(s)"
   ]
  },
  {
   "cell_type": "code",
   "execution_count": 163,
   "id": "republican-involvement",
   "metadata": {},
   "outputs": [
    {
     "ename": "AttributeError",
     "evalue": "'list' object has no attribute 'discard'",
     "output_type": "error",
     "traceback": [
      "\u001b[0;31m---------------------------------------------------------------------------\u001b[0m",
      "\u001b[0;31mAttributeError\u001b[0m                            Traceback (most recent call last)",
      "\u001b[0;32m<ipython-input-163-a95d43e8d8eb>\u001b[0m in \u001b[0;36m<module>\u001b[0;34m\u001b[0m\n\u001b[0;32m----> 1\u001b[0;31m \u001b[0ms\u001b[0m\u001b[0;34m.\u001b[0m\u001b[0mdiscard\u001b[0m\u001b[0;34m(\u001b[0m\u001b[0;36m9\u001b[0m\u001b[0;34m)\u001b[0m \u001b[0;31m#remove 는 값이 없으면 에러, discard는 없어도 실행됨\u001b[0m\u001b[0;34m\u001b[0m\u001b[0;34m\u001b[0m\u001b[0m\n\u001b[0m\u001b[1;32m      2\u001b[0m \u001b[0ms\u001b[0m\u001b[0;34m.\u001b[0m\u001b[0mdiscard\u001b[0m\u001b[0;34m(\u001b[0m\u001b[0;36m44\u001b[0m\u001b[0;34m)\u001b[0m\u001b[0;34m\u001b[0m\u001b[0;34m\u001b[0m\u001b[0m\n\u001b[1;32m      3\u001b[0m \u001b[0mprint\u001b[0m\u001b[0;34m(\u001b[0m\u001b[0ms\u001b[0m\u001b[0;34m)\u001b[0m\u001b[0;34m\u001b[0m\u001b[0;34m\u001b[0m\u001b[0m\n\u001b[1;32m      4\u001b[0m \u001b[0mprint\u001b[0m\u001b[0;34m(\u001b[0m\u001b[0ms\u001b[0m\u001b[0;34m[\u001b[0m\u001b[0;36m3\u001b[0m\u001b[0;34m]\u001b[0m\u001b[0;34m)\u001b[0m\u001b[0;34m\u001b[0m\u001b[0;34m\u001b[0m\u001b[0m\n",
      "\u001b[0;31mAttributeError\u001b[0m: 'list' object has no attribute 'discard'"
     ]
    }
   ],
   "source": [
    "s.discard(9) #remove 는 값이 없으면 에러, discard는 없어도 실행됨\n",
    "s.discard(44)\n",
    "print(s)"
   ]
  },
  {
   "cell_type": "code",
   "execution_count": 166,
   "id": "developed-alpha",
   "metadata": {},
   "outputs": [
    {
     "name": "stdout",
     "output_type": "stream",
     "text": [
      "[]\n"
     ]
    },
    {
     "ename": "TypeError",
     "evalue": "'set' object is not subscriptable",
     "output_type": "error",
     "traceback": [
      "\u001b[0;31m---------------------------------------------------------------------------\u001b[0m",
      "\u001b[0;31mTypeError\u001b[0m                                 Traceback (most recent call last)",
      "\u001b[0;32m<ipython-input-166-ae30eca8e50d>\u001b[0m in \u001b[0;36m<module>\u001b[0;34m\u001b[0m\n\u001b[1;32m      2\u001b[0m \u001b[0mprint\u001b[0m\u001b[0;34m(\u001b[0m\u001b[0ms\u001b[0m\u001b[0;34m)\u001b[0m\u001b[0;34m\u001b[0m\u001b[0;34m\u001b[0m\u001b[0m\n\u001b[1;32m      3\u001b[0m \u001b[0ms\u001b[0m \u001b[0;34m=\u001b[0m \u001b[0mset\u001b[0m\u001b[0;34m(\u001b[0m\u001b[0;34m[\u001b[0m\u001b[0;36m1\u001b[0m\u001b[0;34m,\u001b[0m \u001b[0;36m2\u001b[0m\u001b[0;34m,\u001b[0m \u001b[0;36m3\u001b[0m\u001b[0;34m,\u001b[0m \u001b[0;36m4\u001b[0m\u001b[0;34m,\u001b[0m \u001b[0;36m3\u001b[0m\u001b[0;34m,\u001b[0m \u001b[0;36m4\u001b[0m\u001b[0;34m]\u001b[0m\u001b[0;34m)\u001b[0m\u001b[0;34m\u001b[0m\u001b[0;34m\u001b[0m\u001b[0m\n\u001b[0;32m----> 4\u001b[0;31m \u001b[0mprint\u001b[0m\u001b[0;34m(\u001b[0m\u001b[0ms\u001b[0m\u001b[0;34m[\u001b[0m\u001b[0;36m3\u001b[0m\u001b[0;34m]\u001b[0m\u001b[0;34m)\u001b[0m\u001b[0;34m\u001b[0m\u001b[0;34m\u001b[0m\u001b[0m\n\u001b[0m",
      "\u001b[0;31mTypeError\u001b[0m: 'set' object is not subscriptable"
     ]
    }
   ],
   "source": [
    "s.clear() # set 초기화하기\n",
    "print(s)"
   ]
  },
  {
   "cell_type": "code",
   "execution_count": 93,
   "id": "substantial-balloon",
   "metadata": {},
   "outputs": [
    {
     "name": "stdout",
     "output_type": "stream",
     "text": [
      "{1, 2, 3, 4, 5, 6, 7}\n",
      "{1, 2, 3, 4, 5, 6, 7}\n",
      "{3, 4, 5}\n",
      "{3, 4, 5}\n",
      "{1, 2}\n",
      "{1, 2}\n"
     ]
    }
   ],
   "source": [
    "s1 = set([1,2,3,4,5])\n",
    "s2 = set([3,4,5,6,7])\n",
    "\n",
    "print(s1.union(s2)) # 합집합 \n",
    "print(s1 | s2)\n",
    "print(s1.intersection(s2)) # 교집합\n",
    "print(s1 & s2)\n",
    "print(s1.difference(s2)) # 차집합\n",
    "print(s1-s2)"
   ]
  },
  {
   "cell_type": "code",
   "execution_count": 97,
   "id": "interracial-seeker",
   "metadata": {},
   "outputs": [
    {
     "name": "stdout",
     "output_type": "stream",
     "text": [
      "TOM\n"
     ]
    }
   ],
   "source": [
    "#DICTIONARY key:value 값으로 지정하는것, index로 구별 못함\n",
    "student_info = {20190001:'TOM', 20190002:'JANE', 20190003:'MIKE', 20190004:'JESSICA'}\n",
    "print(student_info[20190001])"
   ]
  },
  {
   "cell_type": "code",
   "execution_count": 99,
   "id": "sporting-academy",
   "metadata": {},
   "outputs": [
    {
     "name": "stdout",
     "output_type": "stream",
     "text": [
      "{20190001: 'TOM', 20190002: 'YOO', 20190003: 'MIKE', 20190004: 'JESSICA', 20190005: 'JAMES'}\n",
      "5\n"
     ]
    }
   ],
   "source": [
    "student_info[20190002] = 'YOO' # 기존 값을 변경\n",
    "student_info[20190005] = 'JAMES' # 새로운 값을 추가\n",
    "print(student_info)\n",
    "print(len(student_info)) "
   ]
  },
  {
   "cell_type": "code",
   "execution_count": 105,
   "id": "ongoing-wales",
   "metadata": {},
   "outputs": [
    {
     "name": "stdout",
     "output_type": "stream",
     "text": [
      "{'USA': 1, 'KOREA': 82, 'China': 86, 'Malaysia': 60}\n"
     ]
    }
   ],
   "source": [
    "country_code = {'USA':1, 'KOREA':82, 'China':86, 'Malaysia':60}\n",
    "print(country_code)"
   ]
  },
  {
   "cell_type": "code",
   "execution_count": 106,
   "id": "handed-opinion",
   "metadata": {},
   "outputs": [
    {
     "name": "stdout",
     "output_type": "stream",
     "text": [
      "dict_keys(['USA', 'KOREA', 'China', 'Malaysia'])\n"
     ]
    }
   ],
   "source": [
    "print(country_code.keys()) #key값 표시"
   ]
  },
  {
   "cell_type": "code",
   "execution_count": 107,
   "id": "critical-spain",
   "metadata": {},
   "outputs": [
    {
     "name": "stdout",
     "output_type": "stream",
     "text": [
      "{'USA': 1, 'KOREA': 82, 'China': 86, 'Malaysia': 60, 'German': 49}\n"
     ]
    }
   ],
   "source": [
    "country_code['German'] = 49\n",
    "print(country_code)"
   ]
  },
  {
   "cell_type": "code",
   "execution_count": 108,
   "id": "american-phone",
   "metadata": {},
   "outputs": [
    {
     "name": "stdout",
     "output_type": "stream",
     "text": [
      "dict_items([('USA', 1), ('KOREA', 82), ('China', 86), ('Malaysia', 60), ('German', 49)])\n"
     ]
    }
   ],
   "source": [
    "print(country_code.items()) # key & value 표시"
   ]
  },
  {
   "cell_type": "code",
   "execution_count": 109,
   "id": "improving-delivery",
   "metadata": {},
   "outputs": [
    {
     "name": "stdout",
     "output_type": "stream",
     "text": [
      "Key : USA\n",
      "Value : 1\n",
      "Key : KOREA\n",
      "Value : 82\n",
      "Key : China\n",
      "Value : 86\n",
      "Key : Malaysia\n",
      "Value : 60\n",
      "Key : German\n",
      "Value : 49\n"
     ]
    }
   ],
   "source": [
    "for k, v in country_code.items():\n",
    "    print('Key :', k)\n",
    "    print('Value :', v)"
   ]
  },
  {
   "cell_type": "code",
   "execution_count": 111,
   "id": "viral-boston",
   "metadata": {},
   "outputs": [
    {
     "name": "stdout",
     "output_type": "stream",
     "text": [
      "True\n",
      "False\n"
     ]
    }
   ],
   "source": [
    "print('KOREA' in country_code.keys())\n",
    "print('85' in country_code.values())"
   ]
  },
  {
   "cell_type": "code",
   "execution_count": 112,
   "id": "billion-adobe",
   "metadata": {},
   "outputs": [],
   "source": [
    "# collections 클래스 안의 OrderedDict 을 사용하기 위한 import문 \n",
    "from collections import OrderedDict # 입력한 순서대로 뽑아낼 수 있는 dictionary "
   ]
  },
  {
   "cell_type": "code",
   "execution_count": 114,
   "id": "clinical-hostel",
   "metadata": {},
   "outputs": [
    {
     "name": "stdout",
     "output_type": "stream",
     "text": [
      "{'x': 100, 'y': 200, 'z': 300, 'a': 400}\n"
     ]
    }
   ],
   "source": [
    "d = dict()\n",
    "d['x'] = 100\n",
    "d['y'] = 200\n",
    "d['z'] = 300\n",
    "d['a'] = 400\n",
    "print(d)"
   ]
  },
  {
   "cell_type": "code",
   "execution_count": 116,
   "id": "pharmaceutical-journal",
   "metadata": {},
   "outputs": [
    {
     "name": "stdout",
     "output_type": "stream",
     "text": [
      "OrderedDict([('a', 400), ('x', 100), ('y', 200), ('z', 300)])\n"
     ]
    }
   ],
   "source": [
    "od = OrderedDict(sorted(d.items(), key=lambda x : x[0]))\n",
    "print(od)"
   ]
  },
  {
   "cell_type": "code",
   "execution_count": 121,
   "id": "agreed-satin",
   "metadata": {},
   "outputs": [
    {
     "name": "stdout",
     "output_type": "stream",
     "text": [
      "[('x', 100), ('y', 200), ('z', 300), ('a', 400)]\n"
     ]
    }
   ],
   "source": [
    "od_list = sorted(d.items(), key=lambda x: x[1])\n",
    "print(od_list)"
   ]
  },
  {
   "cell_type": "code",
   "execution_count": 122,
   "id": "ideal-librarian",
   "metadata": {},
   "outputs": [],
   "source": [
    "s = [('yellow', 1), ('blue', 2), ('yellow', 3), ('blue', 4), ('red', 1)]"
   ]
  },
  {
   "cell_type": "code",
   "execution_count": 125,
   "id": "increased-senior",
   "metadata": {},
   "outputs": [
    {
     "name": "stdout",
     "output_type": "stream",
     "text": [
      "dict_items([('yellow', [1, 3]), ('blue', [2, 4]), ('red', [1])])\n"
     ]
    },
    {
     "data": {
      "text/plain": [
       "dict"
      ]
     },
     "execution_count": 125,
     "metadata": {},
     "output_type": "execute_result"
    }
   ],
   "source": [
    "d= dict()\n",
    "for k, v in s:\n",
    "    try: d[k].append(v)\n",
    "    except KeyError:\n",
    "        d[k] = [v]\n",
    "print(d.items())"
   ]
  },
  {
   "cell_type": "code",
   "execution_count": 31,
   "id": "distinct-summer",
   "metadata": {},
   "outputs": [
    {
     "ename": "NameError",
     "evalue": "name 's' is not defined",
     "output_type": "error",
     "traceback": [
      "\u001b[0;31m---------------------------------------------------------------------------\u001b[0m",
      "\u001b[0;31mNameError\u001b[0m                                 Traceback (most recent call last)",
      "\u001b[0;32m<ipython-input-31-c604d310076f>\u001b[0m in \u001b[0;36m<module>\u001b[0;34m\u001b[0m\n\u001b[1;32m      2\u001b[0m \u001b[0md2\u001b[0m \u001b[0;34m=\u001b[0m \u001b[0mdefaultdict\u001b[0m\u001b[0;34m(\u001b[0m\u001b[0mlist\u001b[0m\u001b[0;34m)\u001b[0m \u001b[0;31m#() 안에 여러가지 타입을 지정할 수 있다.\u001b[0m\u001b[0;34m\u001b[0m\u001b[0;34m\u001b[0m\u001b[0m\n\u001b[1;32m      3\u001b[0m \u001b[0;34m\u001b[0m\u001b[0m\n\u001b[0;32m----> 4\u001b[0;31m \u001b[0;32mfor\u001b[0m \u001b[0mk\u001b[0m\u001b[0;34m,\u001b[0m\u001b[0mv\u001b[0m \u001b[0;32min\u001b[0m \u001b[0ms\u001b[0m \u001b[0;34m:\u001b[0m\u001b[0;34m\u001b[0m\u001b[0;34m\u001b[0m\u001b[0m\n\u001b[0m\u001b[1;32m      5\u001b[0m     \u001b[0md2\u001b[0m\u001b[0;34m[\u001b[0m\u001b[0mk\u001b[0m\u001b[0;34m]\u001b[0m\u001b[0;34m.\u001b[0m\u001b[0mappend\u001b[0m\u001b[0;34m(\u001b[0m\u001b[0mv\u001b[0m\u001b[0;34m)\u001b[0m\u001b[0;34m\u001b[0m\u001b[0;34m\u001b[0m\u001b[0m\n\u001b[1;32m      6\u001b[0m \u001b[0;34m\u001b[0m\u001b[0m\n",
      "\u001b[0;31mNameError\u001b[0m: name 's' is not defined"
     ]
    }
   ],
   "source": [
    "from collections import defaultdict #\n",
    "d2 = defaultdict(list) #() 안에 여러가지 타입을 지정할 수 있다.\n",
    "\n",
    "for k,v in s :\n",
    "    d2[k].append(v)\n",
    "    \n",
    "print(d2.items())"
   ]
  },
  {
   "cell_type": "code",
   "execution_count": 127,
   "id": "heavy-apache",
   "metadata": {},
   "outputs": [
    {
     "name": "stdout",
     "output_type": "stream",
     "text": [
      "100\n",
      "1\n"
     ]
    }
   ],
   "source": [
    "d3 = defaultdict(lambda:100)\n",
    "print(d3['first'])"
   ]
  },
  {
   "cell_type": "code",
   "execution_count": 128,
   "id": "abroad-denial",
   "metadata": {},
   "outputs": [
    {
     "name": "stdout",
     "output_type": "stream",
     "text": [
      "Counter({'s': 2, 'i': 2, 't': 2, 'c': 1, 'e': 1, 'n': 1})\n"
     ]
    }
   ],
   "source": [
    "from collections import Counter\n",
    "c = Counter('scientist')\n",
    "print(c)"
   ]
  },
  {
   "cell_type": "code",
   "execution_count": 130,
   "id": "tested-writer",
   "metadata": {},
   "outputs": [
    {
     "name": "stdout",
     "output_type": "stream",
     "text": [
      "Counter({'red': 4, 'blue': 2})\n",
      "['red', 'red', 'red', 'red', 'blue', 'blue']\n"
     ]
    }
   ],
   "source": [
    "c = Counter({'red':4, 'blue':2})\n",
    "print(c)\n",
    "print(list(c.elements()))"
   ]
  },
  {
   "cell_type": "code",
   "execution_count": 132,
   "id": "fantastic-joining",
   "metadata": {},
   "outputs": [
    {
     "name": "stdout",
     "output_type": "stream",
     "text": [
      "Counter({'dogs': 6, 'cats': 4})\n",
      "['cats', 'cats', 'cats', 'cats', 'dogs', 'dogs', 'dogs', 'dogs', 'dogs', 'dogs']\n"
     ]
    }
   ],
   "source": [
    "c = Counter(cats=4, dogs=6)\n",
    "print(c)\n",
    "print(list(c.elements()))"
   ]
  },
  {
   "cell_type": "code",
   "execution_count": 133,
   "id": "early-french",
   "metadata": {},
   "outputs": [
    {
     "name": "stdout",
     "output_type": "stream",
     "text": [
      "Counter({'a': 5, 'b': 4, 'c': 3, 'd': 2})\n",
      "Counter({'a': 4, 'd': 4, 'c': 3, 'b': 2})\n",
      "Counter({'b': 2, 'a': 1})\n",
      "Counter({'a': 3, 'b': 0, 'c': -3, 'd': -6})\n"
     ]
    }
   ],
   "source": [
    "c = Counter(a=4, b=2, c=0, d=-2)\n",
    "d = Counter(a=1, b=2, c=3, d=4)\n",
    "\n",
    "print(c + d)\n",
    "print(c | d)\n",
    "print(c & d)\n",
    "\n",
    "c.subtract(d)\n",
    "print(c)"
   ]
  },
  {
   "cell_type": "code",
   "execution_count": 36,
   "id": "joined-namibia",
   "metadata": {},
   "outputs": [],
   "source": [
    "text = \"\"\"A press release is the quickest and easiest way to get free publicity. If\n",
    " well written, a press release can result in multiple published articles about your\n",
    "firm and its products. And that can mean new prospects contacting you\n",
    "asking you to sell to them. ….\"\"\".lower().split()\n",
    "    "
   ]
  },
  {
   "cell_type": "code",
   "execution_count": 37,
   "id": "fleet-taiwan",
   "metadata": {},
   "outputs": [],
   "source": [
    "word_count = defaultdict(lambda:0)\n",
    "for word in text:\n",
    "    word_count[word] +=1"
   ]
  },
  {
   "cell_type": "code",
   "execution_count": 40,
   "id": "broad-drain",
   "metadata": {},
   "outputs": [
    {
     "name": "stdout",
     "output_type": "stream",
     "text": [
      "and 3\n",
      "to 3\n",
      "a 2\n",
      "press 2\n",
      "release 2\n",
      "can 2\n",
      "you 2\n",
      "is 1\n",
      "the 1\n",
      "quickest 1\n",
      "easiest 1\n",
      "way 1\n",
      "get 1\n",
      "free 1\n",
      "publicity. 1\n",
      "if 1\n",
      "well 1\n",
      "written, 1\n",
      "result 1\n",
      "in 1\n",
      "multiple 1\n",
      "published 1\n",
      "articles 1\n",
      "about 1\n",
      "your 1\n",
      "firm 1\n",
      "its 1\n",
      "products. 1\n",
      "that 1\n",
      "mean 1\n",
      "new 1\n",
      "prospects 1\n",
      "contacting 1\n",
      "asking 1\n",
      "sell 1\n",
      "them. 1\n",
      "…. 1\n"
     ]
    }
   ],
   "source": [
    "for k, v in OrderedDict(sorted(word_count.items(), key=lambda t : t[1], reverse=True)).items():\n",
    "    print(k, v)"
   ]
  },
  {
   "cell_type": "code",
   "execution_count": 142,
   "id": "ignored-mentor",
   "metadata": {},
   "outputs": [
    {
     "name": "stdout",
     "output_type": "stream",
     "text": [
      "[0, 1, 2, 3, 4, 5, 6, 7, 8, 9]\n"
     ]
    }
   ],
   "source": [
    "result =[]\n",
    "for i in range(10):\n",
    "    result.append(i)\n",
    "print(result)"
   ]
  },
  {
   "cell_type": "code",
   "execution_count": 143,
   "id": "built-citizen",
   "metadata": {},
   "outputs": [
    {
     "name": "stdout",
     "output_type": "stream",
     "text": [
      "[0, 1, 2, 3, 4, 5, 6, 7, 8, 9]\n"
     ]
    }
   ],
   "source": [
    "result2 = [i for i in range(10)]# List Comprehension\n",
    "print(result2)"
   ]
  },
  {
   "cell_type": "code",
   "execution_count": 144,
   "id": "preceding-tenant",
   "metadata": {},
   "outputs": [
    {
     "name": "stdout",
     "output_type": "stream",
     "text": [
      "[0, 2, 4, 6, 8]\n"
     ]
    }
   ],
   "source": [
    "result = []\n",
    "for i in range(10):\n",
    "    if i % 2==0:\n",
    "        result.append(i)\n",
    "print(result)"
   ]
  },
  {
   "cell_type": "code",
   "execution_count": 151,
   "id": "hearing-hungary",
   "metadata": {},
   "outputs": [
    {
     "name": "stdout",
     "output_type": "stream",
     "text": [
      "[0, 2, 4, 6, 8]\n"
     ]
    }
   ],
   "source": [
    "result3 = [i for i in range(10) if i % 2 ==0]\n",
    "print(result3)"
   ]
  },
  {
   "cell_type": "code",
   "execution_count": 152,
   "id": "incorrect-chess",
   "metadata": {},
   "outputs": [
    {
     "name": "stdout",
     "output_type": "stream",
     "text": [
      "[0, 99, 2, 99, 4, 99, 6, 99, 8, 99]\n"
     ]
    }
   ],
   "source": [
    "result4 = [i if i %2 ==0 else 99 for i in range(10)] # else 까지 포함되면 for 문이 뒤로간다.\n",
    "print(result4)"
   ]
  },
  {
   "cell_type": "code",
   "execution_count": 160,
   "id": "behavioral-textbook",
   "metadata": {},
   "outputs": [
    {
     "name": "stdout",
     "output_type": "stream",
     "text": [
      "['HWB', 'HWi', 'HWt', 'HoB', 'Hoi', 'Hot', 'HrB', 'Hri', 'Hrt', 'HlB', 'Hli', 'Hlt', 'HdB', 'Hdi', 'Hdt', 'eWB', 'eWi', 'eWt', 'eoB', 'eoi', 'eot', 'erB', 'eri', 'ert', 'elB', 'eli', 'elt', 'edB', 'edi', 'edt', 'lWB', 'lWi', 'lWt', 'loB', 'loi', 'lot', 'lrB', 'lri', 'lrt', 'llB', 'lli', 'llt', 'ldB', 'ldi', 'ldt', 'lWB', 'lWi', 'lWt', 'loB', 'loi', 'lot', 'lrB', 'lri', 'lrt', 'llB', 'lli', 'llt', 'ldB', 'ldi', 'ldt', 'oWB', 'oWi', 'oWt', 'ooB', 'ooi', 'oot', 'orB', 'ori', 'ort', 'olB', 'oli', 'olt', 'odB', 'odi', 'odt']\n"
     ]
    }
   ],
   "source": [
    "word1 = 'Hello'\n",
    "word2 = 'World'\n",
    "word3 = 'Bit'\n",
    "result5 = [i + j + k for i in word1 for j in word2 for k in word3]\n",
    "print(result5)"
   ]
  },
  {
   "cell_type": "code",
   "execution_count": 161,
   "id": "religious-mainland",
   "metadata": {
    "scrolled": true
   },
   "outputs": [
    {
     "name": "stdout",
     "output_type": "stream",
     "text": [
      "{'loi', 'Hli', 'eWi', 'lrB', 'oot', 'orB', 'lWi', 'loB', 'HrB', 'llB', 'llt', 'ldB', 'odB', 'odi', 'ldt', 'oWt', 'lli', 'elB', 'HlB', 'olt', 'ort', 'lWt', 'eli', 'oli', 'lri', 'eot', 'eWt', 'Hdi', 'Hot', 'Hrt', 'HoB', 'oWi', 'eWB', 'HdB', 'eri', 'odt', 'edt', 'eoi', 'ert', 'Hri', 'elt', 'HWt', 'edB', 'edi', 'Hlt', 'erB', 'lWB', 'ldi', 'HWB', 'lot', 'eoB', 'Hdt', 'ooB', 'ooi', 'ori', 'olB', 'oWB', 'Hoi', 'lrt', 'HWi'}\n"
     ]
    }
   ],
   "source": [
    "word1 = 'Hello'\n",
    "word2 = 'World'\n",
    "word3 = 'Bit'\n",
    "result5 = set([i + j + k for i in word1 for j in word2 for k in word3])\n",
    "print(result5)"
   ]
  },
  {
   "cell_type": "code",
   "execution_count": 168,
   "id": "characteristic-grammar",
   "metadata": {},
   "outputs": [
    {
     "name": "stdout",
     "output_type": "stream",
     "text": [
      "Hli\n",
      "{'eWi', 'lrB', 'oot', 'orB', 'lWi', 'loB', 'HrB', 'llB', 'llt', 'ldB', 'odB', 'odi', 'ldt', 'oWt', 'lli', 'elB', 'HlB', 'olt', 'ort', 'lWt', 'eli', 'oli', 'lri', 'eot', 'eWt', 'Hdi', 'Hot', 'Hrt', 'HoB', 'oWi', 'eWB', 'HdB', 'eri', 'odt', 'edt', 'eoi', 'ert', 'Hri', 'elt', 'HWt', 'edB', 'edi', 'Hlt', 'erB', 'lWB', 'ldi', 'HWB', 'lot', 'eoB', 'Hdt', 'ooB', 'ooi', 'ori', 'olB', 'oWB', 'Hoi', 'lrt', 'HWi'}\n"
     ]
    }
   ],
   "source": [
    "case1 = ['A', 'B', 'C']\n",
    "case2 = ['D', 'E', 'F']\n",
    "print(result5.pop())\n",
    "print(result5)"
   ]
  },
  {
   "cell_type": "code",
   "execution_count": 169,
   "id": "initial-portsmouth",
   "metadata": {},
   "outputs": [
    {
     "name": "stdout",
     "output_type": "stream",
     "text": [
      "a1 b1\n",
      "a2 b2\n",
      "a3 b3\n"
     ]
    }
   ],
   "source": [
    "alist = ['a1','a2','a3']\n",
    "blist = ['b1','b2','b3','b4']\n",
    "for a,b in zip(alist, blist):\n",
    "    print(a, b)"
   ]
  },
  {
   "cell_type": "code",
   "execution_count": 2,
   "id": "confident-saying",
   "metadata": {},
   "outputs": [],
   "source": [
    "import random\n",
    "random.seed(3) # random을 사용하며 난수를 발생시키는데 random은 random인데 완전 랜덤은 아닌거\n",
    "\n",
    "\n"
   ]
  },
  {
   "cell_type": "code",
   "execution_count": 247,
   "id": "lightweight-nancy",
   "metadata": {},
   "outputs": [
    {
     "name": "stdout",
     "output_type": "stream",
     "text": [
      "[0.3949634040007439, 0.8009087709852283, 0.44462105605076063, 0.9355867217045211]\n"
     ]
    }
   ],
   "source": [
    "four_uniform_randoms = [random.random() for _ in range(4)]\n",
    "print(four_uniform_randoms)"
   ]
  },
  {
   "cell_type": "code",
   "execution_count": 228,
   "id": "academic-airplane",
   "metadata": {},
   "outputs": [
    {
     "name": "stdout",
     "output_type": "stream",
     "text": [
      "9\n",
      "5\n"
     ]
    }
   ],
   "source": [
    "print(random.randrange(10)) # 범위를 지정해주고 그 범위안의 정수를 랜덤으로 발생시키는 것\n",
    "print(random.randrange(2,8))"
   ]
  },
  {
   "cell_type": "code",
   "execution_count": 204,
   "id": "illegal-video",
   "metadata": {},
   "outputs": [
    {
     "name": "stdout",
     "output_type": "stream",
     "text": [
      "[6, 10, 5, 4, 7, 8, 9, 1, 3, 2]\n"
     ]
    }
   ],
   "source": [
    "up_to_ten = [1,2,3,4,5,6,7,8,9,10]\n",
    "random.shuffle(up_to_ten)\n",
    "print(up_to_ten)"
   ]
  },
  {
   "cell_type": "code",
   "execution_count": 1,
   "id": "afraid-acrobat",
   "metadata": {},
   "outputs": [
    {
     "ename": "NameError",
     "evalue": "name 'random' is not defined",
     "output_type": "error",
     "traceback": [
      "\u001b[0;31m---------------------------------------------------------------------------\u001b[0m",
      "\u001b[0;31mNameError\u001b[0m                                 Traceback (most recent call last)",
      "\u001b[0;32m<ipython-input-1-687945855d18>\u001b[0m in \u001b[0;36m<module>\u001b[0;34m\u001b[0m\n\u001b[0;32m----> 1\u001b[0;31m \u001b[0mmy_best_friend\u001b[0m \u001b[0;34m=\u001b[0m \u001b[0mrandom\u001b[0m\u001b[0;34m.\u001b[0m\u001b[0mchoice\u001b[0m\u001b[0;34m(\u001b[0m\u001b[0;34m[\u001b[0m\u001b[0;34m\"Alice\"\u001b[0m\u001b[0;34m,\u001b[0m \u001b[0;34m\"Bob\"\u001b[0m\u001b[0;34m,\u001b[0m \u001b[0;34m\"Charlie\"\u001b[0m\u001b[0;34m]\u001b[0m\u001b[0;34m)\u001b[0m\u001b[0;34m\u001b[0m\u001b[0;34m\u001b[0m\u001b[0m\n\u001b[0m\u001b[1;32m      2\u001b[0m \u001b[0mprint\u001b[0m\u001b[0;34m(\u001b[0m\u001b[0mmy_best_friend\u001b[0m\u001b[0;34m)\u001b[0m\u001b[0;34m\u001b[0m\u001b[0;34m\u001b[0m\u001b[0m\n",
      "\u001b[0;31mNameError\u001b[0m: name 'random' is not defined"
     ]
    }
   ],
   "source": [
    "my_best_friend = random.choice([\"Alice\", \"Bob\", \"Charlie\"])\n",
    "print(my_best_friend)"
   ]
  },
  {
   "cell_type": "code",
   "execution_count": 3,
   "id": "binary-glasgow",
   "metadata": {},
   "outputs": [
    {
     "name": "stdout",
     "output_type": "stream",
     "text": [
      "range(0, 60)\n"
     ]
    }
   ],
   "source": [
    "lottery_numbers = range(60)\n",
    "print(lottery_numbers)"
   ]
  },
  {
   "cell_type": "code",
   "execution_count": 5,
   "id": "chubby-communist",
   "metadata": {},
   "outputs": [
    {
     "name": "stdout",
     "output_type": "stream",
     "text": [
      "[21, 36, 19, 59, 30, 48, 1, 5, 32, 31]\n"
     ]
    }
   ],
   "source": [
    "winning_numbers = random.sample(lottery_numbers, 10)\n",
    "print(winning_numbers)"
   ]
  },
  {
   "cell_type": "code",
   "execution_count": 6,
   "id": "interesting-redhead",
   "metadata": {},
   "outputs": [
    {
     "name": "stdout",
     "output_type": "stream",
     "text": [
      "5\n"
     ]
    }
   ],
   "source": [
    "def f(x, y):\n",
    "    return x + y\n",
    "print(f(1,4))"
   ]
  },
  {
   "cell_type": "code",
   "execution_count": 8,
   "id": "concerned-horror",
   "metadata": {},
   "outputs": [
    {
     "name": "stdout",
     "output_type": "stream",
     "text": [
      "5\n"
     ]
    }
   ],
   "source": [
    "f = lambda x, y : x + y # 함수를 간단하게 표현하기 위한 식 , [parameter : 함수식] 으로 표현\n",
    "print(f(1,4))"
   ]
  },
  {
   "cell_type": "code",
   "execution_count": 10,
   "id": "speaking-ferry",
   "metadata": {},
   "outputs": [
    {
     "name": "stdout",
     "output_type": "stream",
     "text": [
      "5\n"
     ]
    }
   ],
   "source": [
    "print((lambda x,y : x+y)(1,4))"
   ]
  },
  {
   "cell_type": "code",
   "execution_count": 18,
   "id": "handled-notion",
   "metadata": {},
   "outputs": [
    {
     "name": "stdout",
     "output_type": "stream",
     "text": [
      "3\n",
      "8\n"
     ]
    }
   ],
   "source": [
    "print((lambda n, m : n if n%2 ==0 else m)(1,3))\n",
    "print((lambda n, m : n if n%2 ==0 else m)(8,3))\n"
   ]
  },
  {
   "cell_type": "code",
   "execution_count": 19,
   "id": "universal-turning",
   "metadata": {},
   "outputs": [
    {
     "name": "stdout",
     "output_type": "stream",
     "text": [
      "True\n",
      "False\n"
     ]
    }
   ],
   "source": [
    "def makeFunc(n) : #Closure 라는 함수를 받는 람다 사용법\n",
    "    return lambda a : a % n ==1\n",
    "\n",
    "isOdd = makeFunc(2)\n",
    "print(isOdd(3))\n",
    "print(isOdd(4))"
   ]
  },
  {
   "cell_type": "code",
   "execution_count": 72,
   "id": "secret-portuguese",
   "metadata": {},
   "outputs": [
    {
     "name": "stdout",
     "output_type": "stream",
     "text": [
      "3 6\n",
      "[4]\n"
     ]
    }
   ],
   "source": [
    "from collections import defaultdict\n",
    "from collections import OrderedDict\n",
    "\n",
    "N = 4\n",
    "stages = [2, 1, 2, 6, 2, 4, 3, 3]\n",
    "\n",
    "def solution(N, stages):\n",
    "    answer =[]\n",
    "    count = defaultdict(lambda:0)\n",
    "\n",
    "    for cnt in stages:\n",
    "        count[cnt] +=1\n",
    "    for k, v in OrderedDict(sorted(count.items(), key=lambda t : t[1], reverse=True)).items():    \n",
    "        if(k > N) :\n",
    "            k=0\n",
    "        elif(k==N):\n",
    "            k=k-1\n",
    "        answer.append(k+1)\n",
    "        print(k, v)\n",
    "        \n",
    "    return answer\n",
    "\n",
    "print(solution(N,stages))"
   ]
  },
  {
   "cell_type": "code",
   "execution_count": 25,
   "id": "worse-induction",
   "metadata": {},
   "outputs": [
    {
     "name": "stdout",
     "output_type": "stream",
     "text": [
      "1 (2, 3, 4, 5, 6)\n",
      "<class 'tuple'>\n"
     ]
    }
   ],
   "source": [
    "def asterisk_test(a, *args):\n",
    "    print(a, args)\n",
    "    print(type(args))\n",
    "    \n",
    "asterisk_test(1,2,3,4,5,6)"
   ]
  },
  {
   "cell_type": "code",
   "execution_count": 29,
   "id": "activated-prince",
   "metadata": {},
   "outputs": [
    {
     "name": "stdout",
     "output_type": "stream",
     "text": [
      "1 {'b': 2, 'c': 3, 'd': 4, 'e': 5, 'f': 6}\n",
      "<class 'dict'>\n"
     ]
    }
   ],
   "source": [
    "def asterisk_test2(a, **kargs):\n",
    "    print(a, kargs)\n",
    "    print(type(kargs))\n",
    "    \n",
    "asterisk_test2(1, b=2, c=3, d=4, e=5, f=6)"
   ]
  },
  {
   "cell_type": "code",
   "execution_count": 58,
   "id": "jewish-register",
   "metadata": {},
   "outputs": [
    {
     "name": "stdout",
     "output_type": "stream",
     "text": [
      "1 2 3 4 5 6\n",
      "<class 'tuple'>\n"
     ]
    }
   ],
   "source": [
    "def unpacking_test(a, args):\n",
    "    print(a, *args)\n",
    "    print(type(args))\n",
    "    \n",
    "unpacking_test(1,(2,3,4,5,6))"
   ]
  },
  {
   "cell_type": "code",
   "execution_count": 74,
   "id": "seeing-woman",
   "metadata": {},
   "outputs": [
    {
     "name": "stdout",
     "output_type": "stream",
     "text": [
      "270 280 280\n"
     ]
    }
   ],
   "source": [
    "tom_score = [95, 85, 90]\n",
    "jane_score = [90, 90, 100]\n",
    "kate_score = [100, 100, 80]\n",
    "students_scores = [tom_score, jane_score, kate_score]\n",
    "tom_total =0\n",
    "kate_total =0\n",
    "jane_total =0\n",
    "for tom, jane, kate in zip(*students_scores):\n",
    "    tom_total += tom\n",
    "    jane_total += jane\n",
    "    kate_total += kate\n",
    "    \n",
    "print(tom_total, jane_total, kate_total)"
   ]
  },
  {
   "cell_type": "code",
   "execution_count": 76,
   "id": "british-entry",
   "metadata": {},
   "outputs": [
    {
     "name": "stdout",
     "output_type": "stream",
     "text": [
      "[0, 9]\n"
     ]
    }
   ],
   "source": [
    "u = [2, 2]\n",
    "v = [1, 2]\n",
    "z = [-3, 5]\n",
    "result = []\n",
    "\n",
    "for i in range(len(u)):\n",
    "    result.append(u[i] + v[i] + z[i])\n",
    "    \n",
    "print(result)"
   ]
  },
  {
   "cell_type": "code",
   "execution_count": 79,
   "id": "effective-thirty",
   "metadata": {},
   "outputs": [
    {
     "name": "stdout",
     "output_type": "stream",
     "text": [
      "[0, 9]\n"
     ]
    }
   ],
   "source": [
    "result1 = [sum(t) for t in zip(u, v, z)]\n",
    "print(result1)"
   ]
  },
  {
   "cell_type": "code",
   "execution_count": 83,
   "id": "capable-world",
   "metadata": {},
   "outputs": [
    {
     "name": "stdout",
     "output_type": "stream",
     "text": [
      "[0, 9]\n"
     ]
    }
   ],
   "source": [
    "result2 = []\n",
    "def vector_addition(*args):\n",
    "    return [sum(t) for t in zip(*args)]\n",
    "vectors = [[2, 2], [1, 2], [-3, 5]]\n",
    "print(vector_addition(*vectors)) "
   ]
  }
 ],
 "metadata": {
  "kernelspec": {
   "display_name": "Python 3",
   "language": "python",
   "name": "python3"
  },
  "language_info": {
   "codemirror_mode": {
    "name": "ipython",
    "version": 3
   },
   "file_extension": ".py",
   "mimetype": "text/x-python",
   "name": "python",
   "nbconvert_exporter": "python",
   "pygments_lexer": "ipython3",
   "version": "3.8.8"
  }
 },
 "nbformat": 4,
 "nbformat_minor": 5
}
