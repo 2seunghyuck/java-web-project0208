{
 "cells": [
  {
   "cell_type": "code",
   "execution_count": 1,
   "id": "ad0a8fdb",
   "metadata": {},
   "outputs": [],
   "source": [
    "from tensorflow.keras.models import Sequential\n",
    "from tensorflow.keras.layers import Dense, Flatten,Embedding\n",
    "from tensorflow.keras.preprocessing.text import Tokenizer\n",
    "from tensorflow.keras.preprocessing.sequence import pad_sequences\n",
    "from tensorflow.keras.preprocessing.text import text_to_word_sequence\n",
    "from numpy import array"
   ]
  },
  {
   "cell_type": "code",
   "execution_count": 2,
   "id": "a0104a75",
   "metadata": {},
   "outputs": [
    {
     "name": "stdout",
     "output_type": "stream",
     "text": [
      "\n",
      "원문: \n",
      " 해보지 않으면 해낼 수 없다\n",
      "\n",
      "토큰 화: \n",
      " ['해보지', '않으면', '해낼', '수', '없다']\n"
     ]
    }
   ],
   "source": [
    "#전 처리할 텍스트 정하기\n",
    "text = '해보지 않으면 해낼 수 없다'\n",
    "\n",
    "#해당 텍스트 토큰화\n",
    "result = text_to_word_sequence(text)\n",
    "print(\"\\n원문: \\n\", text)\n",
    "print(\"\\n토큰 화: \\n\", result)"
   ]
  },
  {
   "cell_type": "code",
   "execution_count": 3,
   "id": "ddab4258",
   "metadata": {},
   "outputs": [],
   "source": [
    "# 전처리 하려는 세개의 문장 정하기\n",
    "docs = ['먼저 텍스트의 각 단어를 나누어 토큰화 합니다.',\n",
    "       '텍스트의 단어로 토큰화 해야 딥러닝에서 인식됩니다.',\n",
    "       '토큰화 한 결과는 딥러닝에서 사용 할 수 있습니다.',\n",
    "       ]\n",
    "\n",
    "#토큰화 함수를 이용해 전처리 하는과정\n",
    "token = Tokenizer() # 토큰화 함수 지정\n",
    "token.fit_on_texts(docs) # 토큰화 함수에 문장 적용하기\n"
   ]
  },
  {
   "cell_type": "code",
   "execution_count": 4,
   "id": "d8a6585f",
   "metadata": {},
   "outputs": [
    {
     "name": "stdout",
     "output_type": "stream",
     "text": [
      "\n",
      "단어 카운트 :  OrderedDict([('먼저', 1), ('텍스트의', 2), ('각', 1), ('단어를', 1), ('나누어', 1), ('토큰화', 3), ('합니다', 1), ('단어로', 1), ('해야', 1), ('딥러닝에서', 2), ('인식됩니다', 1), ('한', 1), ('결과는', 1), ('사용', 1), ('할', 1), ('수', 1), ('있습니다', 1)])\n"
     ]
    }
   ],
   "source": [
    "#각 옵션에 맞춰 단어의 빈도ㄹ수를 계산한 결과 출력\n",
    "print(\"\\n단어 카운트 : \", token.word_counts)"
   ]
  },
  {
   "cell_type": "code",
   "execution_count": 6,
   "id": "1f6c9cdd",
   "metadata": {},
   "outputs": [
    {
     "name": "stdout",
     "output_type": "stream",
     "text": [
      "\n",
      "문장 카운트 :  3\n",
      "\n",
      "각 단어가 몇개의 문장에 포함되어 있는가 :\n",
      "  defaultdict(<class 'int'>, {'합니다': 1, '각': 1, '먼저': 1, '단어를': 1, '텍스트의': 2, '나누어': 1, '토큰화': 3, '단어로': 1, '해야': 1, '인식됩니다': 1, '딥러닝에서': 2, '수': 1, '있습니다': 1, '결과는': 1, '한': 1, '사용': 1, '할': 1})\n",
      "\n",
      "각 단어에 매겨진 인덱스 값 : \n",
      " {'토큰화': 1, '텍스트의': 2, '딥러닝에서': 3, '먼저': 4, '각': 5, '단어를': 6, '나누어': 7, '합니다': 8, '단어로': 9, '해야': 10, '인식됩니다': 11, '한': 12, '결과는': 13, '사용': 14, '할': 15, '수': 16, '있습니다': 17}\n"
     ]
    }
   ],
   "source": [
    "#출력 순서는 랜덤\n",
    "print(\"\\n문장 카운트 : \", token.document_count)\n",
    "print(\"\\n각 단어가 몇개의 문장에 포함되어 있는가 :\\n \", token.word_docs)\n",
    "print(\"\\n각 단어에 매겨진 인덱스 값 : \\n\", token.word_index)"
   ]
  },
  {
   "cell_type": "code",
   "execution_count": 7,
   "id": "86bde4e3",
   "metadata": {},
   "outputs": [
    {
     "name": "stdout",
     "output_type": "stream",
     "text": [
      "{'오랫동안': 1, '꿈꾸는': 2, '이는': 3, '그': 4, '꿈을': 5, '닮아간다': 6}\n"
     ]
    }
   ],
   "source": [
    "text = \"오랫동안 꿈꾸는 이는 그 꿈을 닮아간다\"\n",
    "\n",
    "token = Tokenizer()\n",
    "token.fit_on_texts([text])\n",
    "print(token.word_index)"
   ]
  },
  {
   "cell_type": "code",
   "execution_count": 8,
   "id": "b8a811e3",
   "metadata": {},
   "outputs": [
    {
     "name": "stdout",
     "output_type": "stream",
     "text": [
      "[[1, 2, 3, 4, 5, 6]]\n"
     ]
    }
   ],
   "source": [
    "# 인덱스만 뽑아줌\n",
    "x = token.texts_to_sequences([text])\n",
    "print(x)"
   ]
  },
  {
   "cell_type": "code",
   "execution_count": 9,
   "id": "28b5f110",
   "metadata": {},
   "outputs": [],
   "source": [
    "from tensorflow.keras.utils import to_categorical\n",
    "\n",
    "#원 핫 인코딩\n",
    "word_size = len(token.word_index) +1\n",
    "x = to_categorical(x, num_classes=word_size)"
   ]
  },
  {
   "cell_type": "code",
   "execution_count": 10,
   "id": "b5ecf0f0",
   "metadata": {},
   "outputs": [
    {
     "name": "stdout",
     "output_type": "stream",
     "text": [
      "{'너무': 1, '재밌네요': 2, '최고예요': 3, '참': 4, '잘': 5, '만든': 6, '영화예요': 7, '추천하고': 8, '싶은': 9, '영화입니다': 10, '한번': 11, '더': 12, '보고싶네요': 13, '글쎄요': 14, '별로예요': 15, '생각보다': 16, '지루하네요': 17, '연기가': 18, '어색해요': 19, '재미없어요': 20}\n",
      "\n",
      "리뷰 텍스트, 토큰화 결과\n",
      " [[1, 2], [3], [4, 5, 6, 7], [8, 9, 10], [11, 12, 13], [14], [15], [16, 17], [18, 19], [20]]\n"
     ]
    }
   ],
   "source": [
    "# 텍스트 리뷰 자료를 지정합니다.\n",
    "docs = [\"너무 재밌네요\",\"최고예요\",\"참 잘 만든 영화예요\",\"추천하고 싶은 영화입니다\",\"한번 더 보고싶네요\",\n",
    "        \"글쎄요\",\"별로예요\",\"생각보다 지루하네요\",\"연기가 어색해요\",\"재미없어요\"]\n",
    "\n",
    "# 긍정리뷰는 1, 부정리뷰는 0으로 클래스를 지정합니다.\n",
    "classes = array([1,1,1,1,1,0,0,0,0,0])\n",
    "\n",
    "token = Tokenizer()\n",
    "token.fit_on_texts(docs)\n",
    "print(token.word_index)\n",
    "x = token.texts_to_sequences(docs)\n",
    "print(\"\\n리뷰 텍스트, 토큰화 결과\\n\", x)\n"
   ]
  },
  {
   "cell_type": "code",
   "execution_count": 11,
   "id": "8edf69c9",
   "metadata": {},
   "outputs": [
    {
     "name": "stdout",
     "output_type": "stream",
     "text": [
      "\n",
      " 패딩 결과:\n",
      "  [[ 0  0  1  2]\n",
      " [ 0  0  0  3]\n",
      " [ 4  5  6  7]\n",
      " [ 0  8  9 10]\n",
      " [ 0 11 12 13]\n",
      " [ 0  0  0 14]\n",
      " [ 0  0  0 15]\n",
      " [ 0  0 16 17]\n",
      " [ 0  0 18 19]\n",
      " [ 0  0  0 20]]\n"
     ]
    }
   ],
   "source": [
    "# 학습을 하기위해선 데이터의 길이를 맞춰줘야한다.\n",
    "padded_x = pad_sequences(x, 4)\n",
    "print(\"\\n 패딩 결과:\\n \", padded_x)"
   ]
  },
  {
   "cell_type": "code",
   "execution_count": 13,
   "id": "5d889aa9",
   "metadata": {},
   "outputs": [
    {
     "name": "stdout",
     "output_type": "stream",
     "text": [
      "Train on 10 samples\n",
      "Epoch 1/20\n",
      "10/10 [==============================] - 4s 375ms/sample - loss: 0.6892 - accuracy: 0.6000\n",
      "Epoch 2/20\n",
      "10/10 [==============================] - 0s 469us/sample - loss: 0.6874 - accuracy: 0.6000\n",
      "Epoch 3/20\n",
      "10/10 [==============================] - 0s 736us/sample - loss: 0.6857 - accuracy: 0.7000\n",
      "Epoch 4/20\n",
      "10/10 [==============================] - 0s 609us/sample - loss: 0.6839 - accuracy: 0.7000\n",
      "Epoch 5/20\n",
      "10/10 [==============================] - 0s 662us/sample - loss: 0.6821 - accuracy: 0.8000\n",
      "Epoch 6/20\n",
      "10/10 [==============================] - 0s 492us/sample - loss: 0.6803 - accuracy: 0.9000\n",
      "Epoch 7/20\n",
      "10/10 [==============================] - 0s 565us/sample - loss: 0.6785 - accuracy: 0.9000\n",
      "Epoch 8/20\n",
      "10/10 [==============================] - 0s 483us/sample - loss: 0.6767 - accuracy: 0.9000\n",
      "Epoch 9/20\n",
      "10/10 [==============================] - 0s 615us/sample - loss: 0.6748 - accuracy: 0.9000\n",
      "Epoch 10/20\n",
      "10/10 [==============================] - 0s 699us/sample - loss: 0.6730 - accuracy: 0.9000\n",
      "Epoch 11/20\n",
      "10/10 [==============================] - 0s 547us/sample - loss: 0.6711 - accuracy: 0.9000\n",
      "Epoch 12/20\n",
      "10/10 [==============================] - 0s 602us/sample - loss: 0.6693 - accuracy: 0.9000\n",
      "Epoch 13/20\n",
      "10/10 [==============================] - 0s 492us/sample - loss: 0.6674 - accuracy: 0.9000\n",
      "Epoch 14/20\n",
      "10/10 [==============================] - 0s 609us/sample - loss: 0.6655 - accuracy: 0.9000\n",
      "Epoch 15/20\n",
      "10/10 [==============================] - 0s 502us/sample - loss: 0.6636 - accuracy: 0.9000\n",
      "Epoch 16/20\n",
      "10/10 [==============================] - 0s 490us/sample - loss: 0.6617 - accuracy: 0.9000\n",
      "Epoch 17/20\n",
      "10/10 [==============================] - 0s 565us/sample - loss: 0.6598 - accuracy: 0.9000\n",
      "Epoch 18/20\n",
      "10/10 [==============================] - 0s 621us/sample - loss: 0.6578 - accuracy: 0.9000\n",
      "Epoch 19/20\n",
      "10/10 [==============================] - 0s 524us/sample - loss: 0.6559 - accuracy: 0.9000\n",
      "Epoch 20/20\n",
      "10/10 [==============================] - 0s 743us/sample - loss: 0.6539 - accuracy: 0.9000\n",
      "10/1 [============================================================================================================================================================================================================================================================================================================] - 0s 36ms/sample - loss: 0.6519 - accuracy: 0.9000\n",
      "\n",
      " Accuracy :0.9000\n"
     ]
    }
   ],
   "source": [
    "# 임베딩에 입력될 단어의 수를 지정합니다.\n",
    "word_size = len(token.word_index) +1\n",
    "model = Sequential()\n",
    "model.add(Embedding(word_size, 8 , input_length=4))\n",
    "model.add(Flatten())\n",
    "model.add(Dense(1, activation='sigmoid'))\n",
    "model.compile(optimizer='adam', loss='binary_crossentropy', metrics=['accuracy'])\n",
    "model.fit(padded_x, classes, epochs=20)\n",
    "\n",
    "print(\"\\n Accuracy :%.4f\" % (model.evaluate(padded_x, classes)[1]))"
   ]
  },
  {
   "cell_type": "code",
   "execution_count": null,
   "id": "1bc7f9eb",
   "metadata": {},
   "outputs": [],
   "source": []
  }
 ],
 "metadata": {
  "kernelspec": {
   "display_name": "Python 3",
   "language": "python",
   "name": "python3"
  },
  "language_info": {
   "codemirror_mode": {
    "name": "ipython",
    "version": 3
   },
   "file_extension": ".py",
   "mimetype": "text/x-python",
   "name": "python",
   "nbconvert_exporter": "python",
   "pygments_lexer": "ipython3",
   "version": "3.7.10"
  }
 },
 "nbformat": 4,
 "nbformat_minor": 5
}
