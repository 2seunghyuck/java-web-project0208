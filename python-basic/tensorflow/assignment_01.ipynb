{
 "cells": [
  {
   "cell_type": "code",
   "execution_count": 1,
   "id": "70fc1e32",
   "metadata": {},
   "outputs": [],
   "source": [
    "from tensorflow.keras.models import Sequential\n",
    "from tensorflow.keras.layers import Dense\n",
    "from sklearn.model_selection import StratifiedKFold\n",
    "from tensorflow.keras.callbacks import ModelCheckpoint\n",
    "\n",
    "import matplotlib.pyplot as plt\n",
    "import seaborn as sns\n",
    "import pandas as pd\n",
    "import numpy as np\n",
    "import tensorflow as tf\n",
    "import os\n",
    "\n",
    "df = pd.read_csv(\"/Users/user/java-web-project0208/python-basic/dataset/breast-cancer-wisconsin.csv\",\n",
    "                names =[\"id\",\"Clump_Thickness\",\"Uniformity_of_Cell_Size\",\"Uniformity_of_Cell_Shape\",\n",
    "                       \"Marginal_Adhesion\",\"Single_Epithelial_Cell_Size\",\"Bare_Nuclei\",\"Bland_Chromatin\"\n",
    "                       ,\"Normal_Nucleoli\",\"Mitoses\",\"Classes\"])"
   ]
  },
  {
   "cell_type": "code",
   "execution_count": 11,
   "id": "4bcfc44f",
   "metadata": {},
   "outputs": [],
   "source": [
    "# df.loc[df.Bare_Nuclei == '?', 'Bare_Nuclei'] ='0'\n",
    "tmp = df[df['Bare_Nuclei'] == '?'].index\n",
    "df.drop(tmp, inplace=True)\n",
    "\n",
    "df.loc[df.Classes == 2, 'Classes'] = '0'\n",
    "df.loc[df.Classes == 4, 'Classes'] = '1'"
   ]
  },
  {
   "cell_type": "code",
   "execution_count": 12,
   "id": "ffddd552",
   "metadata": {},
   "outputs": [
    {
     "name": "stdout",
     "output_type": "stream",
     "text": [
      "          id  Clump_Thickness  Uniformity_of_Cell_Size  \\\n",
      "0    1000025                5                        1   \n",
      "1    1002945                5                        4   \n",
      "2    1015425                3                        1   \n",
      "3    1016277                6                        8   \n",
      "4    1017023                4                        1   \n",
      "..       ...              ...                      ...   \n",
      "149  1187805                8                        8   \n",
      "150  1188472                1                        1   \n",
      "151  1189266                7                        2   \n",
      "152  1189286               10                       10   \n",
      "153  1190394                4                        1   \n",
      "\n",
      "     Uniformity_of_Cell_Shape  Marginal_Adhesion  Single_Epithelial_Cell_Size  \\\n",
      "0                           1                  1                            2   \n",
      "1                           4                  5                            7   \n",
      "2                           1                  1                            2   \n",
      "3                           8                  1                            3   \n",
      "4                           1                  3                            2   \n",
      "..                        ...                ...                          ...   \n",
      "149                         7                  4                           10   \n",
      "150                         1                  1                            1   \n",
      "151                         4                  1                            6   \n",
      "152                         8                  6                            4   \n",
      "153                         1                  1                            2   \n",
      "\n",
      "    Bare_Nuclei  Bland_Chromatin  Normal_Nucleoli  Mitoses Classes  \n",
      "0             1                3                1        1       0  \n",
      "1            10                3                2        1       0  \n",
      "2             2                3                1        1       0  \n",
      "3             4                3                7        1       0  \n",
      "4             1                3                1        1       0  \n",
      "..          ...              ...              ...      ...     ...  \n",
      "149          10                7                8        7       1  \n",
      "150           1                3                1        1       0  \n",
      "151          10                5                4        3       1  \n",
      "152           5                8               10        1       1  \n",
      "153           3                1                1        1       0  \n",
      "\n",
      "[150 rows x 11 columns]\n"
     ]
    }
   ],
   "source": [
    "print(df.head(150))"
   ]
  },
  {
   "cell_type": "code",
   "execution_count": null,
   "id": "0563924c",
   "metadata": {},
   "outputs": [],
   "source": [
    "df.corr()\n",
    "sns.heatmap(df.corr(), annot=True, cmap=\"YlGnBu\")\n",
    "plt.show()"
   ]
  },
  {
   "cell_type": "code",
   "execution_count": null,
   "id": "a494fa94",
   "metadata": {},
   "outputs": [],
   "source": [
    "dataset = df.values.astype(float)\n",
    "\n",
    "X = dataset[:, 1:10]\n",
    "Y = dataset[:, 10]\n",
    "\n",
    "n_fold = 10\n",
    "skf= StratifiedKFold(n_splits=n_fold, shuffle=True)\n",
    "\n",
    "accuracy = []\n",
    "\n",
    "for train, test in skf.split(X,Y):\n",
    "    model = Sequential()\n",
    "    model.add(Dense(32, input_dim=9, activation='relu'))\n",
    "    model.add(Dense(1, activation='sigmoid'))\n",
    "    model.compile(loss='binary_crossentropy',  optimizer='adam', metrics=['accuracy'])\n",
    "    \n",
    "    history = model.fit(X[train], Y[train], epochs=200, batch_size=8, validation_data=(X[test],Y[test]))\n",
    "    k_accuracy = \"%.4f\" % (model.evaluate(X[test], Y[test])[1])\n",
    "    accuracy.append(k_accuracy)"
   ]
  },
  {
   "cell_type": "code",
   "execution_count": null,
   "id": "64ab505d",
   "metadata": {},
   "outputs": [],
   "source": [
    "print(\"\\n %.f fold accuracy: \" % n_fold, accuracy)\n",
    "print(\"\\n %.f fold accuracy: \" % n_fold, accuracy)"
   ]
  },
  {
   "cell_type": "code",
   "execution_count": null,
   "id": "ed0cf3e5",
   "metadata": {},
   "outputs": [],
   "source": [
    "y_vloss = history.history['val_loss']\n",
    "y_acc = history.history['accuracy']\n",
    "\n",
    "\n",
    "x_len = np.arange(len(y_acc))\n",
    "\n",
    "plt.plot(x_len, y_vloss, \"o\", c=\"red\", markersize=3)\n",
    "plt.plot(x_len, y_acc, \"o\", c=\"blue\", markersize=3)\n",
    "\n",
    "plt.show()"
   ]
  },
  {
   "cell_type": "code",
   "execution_count": null,
   "id": "509926ce",
   "metadata": {},
   "outputs": [],
   "source": []
  }
 ],
 "metadata": {
  "kernelspec": {
   "display_name": "Python 3",
   "language": "python",
   "name": "python3"
  },
  "language_info": {
   "codemirror_mode": {
    "name": "ipython",
    "version": 3
   },
   "file_extension": ".py",
   "mimetype": "text/x-python",
   "name": "python",
   "nbconvert_exporter": "python",
   "pygments_lexer": "ipython3",
   "version": "3.7.10"
  }
 },
 "nbformat": 4,
 "nbformat_minor": 5
}
