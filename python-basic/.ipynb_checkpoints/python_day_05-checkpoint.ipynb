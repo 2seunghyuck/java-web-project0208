{
 "cells": [
  {
   "cell_type": "markdown",
   "id": "offensive-wesley",
   "metadata": {},
   "source": [
    "## First Class Function  \n",
    " 프로그래밍 언어가 함수(function)을 first-class citizen으로 취급, 함수 자체를 일반 값처럼 취급함\n"
   ]
  },
  {
   "cell_type": "code",
   "execution_count": 1,
   "id": "announced-mineral",
   "metadata": {},
   "outputs": [
    {
     "name": "stdout",
     "output_type": "stream",
     "text": [
      "6\n"
     ]
    }
   ],
   "source": [
    "def double_func(x):\n",
    "    return x *2 \n",
    "print(double_func(3))"
   ]
  },
  {
   "cell_type": "code",
   "execution_count": 2,
   "id": "british-inside",
   "metadata": {},
   "outputs": [
    {
     "name": "stdout",
     "output_type": "stream",
     "text": [
      "<function double_func at 0x7fd3247c3430>\n",
      "<function double_func at 0x7fd3247c3430>\n"
     ]
    }
   ],
   "source": [
    "# 생성한 함수를 변수처럼 취급한다.\n",
    "a = double_func\n",
    "print(double_func)\n",
    "print(a)"
   ]
  },
  {
   "cell_type": "code",
   "execution_count": 3,
   "id": "parliamentary-bubble",
   "metadata": {},
   "outputs": [],
   "source": [
    "def make_double_list(func, args):\n",
    "    result = []\n",
    "    for i in args :\n",
    "        result.append(func(i))\n",
    "    return result"
   ]
  },
  {
   "cell_type": "code",
   "execution_count": 5,
   "id": "little-injury",
   "metadata": {},
   "outputs": [
    {
     "name": "stdout",
     "output_type": "stream",
     "text": [
      "[2, 4, 6, 8, 10]\n"
     ]
    }
   ],
   "source": [
    "# 함수를 파라미터로도 사용 가능\n",
    "input_list = [1,2,3,4,5]\n",
    "doubles = make_double_list(double_func, input_list)\n",
    "print(doubles)"
   ]
  },
  {
   "cell_type": "code",
   "execution_count": 22,
   "id": "comfortable-north",
   "metadata": {},
   "outputs": [],
   "source": [
    "# 함수를 호출하면 함수에서 함수를 생성해서 리턴한다.\n",
    "import time\n",
    "def log_formatter(msg):\n",
    "    \n",
    "    def log_message():\n",
    "        time_str = time.strftime('%c', time.localtime(time.time()))\n",
    "        print(time_str , end=' ')\n",
    "        print('------>', end=' ')\n",
    "        print(msg)\n",
    "\n",
    "    return log_message"
   ]
  },
  {
   "cell_type": "code",
   "execution_count": 27,
   "id": "increasing-miller",
   "metadata": {},
   "outputs": [
    {
     "name": "stdout",
     "output_type": "stream",
     "text": [
      "Mon Apr  5 09:44:59 2021 ------> test log\n",
      "None\n"
     ]
    }
   ],
   "source": [
    "log_msg = log_formatter('test log')\n",
    "print(log_msg())"
   ]
  },
  {
   "cell_type": "code",
   "execution_count": 29,
   "id": "directed-disorder",
   "metadata": {},
   "outputs": [
    {
     "name": "stdout",
     "output_type": "stream",
     "text": [
      "Mon Apr  5 09:45:11 2021 ------> test log\n"
     ]
    }
   ],
   "source": [
    "log_msg()\n"
   ]
  },
  {
   "cell_type": "markdown",
   "id": "radical-citation",
   "metadata": {},
   "source": [
    "    - log_formatter 함수의 로컬변수 msg는 함수 실행이 종료된 후 사라지는 변수\n",
    "    - 종료된 이후에도 참조가 가능 ? log_message를 클로져(closure)라고 함\n",
    "    - 클로저는 다른함수의 지역변수 값을 그 함수가 종료돈 후에도 기억"
   ]
  },
  {
   "cell_type": "code",
   "execution_count": 30,
   "id": "silver-death",
   "metadata": {},
   "outputs": [],
   "source": [
    "del log_formatter"
   ]
  },
  {
   "cell_type": "code",
   "execution_count": 31,
   "id": "iraqi-attempt",
   "metadata": {},
   "outputs": [
    {
     "name": "stdout",
     "output_type": "stream",
     "text": [
      "Mon Apr  5 09:45:13 2021 ------> test log\n"
     ]
    }
   ],
   "source": [
    "# closure 이기 때문에 상위 함수를 지워도 하위 함수가 존재 한다.\n",
    "log_msg()"
   ]
  },
  {
   "cell_type": "markdown",
   "id": "overall-keeping",
   "metadata": {},
   "source": [
    "## Closure  \n",
    "    - first class function을 지원하는 언어의 네임 바인딩 기술\n",
    "    - 어떤 함수를 함수 자신이 가지고 있는 환경과 함께 저장한 레코드\n",
    "    - 함수가 가진 프리변수(free variable)을 클로저가 만들어지는 당시의 값과 레퍼런스에 매핑하는 역할\n",
    "    - 자신의 영역 밖에서 호출된 함수의 변수값과 레퍼런스를 복사하고 저장\n",
    "    - free variable: 코드블럭 안에서 사용은 되지만 그 코드 블럭안에서 정의되지 않은 변수\n",
    "    "
   ]
  },
  {
   "cell_type": "code",
   "execution_count": 20,
   "id": "presidential-classroom",
   "metadata": {},
   "outputs": [
    {
     "ename": "TypeError",
     "evalue": "log_message() takes 0 positional arguments but 1 was given",
     "output_type": "error",
     "traceback": [
      "\u001b[0;31m---------------------------------------------------------------------------\u001b[0m",
      "\u001b[0;31mTypeError\u001b[0m                                 Traceback (most recent call last)",
      "\u001b[0;32m<ipython-input-20-1ab485a53740>\u001b[0m in \u001b[0;36m<module>\u001b[0;34m\u001b[0m\n\u001b[0;32m----> 1\u001b[0;31m \u001b[0mlog_msg\u001b[0m\u001b[0;34m(\u001b[0m\u001b[0;36m234\u001b[0m\u001b[0;34m)\u001b[0m\u001b[0;34m\u001b[0m\u001b[0;34m\u001b[0m\u001b[0m\n\u001b[0m",
      "\u001b[0;31mTypeError\u001b[0m: log_message() takes 0 positional arguments but 1 was given"
     ]
    }
   ],
   "source": [
    "log_msg(234)"
   ]
  },
  {
   "cell_type": "code",
   "execution_count": 32,
   "id": "ceramic-sucking",
   "metadata": {},
   "outputs": [],
   "source": [
    "def outer_func():\n",
    "    msg = 'Good Morning!'\n",
    "    \n",
    "    def inner_func():\n",
    "        print(msg)\n",
    "        \n",
    "    return inner_func()\n"
   ]
  },
  {
   "cell_type": "code",
   "execution_count": 33,
   "id": "ranging-values",
   "metadata": {},
   "outputs": [
    {
     "name": "stdout",
     "output_type": "stream",
     "text": [
      "Good Morning!\n"
     ]
    }
   ],
   "source": [
    "outer_func()"
   ]
  },
  {
   "cell_type": "code",
   "execution_count": 34,
   "id": "iraqi-peoples",
   "metadata": {},
   "outputs": [
    {
     "name": "stdout",
     "output_type": "stream",
     "text": [
      "<function outer_func.<locals>.inner_func at 0x7fd3248b7af0>\n",
      "Good Morning!\n"
     ]
    }
   ],
   "source": [
    "def outer_func():\n",
    "    msg = 'Good Morning!'\n",
    "    \n",
    "    def inner_func():\n",
    "        print(msg)\n",
    "        \n",
    "    return inner_func\n",
    "\n",
    "func = outer_func()\n",
    "print(func)\n",
    "func()"
   ]
  },
  {
   "cell_type": "code",
   "execution_count": 35,
   "id": "false-slave",
   "metadata": {},
   "outputs": [
    {
     "name": "stdout",
     "output_type": "stream",
     "text": [
      "['__annotations__', '__call__', '__class__', '__closure__', '__code__', '__defaults__', '__delattr__', '__dict__', '__dir__', '__doc__', '__eq__', '__format__', '__ge__', '__get__', '__getattribute__', '__globals__', '__gt__', '__hash__', '__init__', '__init_subclass__', '__kwdefaults__', '__le__', '__lt__', '__module__', '__name__', '__ne__', '__new__', '__qualname__', '__reduce__', '__reduce_ex__', '__repr__', '__setattr__', '__sizeof__', '__str__', '__subclasshook__']\n"
     ]
    }
   ],
   "source": [
    "print(dir(func))"
   ]
  },
  {
   "cell_type": "code",
   "execution_count": 36,
   "id": "brutal-workplace",
   "metadata": {},
   "outputs": [
    {
     "name": "stdout",
     "output_type": "stream",
     "text": [
      "<class 'tuple'>\n"
     ]
    }
   ],
   "source": [
    "print(type(func.__closure__))"
   ]
  },
  {
   "cell_type": "code",
   "execution_count": 37,
   "id": "chubby-multimedia",
   "metadata": {},
   "outputs": [
    {
     "name": "stdout",
     "output_type": "stream",
     "text": [
      "(<cell at 0x7fd3248304f0: str object at 0x7fd3248cb5f0>,)\n"
     ]
    }
   ],
   "source": [
    "print(func.__closure__)"
   ]
  },
  {
   "cell_type": "code",
   "execution_count": 38,
   "id": "laden-canada",
   "metadata": {},
   "outputs": [
    {
     "name": "stdout",
     "output_type": "stream",
     "text": [
      "<cell at 0x7fd3248304f0: str object at 0x7fd3248cb5f0>\n"
     ]
    }
   ],
   "source": [
    "print(func.__closure__[0])"
   ]
  },
  {
   "cell_type": "code",
   "execution_count": 39,
   "id": "handy-civilian",
   "metadata": {},
   "outputs": [
    {
     "name": "stdout",
     "output_type": "stream",
     "text": [
      "['__class__', '__delattr__', '__dir__', '__doc__', '__eq__', '__format__', '__ge__', '__getattribute__', '__gt__', '__hash__', '__init__', '__init_subclass__', '__le__', '__lt__', '__ne__', '__new__', '__reduce__', '__reduce_ex__', '__repr__', '__setattr__', '__sizeof__', '__str__', '__subclasshook__', 'cell_contents']\n"
     ]
    }
   ],
   "source": [
    "print(dir(func.__closure__[0]))"
   ]
  },
  {
   "cell_type": "code",
   "execution_count": 41,
   "id": "fitted-buffalo",
   "metadata": {},
   "outputs": [
    {
     "name": "stdout",
     "output_type": "stream",
     "text": [
      "Good Morning!\n"
     ]
    }
   ],
   "source": [
    "print(func.__closure__[0].cell_contents)"
   ]
  },
  {
   "cell_type": "code",
   "execution_count": 42,
   "id": "multiple-prairie",
   "metadata": {},
   "outputs": [],
   "source": [
    "\n",
    "import time\n",
    "def log_formatter(msg):\n",
    "    \n",
    "    def log_message():\n",
    "        time_str = time.strftime('%c', time.localtime(time.time()))\n",
    "        print(time_str , end=' ')\n",
    "        print('------>', end=' ')\n",
    "        print(msg)\n",
    "\n",
    "    return log_message\n"
   ]
  },
  {
   "cell_type": "code",
   "execution_count": 44,
   "id": "continued-engine",
   "metadata": {},
   "outputs": [],
   "source": [
    "test_log_msg = log_formatter('test_log')\n",
    "runtime_log_msg = log_formatter('runtime log')"
   ]
  },
  {
   "cell_type": "code",
   "execution_count": null,
   "id": "british-muslim",
   "metadata": {},
   "outputs": [],
   "source": []
  }
 ],
 "metadata": {
  "kernelspec": {
   "display_name": "Python 3",
   "language": "python",
   "name": "python3"
  },
  "language_info": {
   "codemirror_mode": {
    "name": "ipython",
    "version": 3
   },
   "file_extension": ".py",
   "mimetype": "text/x-python",
   "name": "python",
   "nbconvert_exporter": "python",
   "pygments_lexer": "ipython3",
   "version": "3.8.8"
  }
 },
 "nbformat": 4,
 "nbformat_minor": 5
}
