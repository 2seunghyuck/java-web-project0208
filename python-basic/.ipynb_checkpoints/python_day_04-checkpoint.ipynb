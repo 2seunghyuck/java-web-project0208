{
 "cells": [
  {
   "cell_type": "code",
   "execution_count": 1,
   "id": "bottom-albuquerque",
   "metadata": {},
   "outputs": [],
   "source": [
    "import pandas as pd"
   ]
  },
  {
   "cell_type": "code",
   "execution_count": 2,
   "id": "lyric-budapest",
   "metadata": {},
   "outputs": [
    {
     "name": "stdout",
     "output_type": "stream",
     "text": [
      "DatetimeIndex(['2020-05-01', '2020-05-02', '2020-05-03', '2020-05-04',\n",
      "               '2020-05-05', '2020-05-06', '2020-05-07'],\n",
      "              dtype='datetime64[ns]', freq='D')\n"
     ]
    }
   ],
   "source": [
    "p = pd.date_range(start ='2020-05-01', periods=7)\n",
    "print(p)"
   ]
  },
  {
   "cell_type": "markdown",
   "id": "palestinian-genome",
   "metadata": {},
   "source": [
    "###https://pandas.pydata.org/pandas-docs/stable/user_guide/timeseries.html#offset-aliases\n",
    "Frequency 옵션들"
   ]
  },
  {
   "cell_type": "code",
   "execution_count": 4,
   "id": "unique-converter",
   "metadata": {},
   "outputs": [
    {
     "name": "stdout",
     "output_type": "stream",
     "text": [
      "DatetimeIndex(['2020-01-01', '2020-01-03', '2020-01-05', '2020-01-07'], dtype='datetime64[ns]', freq='2D')\n"
     ]
    }
   ],
   "source": [
    "p = pd.date_range(start='2020-01-01', periods = 4, freq='2D') # D == Day\n",
    "print(p)"
   ]
  },
  {
   "cell_type": "code",
   "execution_count": 6,
   "id": "practical-power",
   "metadata": {},
   "outputs": [
    {
     "name": "stdout",
     "output_type": "stream",
     "text": [
      "DatetimeIndex(['2021-04-04', '2021-04-11', '2021-04-18', '2021-04-25',\n",
      "               '2021-05-02'],\n",
      "              dtype='datetime64[ns]', freq='W-SUN')\n"
     ]
    }
   ],
   "source": [
    "p = pd.date_range(start='2021-04-01', periods=5, freq='W') # W == Week\n",
    "print(p)"
   ]
  },
  {
   "cell_type": "code",
   "execution_count": 7,
   "id": "greek-principle",
   "metadata": {},
   "outputs": [
    {
     "name": "stdout",
     "output_type": "stream",
     "text": [
      "DatetimeIndex(['2021-02-26', '2021-04-30', '2021-06-30', '2021-08-31',\n",
      "               '2021-10-29', '2021-12-31', '2022-02-28', '2022-04-29',\n",
      "               '2022-06-30', '2022-08-31', '2022-10-31', '2022-12-30'],\n",
      "              dtype='datetime64[ns]', freq='2BM')\n"
     ]
    }
   ],
   "source": [
    "p = pd.date_range(start='2021-02-01', periods=12, freq='2BM') #BM == Business Month, 주의 마지막 평일까지\n",
    "print(p)"
   ]
  },
  {
   "cell_type": "code",
   "execution_count": 9,
   "id": "helpful-throat",
   "metadata": {},
   "outputs": [
    {
     "name": "stdout",
     "output_type": "stream",
     "text": [
      "DatetimeIndex(['2021-04-01', '2021-07-01', '2021-10-01', '2022-01-01',\n",
      "               '2022-04-01'],\n",
      "              dtype='datetime64[ns]', freq='QS-JAN')\n"
     ]
    }
   ],
   "source": [
    "p = pd.date_range(start='2021-01-03', periods=5, freq='QS') # QS == 분기의 시작일\n",
    "print(p)"
   ]
  },
  {
   "cell_type": "code",
   "execution_count": 10,
   "id": "greenhouse-hello",
   "metadata": {},
   "outputs": [
    {
     "name": "stdout",
     "output_type": "stream",
     "text": [
      "DatetimeIndex(['2021-01-01', '2022-01-01', '2023-01-01'], dtype='datetime64[ns]', freq='AS-JAN')\n"
     ]
    }
   ],
   "source": [
    "p = pd.date_range(start='2021-01-01', periods=3, freq='AS') # AS == 매 년의 시작일 \n",
    "print(p)"
   ]
  },
  {
   "cell_type": "code",
   "execution_count": 12,
   "id": "virtual-security",
   "metadata": {},
   "outputs": [
    {
     "name": "stdout",
     "output_type": "stream",
     "text": [
      "DatetimeIndex(['2021-01-01 08:00:00', '2021-01-01 09:00:00',\n",
      "               '2021-01-01 10:00:00', '2021-01-01 11:00:00',\n",
      "               '2021-01-01 12:00:00', '2021-01-01 13:00:00',\n",
      "               '2021-01-01 14:00:00', '2021-01-01 15:00:00',\n",
      "               '2021-01-01 16:00:00', '2021-01-01 17:00:00'],\n",
      "              dtype='datetime64[ns]', freq='H')\n"
     ]
    }
   ],
   "source": [
    "p = pd.date_range(start='2021-01-01 08:00', periods=10, freq='H') # H == hour, 시간단위로 period 만큼\n",
    "print(p)"
   ]
  },
  {
   "cell_type": "code",
   "execution_count": 13,
   "id": "young-tonight",
   "metadata": {},
   "outputs": [
    {
     "name": "stdout",
     "output_type": "stream",
     "text": [
      "DatetimeIndex(['2021-01-01 09:00:00', '2021-01-01 10:00:00',\n",
      "               '2021-01-01 11:00:00', '2021-01-01 12:00:00',\n",
      "               '2021-01-01 13:00:00', '2021-01-01 14:00:00',\n",
      "               '2021-01-01 15:00:00', '2021-01-01 16:00:00',\n",
      "               '2021-01-04 09:00:00', '2021-01-04 10:00:00'],\n",
      "              dtype='datetime64[ns]', freq='BH')\n"
     ]
    }
   ],
   "source": [
    "p = pd.date_range(start='2021-01-01 08:00', periods=10, freq='BH') # BH == Business hour\n",
    "print(p)"
   ]
  },
  {
   "cell_type": "code",
   "execution_count": 17,
   "id": "excited-occurrence",
   "metadata": {},
   "outputs": [
    {
     "name": "stdout",
     "output_type": "stream",
     "text": [
      "<BusinessHour: BH=09:00-17:00>\n"
     ]
    }
   ],
   "source": [
    "print(pd.offsets.BusinessHour())"
   ]
  },
  {
   "cell_type": "code",
   "execution_count": 19,
   "id": "exclusive-investor",
   "metadata": {},
   "outputs": [
    {
     "name": "stdout",
     "output_type": "stream",
     "text": [
      "DatetimeIndex(['2021-01-01 10:00:00', '2021-01-01 11:00:00',\n",
      "               '2021-01-01 12:00:00', '2021-01-01 13:00:00',\n",
      "               '2021-01-01 14:00:00', '2021-01-01 15:00:00',\n",
      "               '2021-01-01 16:00:00', '2021-01-01 17:00:00',\n",
      "               '2021-01-04 10:00:00', '2021-01-04 11:00:00'],\n",
      "              dtype='datetime64[ns]', freq=None)\n"
     ]
    },
    {
     "name": "stderr",
     "output_type": "stream",
     "text": [
      "/Users/user/opt/anaconda3/envs/dl_env/lib/python3.8/site-packages/pandas/core/arrays/datetimes.py:702: PerformanceWarning: Non-vectorized DateOffset being applied to Series or DatetimeIndex\n",
      "  warnings.warn(\n"
     ]
    }
   ],
   "source": [
    "import datetime\n",
    "\n",
    "bh = pd.offsets.BusinessHour(start='09:00', end=datetime.time(18,0)) # 임의로 BH의 Range 를 정의해서 사용할 수 있다.\n",
    "p2 = pd.date_range(start='2021-01-01 08:00', periods=10, freq='BH') +bh\n",
    "print(p2)"
   ]
  },
  {
   "cell_type": "code",
   "execution_count": 20,
   "id": "dying-surgery",
   "metadata": {},
   "outputs": [],
   "source": [
    "import warnings\n",
    "warnings.simplefilter(action='ignore', category=pd.errors.PerformanceWarning) # 위의 performanceWarning 잡아주는것"
   ]
  },
  {
   "cell_type": "code",
   "execution_count": 25,
   "id": "liable-barcelona",
   "metadata": {},
   "outputs": [
    {
     "name": "stdout",
     "output_type": "stream",
     "text": [
      "DatetimeIndex(['2021-01-01 10:00:00', '2021-01-01 10:30:00',\n",
      "               '2021-01-01 11:00:00', '2021-01-01 11:30:00'],\n",
      "              dtype='datetime64[ns]', freq='30T')\n"
     ]
    }
   ],
   "source": [
    "p = pd.date_range(start='2021-01-01 10:00', periods=4, freq='30min')\n",
    "print(p)"
   ]
  },
  {
   "cell_type": "code",
   "execution_count": 28,
   "id": "demographic-advocate",
   "metadata": {},
   "outputs": [
    {
     "name": "stdout",
     "output_type": "stream",
     "text": [
      "2021-04-01    51\n",
      "2021-04-02    63\n",
      "2021-04-03    59\n",
      "2021-04-04    48\n",
      "2021-04-05    60\n",
      "Freq: D, dtype: int64\n"
     ]
    }
   ],
   "source": [
    "index_date = pd.date_range(start='2021-04-01', periods=5, freq='D')\n",
    "p= pd.Series([51, 63, 59, 48, 60], index = index_date) # 날짜에 인덱스를 지정해줌\n",
    "print(p)"
   ]
  },
  {
   "cell_type": "markdown",
   "id": "australian-stupid",
   "metadata": {},
   "source": [
    "## DataFrame"
   ]
  },
  {
   "cell_type": "markdown",
   "id": "secret-teddy",
   "metadata": {},
   "source": [
    "df = pd.DataFrame(data, [,index=index_data, columns = columns_data])  \n",
    "data : 리스트, 딕셔너리, Numpy배열, Series, DataFrame  \n",
    "DataFrame의 세로축은 index, 가로축은 columns 라함  \n",
    "index 와 columns 를 제외한 영역은 values 라함  \n",
    "index와 columns의 기본값은 숫자 0 부터 입력  "
   ]
  },
  {
   "cell_type": "code",
   "execution_count": 30,
   "id": "foreign-preference",
   "metadata": {},
   "outputs": [
    {
     "name": "stdout",
     "output_type": "stream",
     "text": [
      "   0  1  2\n",
      "0  1  2  3\n",
      "1  4  5  6\n",
      "2  7  8  9\n"
     ]
    }
   ],
   "source": [
    "df = pd.DataFrame([[1, 2, 3], [4, 5, 6], [7, 8, 9]])\n",
    "print(df)"
   ]
  },
  {
   "cell_type": "code",
   "execution_count": 31,
   "id": "offshore-denial",
   "metadata": {},
   "outputs": [],
   "source": [
    "import numpy as np"
   ]
  },
  {
   "cell_type": "code",
   "execution_count": 32,
   "id": "common-employer",
   "metadata": {},
   "outputs": [
    {
     "name": "stdout",
     "output_type": "stream",
     "text": [
      "   0  1  2\n",
      "0  1  2  3\n",
      "1  4  5  6\n",
      "2  7  8  9\n"
     ]
    }
   ],
   "source": [
    "data_list = np.array([[1, 2, 3], [4, 5, 6], [7, 8, 9]]) # 위의 DataFrame 을 Numpy 배열로 만든것\n",
    "df = pd.DataFrame(data_list)\n",
    "print(df)"
   ]
  },
  {
   "cell_type": "code",
   "execution_count": 34,
   "id": "reasonable-measurement",
   "metadata": {},
   "outputs": [
    {
     "name": "stdout",
     "output_type": "stream",
     "text": [
      "             A   B   C\n",
      "2020-05-01   1   2   3\n",
      "2020-05-02   4   5   6\n",
      "2020-05-03   7   8   9\n",
      "2020-05-04  10  11  12\n"
     ]
    }
   ],
   "source": [
    "data = np.array([[1, 2, 3], [4, 5, 6], [7, 8, 9], [10, 11, 12]])\n",
    "index_date = pd.date_range('2020-05-01', periods=4)\n",
    "columns_list = ['A', 'B', 'C']\n",
    "df = pd.DataFrame(data, index = index_date, columns = columns_list)\n",
    "print(df)"
   ]
  },
  {
   "cell_type": "code",
   "execution_count": 36,
   "id": "dress-gallery",
   "metadata": {},
   "outputs": [
    {
     "name": "stdout",
     "output_type": "stream",
     "text": [
      "     연도  지사  고객 수 \n",
      "0  2015  서울    200\n",
      "1  2016  서울    250\n",
      "2  2016  부산    150\n",
      "3  2017  서울    300\n",
      "4  2018  부산    200\n"
     ]
    }
   ],
   "source": [
    "# DataFrame 을 딕셔너리로 생성하면 key 가 columns 가 된다.\n",
    "data = {'연도': [2015, 2016, 2016, 2017, 2018], '지사': ['서울','서울','부산','서울','부산'], \n",
    "       '고객 수 ': [200, 250, 150, 300, 200]} # \n",
    "df = pd.DataFrame(data)\n",
    "print(df)"
   ]
  },
  {
   "cell_type": "code",
   "execution_count": 39,
   "id": "elder-climate",
   "metadata": {},
   "outputs": [
    {
     "name": "stdout",
     "output_type": "stream",
     "text": [
      "   지사    연도  고객 수\n",
      "0  서울  2015   200\n",
      "1  서울  2016   250\n",
      "2  부산  2016   150\n",
      "3  서울  2017   300\n",
      "4  부산  2018   200\n"
     ]
    }
   ],
   "source": [
    "data = {'연도': [2015, 2016, 2016, 2017, 2018], '지사': ['서울','서울','부산','서울','부산'], \n",
    "       '고객 수': [200, 250, 150, 300, 200]}\n",
    "df = pd.DataFrame(data, columns=['지사', '연도', '고객 수']) # 데이터를 건드리는것은 좋지않으므로 컬럼의 이름을줘서 추출\n",
    "print(df)"
   ]
  },
  {
   "cell_type": "code",
   "execution_count": 42,
   "id": "aerial-vertex",
   "metadata": {},
   "outputs": [
    {
     "name": "stdout",
     "output_type": "stream",
     "text": [
      "0    11\n",
      "1    22\n",
      "2    33\n",
      "3    44\n",
      "4    55\n",
      "dtype: int64\n",
      "0    -9\n",
      "1   -18\n",
      "2   -27\n",
      "3   -36\n",
      "4   -45\n",
      "dtype: int64\n",
      "0    0.1\n",
      "1    0.1\n",
      "2    0.1\n",
      "3    0.1\n",
      "4    0.1\n",
      "dtype: float64\n",
      "0     10\n",
      "1     40\n",
      "2     90\n",
      "3    160\n",
      "4    250\n",
      "dtype: int64\n"
     ]
    }
   ],
   "source": [
    "s1 = pd.Series([1, 2, 3, 4, 5])\n",
    "s2 = pd.Series([10, 20, 30, 40, 50])\n",
    "\n",
    "print(s1+s2)\n",
    "print(s1-s2)\n",
    "print(s1/s2)\n",
    "print(s1*s2)"
   ]
  },
  {
   "cell_type": "code",
   "execution_count": 43,
   "id": "congressional-bosnia",
   "metadata": {},
   "outputs": [
    {
     "name": "stdout",
     "output_type": "stream",
     "text": [
      "0    11.0\n",
      "1    22.0\n",
      "2    33.0\n",
      "3    44.0\n",
      "4     NaN\n",
      "dtype: float64\n"
     ]
    }
   ],
   "source": [
    "s3 = pd.Series([1,2,3,4])\n",
    "s4 = pd.Series([10, 20 ,30, 40, 50])\n",
    "print(s3+s4)"
   ]
  },
  {
   "cell_type": "code",
   "execution_count": 44,
   "id": "irish-webcam",
   "metadata": {},
   "outputs": [
    {
     "name": "stdout",
     "output_type": "stream",
     "text": [
      "   A   B    C\n",
      "0  1  10  100\n",
      "1  2  20  200\n",
      "2  3  30  300\n",
      "3  4  40  400\n",
      "4  5  50  500\n",
      "   A   B    C\n",
      "0  6  60  600\n",
      "1  7  70  700\n",
      "2  8  80  800\n"
     ]
    }
   ],
   "source": [
    "data1 = {'A': [1, 2, 3, 4, 5],\n",
    "         'B': [10, 20, 30, 40, 50],\n",
    "         'C': [100, 200, 300, 400, 500]}\n",
    "df1 = pd.DataFrame(data1)\n",
    "print(df1)\n",
    "\n",
    "data2 = {'A': [6, 7, 8],\n",
    "         'B': [60, 70, 80],\n",
    "         'C': [600, 700, 800]}\n",
    "df2 = pd.DataFrame(data2)\n",
    "print(df2)"
   ]
  },
  {
   "cell_type": "code",
   "execution_count": 45,
   "id": "protective-hamburg",
   "metadata": {},
   "outputs": [
    {
     "name": "stdout",
     "output_type": "stream",
     "text": [
      "      A      B       C\n",
      "0   7.0   70.0   700.0\n",
      "1   9.0   90.0   900.0\n",
      "2  11.0  110.0  1100.0\n",
      "3   NaN    NaN     NaN\n",
      "4   NaN    NaN     NaN\n"
     ]
    }
   ],
   "source": [
    "print(df1 + df2)"
   ]
  },
  {
   "cell_type": "code",
   "execution_count": 51,
   "id": "bizarre-recommendation",
   "metadata": {},
   "outputs": [],
   "source": [
    "table_data3 = {'봄': [256.5, 264.3, 215.9, 223.2, 312.8],\n",
    "             '여름': [770.6, 567.5, 599.8, 387.1, 446.2],\n",
    "             '가을': [363.5, 231.2, 293.1, 247.7, 381.6],\n",
    "             '겨울': [139.3, 59.9, 76.9, 109.1, 108.1]}\n",
    "columns_list = ['봄', '여름', '가을', '겨울']\n",
    "index_list = ['2012', '2013', '2014', '2015', '2016']"
   ]
  },
  {
   "cell_type": "code",
   "execution_count": 52,
   "id": "equivalent-memorial",
   "metadata": {},
   "outputs": [
    {
     "name": "stdout",
     "output_type": "stream",
     "text": [
      "          봄     여름     가을     겨울\n",
      "2012  256.5  770.6  363.5  139.3\n",
      "2013  264.3  567.5  231.2   59.9\n",
      "2014  215.9  599.8  293.1   76.9\n",
      "2015  223.2  387.1  247.7  109.1\n",
      "2016  312.8  446.2  381.6  108.1\n"
     ]
    }
   ],
   "source": [
    "df3 = pd.DataFrame(table_data3, columns = columns_list, index=index_list)\n",
    "print(df3)"
   ]
  },
  {
   "cell_type": "code",
   "execution_count": 53,
   "id": "differential-career",
   "metadata": {},
   "outputs": [
    {
     "name": "stdout",
     "output_type": "stream",
     "text": [
      "봄     254.54\n",
      "여름    554.24\n",
      "가을    303.42\n",
      "겨울     98.66\n",
      "dtype: float64\n",
      "==============================\n",
      "봄      38.628267\n",
      "여름    148.888895\n",
      "가을     67.358496\n",
      "겨울     30.925523\n",
      "dtype: float64\n"
     ]
    }
   ],
   "source": [
    "print(df3.mean()) # 계절별 평균 --> columns\n",
    "print('=' * 30)\n",
    "print(df3.std()) # 계절별 표준편차"
   ]
  },
  {
   "cell_type": "code",
   "execution_count": 55,
   "id": "equipped-laptop",
   "metadata": {},
   "outputs": [
    {
     "name": "stdout",
     "output_type": "stream",
     "text": [
      "2012    382.475\n",
      "2013    280.725\n",
      "2014    296.425\n",
      "2015    241.775\n",
      "2016    312.175\n",
      "dtype: float64\n",
      "==============================\n",
      "2012    274.472128\n",
      "2013    211.128782\n",
      "2014    221.150739\n",
      "2015    114.166760\n",
      "2016    146.548658\n",
      "dtype: float64\n"
     ]
    }
   ],
   "source": [
    "print(df3.mean(axis=1)) # 연도별 --> index\n",
    "print('=' * 30)\n",
    "print(df3.std(axis=1)) "
   ]
  },
  {
   "cell_type": "code",
   "execution_count": 56,
   "id": "important-scroll",
   "metadata": {},
   "outputs": [
    {
     "name": "stdout",
     "output_type": "stream",
     "text": [
      "                봄          여름          가을          겨울\n",
      "count    5.000000    5.000000    5.000000    5.000000\n",
      "mean   254.540000  554.240000  303.420000   98.660000\n",
      "std     38.628267  148.888895   67.358496   30.925523\n",
      "min    215.900000  387.100000  231.200000   59.900000\n",
      "25%    223.200000  446.200000  247.700000   76.900000\n",
      "50%    256.500000  567.500000  293.100000  108.100000\n",
      "75%    264.300000  599.800000  363.500000  109.100000\n",
      "max    312.800000  770.600000  381.600000  139.300000\n"
     ]
    }
   ],
   "source": [
    "print(df3.describe()) # 전체를 다 표현해줌"
   ]
  },
  {
   "cell_type": "markdown",
   "id": "hindu-eagle",
   "metadata": {},
   "source": [
    "## data slicing  \n"
   ]
  },
  {
   "cell_type": "code",
   "execution_count": 57,
   "id": "elect-investor",
   "metadata": {},
   "outputs": [],
   "source": [
    "KTX_data = {'경부선 KTX': [39060, 39896, 42005, 43621, 41702, 41266, 32427],\n",
    "           '호남선 KTX': [7313, 6967, 6873, 6626, 8675, 10622, 9228],\n",
    "           '경전선 KTX': [3627, 4168, 4088, 4424, 4606, 4984, 5570],\n",
    "           '전라선 KTX': [309, 1771, 1954, 2244, 3146, 3945, 5766],\n",
    "           '동해선 KTX': [np.nan,np.nan, np.nan, np.nan, 2395, 3786, 6667]}\n",
    "columns_list = ['경부선 KTX', '호남선 KTX', '경전선 KTX', '전라선 KTX', '동해선 KTX']\n",
    "index_list = ['2011', '2012', '2013', '2014', '2015', '2016', '2017']\n"
   ]
  },
  {
   "cell_type": "code",
   "execution_count": 58,
   "id": "anonymous-paste",
   "metadata": {},
   "outputs": [
    {
     "name": "stdout",
     "output_type": "stream",
     "text": [
      "      경부선 KTX  호남선 KTX  경전선 KTX  전라선 KTX  동해선 KTX\n",
      "2011    39060     7313     3627      309      NaN\n",
      "2012    39896     6967     4168     1771      NaN\n",
      "2013    42005     6873     4088     1954      NaN\n",
      "2014    43621     6626     4424     2244      NaN\n",
      "2015    41702     8675     4606     3146   2395.0\n",
      "2016    41266    10622     4984     3945   3786.0\n",
      "2017    32427     9228     5570     5766   6667.0\n"
     ]
    }
   ],
   "source": [
    "df_KTX = pd.DataFrame(KTX_data, columns = columns_list, index = index_list)\n",
    "print(df_KTX)"
   ]
  },
  {
   "cell_type": "markdown",
   "id": "innocent-advertiser",
   "metadata": {},
   "source": [
    "## 전체 데이터 중 처음이나 끝 일부분 선택  \n",
    "\n",
    "  - head([n])  \n",
    "  - tail([n])  \n",
    "  - n 을 지정하지 않으면 기본값 5"
   ]
  },
  {
   "cell_type": "code",
   "execution_count": 62,
   "id": "noticed-employee",
   "metadata": {},
   "outputs": [
    {
     "name": "stdout",
     "output_type": "stream",
     "text": [
      "      경부선 KTX  호남선 KTX  경전선 KTX  전라선 KTX  동해선 KTX\n",
      "2011    39060     7313     3627      309      NaN\n",
      "2012    39896     6967     4168     1771      NaN\n",
      "2013    42005     6873     4088     1954      NaN\n",
      "2014    43621     6626     4424     2244      NaN\n",
      "2015    41702     8675     4606     3146   2395.0\n",
      "==============================\n",
      "      경부선 KTX  호남선 KTX  경전선 KTX  전라선 KTX  동해선 KTX\n",
      "2011    39060     7313     3627      309      NaN\n",
      "2012    39896     6967     4168     1771      NaN\n",
      "2013    42005     6873     4088     1954      NaN\n"
     ]
    }
   ],
   "source": [
    "print(df_KTX.head())\n",
    "print('='*30)\n",
    "print(df_KTX.head(3))"
   ]
  },
  {
   "cell_type": "code",
   "execution_count": 63,
   "id": "better-polymer",
   "metadata": {},
   "outputs": [
    {
     "name": "stdout",
     "output_type": "stream",
     "text": [
      "      경부선 KTX  호남선 KTX  경전선 KTX  전라선 KTX  동해선 KTX\n",
      "2013    42005     6873     4088     1954      NaN\n",
      "2014    43621     6626     4424     2244      NaN\n",
      "2015    41702     8675     4606     3146   2395.0\n"
     ]
    }
   ],
   "source": [
    "#slicing\n",
    "print(df_KTX[2:5])"
   ]
  },
  {
   "cell_type": "code",
   "execution_count": 64,
   "id": "medical-refrigerator",
   "metadata": {},
   "outputs": [
    {
     "name": "stdout",
     "output_type": "stream",
     "text": [
      "경부선 KTX    39060.0\n",
      "호남선 KTX     7313.0\n",
      "경전선 KTX     3627.0\n",
      "전라선 KTX      309.0\n",
      "동해선 KTX        NaN\n",
      "Name: 2011, dtype: float64\n"
     ]
    }
   ],
   "source": [
    "# 인덱스 지정(행 선택)\n",
    "print(df_KTX.loc['2011']) "
   ]
  },
  {
   "cell_type": "code",
   "execution_count": 66,
   "id": "general-panic",
   "metadata": {},
   "outputs": [
    {
     "name": "stdout",
     "output_type": "stream",
     "text": [
      "      경부선 KTX  호남선 KTX  경전선 KTX  전라선 KTX  동해선 KTX\n",
      "2013    42005     6873     4088     1954      NaN\n",
      "2014    43621     6626     4424     2244      NaN\n",
      "2015    41702     8675     4606     3146   2395.0\n",
      "2016    41266    10622     4984     3945   3786.0\n"
     ]
    }
   ],
   "source": [
    "print(df_KTX.loc['2013':'2016']) "
   ]
  },
  {
   "cell_type": "code",
   "execution_count": 67,
   "id": "economic-optimum",
   "metadata": {},
   "outputs": [
    {
     "name": "stdout",
     "output_type": "stream",
     "text": [
      "2012    39896\n",
      "2013    42005\n",
      "2014    43621\n",
      "Name: 경부선 KTX, dtype: int64\n"
     ]
    }
   ],
   "source": [
    "print(df_KTX['경부선 KTX'][1:4]) #.loc 안쓰고 컬럼 추출"
   ]
  },
  {
   "cell_type": "code",
   "execution_count": 68,
   "id": "impossible-webcam",
   "metadata": {},
   "outputs": [
    {
     "name": "stdout",
     "output_type": "stream",
     "text": [
      "10622.0\n",
      "==============================\n",
      "10622\n",
      "==============================\n",
      "10622\n",
      "==============================\n",
      "10622\n",
      "==============================\n",
      "10622\n",
      "==============================\n"
     ]
    }
   ],
   "source": [
    "print(df_KTX.loc['2016']['호남선 KTX'])\n",
    "print('='*30)\n",
    "print(df_KTX.loc['2016', '호남선 KTX'])\n",
    "print('='*30)\n",
    "print(df_KTX['호남선 KTX']['2016'])\n",
    "print('='*30)\n",
    "print(df_KTX['호남선 KTX'][5])\n",
    "print('='*30)\n",
    "print(df_KTX['호남선 KTX'].loc['2016'])\n",
    "print('='*30)"
   ]
  },
  {
   "cell_type": "code",
   "execution_count": 69,
   "id": "rotary-fraction",
   "metadata": {},
   "outputs": [
    {
     "name": "stdout",
     "output_type": "stream",
     "text": [
      "            2011     2012     2013     2014     2015     2016     2017\n",
      "경부선 KTX  39060.0  39896.0  42005.0  43621.0  41702.0  41266.0  32427.0\n",
      "호남선 KTX   7313.0   6967.0   6873.0   6626.0   8675.0  10622.0   9228.0\n",
      "경전선 KTX   3627.0   4168.0   4088.0   4424.0   4606.0   4984.0   5570.0\n",
      "전라선 KTX    309.0   1771.0   1954.0   2244.0   3146.0   3945.0   5766.0\n",
      "동해선 KTX      NaN      NaN      NaN      NaN   2395.0   3786.0   6667.0\n"
     ]
    }
   ],
   "source": [
    "print(df_KTX.T) # 데이터 프레임을 행렬로 인식해서 만들어줌 (행과, 열을 바꿔줌)"
   ]
  },
  {
   "cell_type": "code",
   "execution_count": 71,
   "id": "indian-andrew",
   "metadata": {},
   "outputs": [
    {
     "ename": "KeyError",
     "evalue": "\"['전라선  KTX', '경부선  KTX', '호남선  KTX'] not in index\"",
     "output_type": "error",
     "traceback": [
      "\u001b[0;31m---------------------------------------------------------------------------\u001b[0m",
      "\u001b[0;31mKeyError\u001b[0m                                  Traceback (most recent call last)",
      "\u001b[0;32m<ipython-input-71-139bae2069c3>\u001b[0m in \u001b[0;36m<module>\u001b[0;34m\u001b[0m\n\u001b[0;32m----> 1\u001b[0;31m \u001b[0mprint\u001b[0m\u001b[0;34m(\u001b[0m\u001b[0mdf_KTX\u001b[0m\u001b[0;34m[\u001b[0m\u001b[0;34m[\u001b[0m\u001b[0;34m'동해선 KTX'\u001b[0m\u001b[0;34m,\u001b[0m \u001b[0;34m'전라선  KTX'\u001b[0m\u001b[0;34m,\u001b[0m \u001b[0;34m'경전선 KTX'\u001b[0m\u001b[0;34m,\u001b[0m \u001b[0;34m'호남선  KTX'\u001b[0m\u001b[0;34m,\u001b[0m \u001b[0;34m'경부선  KTX'\u001b[0m\u001b[0;34m]\u001b[0m\u001b[0;34m]\u001b[0m\u001b[0;34m)\u001b[0m\u001b[0;34m\u001b[0m\u001b[0;34m\u001b[0m\u001b[0m\n\u001b[0m",
      "\u001b[0;32m~/opt/anaconda3/envs/dl_env/lib/python3.8/site-packages/pandas/core/frame.py\u001b[0m in \u001b[0;36m__getitem__\u001b[0;34m(self, key)\u001b[0m\n\u001b[1;32m   3028\u001b[0m             \u001b[0;32mif\u001b[0m \u001b[0mis_iterator\u001b[0m\u001b[0;34m(\u001b[0m\u001b[0mkey\u001b[0m\u001b[0;34m)\u001b[0m\u001b[0;34m:\u001b[0m\u001b[0;34m\u001b[0m\u001b[0;34m\u001b[0m\u001b[0m\n\u001b[1;32m   3029\u001b[0m                 \u001b[0mkey\u001b[0m \u001b[0;34m=\u001b[0m \u001b[0mlist\u001b[0m\u001b[0;34m(\u001b[0m\u001b[0mkey\u001b[0m\u001b[0;34m)\u001b[0m\u001b[0;34m\u001b[0m\u001b[0;34m\u001b[0m\u001b[0m\n\u001b[0;32m-> 3030\u001b[0;31m             \u001b[0mindexer\u001b[0m \u001b[0;34m=\u001b[0m \u001b[0mself\u001b[0m\u001b[0;34m.\u001b[0m\u001b[0mloc\u001b[0m\u001b[0;34m.\u001b[0m\u001b[0m_get_listlike_indexer\u001b[0m\u001b[0;34m(\u001b[0m\u001b[0mkey\u001b[0m\u001b[0;34m,\u001b[0m \u001b[0maxis\u001b[0m\u001b[0;34m=\u001b[0m\u001b[0;36m1\u001b[0m\u001b[0;34m,\u001b[0m \u001b[0mraise_missing\u001b[0m\u001b[0;34m=\u001b[0m\u001b[0;32mTrue\u001b[0m\u001b[0;34m)\u001b[0m\u001b[0;34m[\u001b[0m\u001b[0;36m1\u001b[0m\u001b[0;34m]\u001b[0m\u001b[0;34m\u001b[0m\u001b[0;34m\u001b[0m\u001b[0m\n\u001b[0m\u001b[1;32m   3031\u001b[0m \u001b[0;34m\u001b[0m\u001b[0m\n\u001b[1;32m   3032\u001b[0m         \u001b[0;31m# take() does not accept boolean indexers\u001b[0m\u001b[0;34m\u001b[0m\u001b[0;34m\u001b[0m\u001b[0;34m\u001b[0m\u001b[0m\n",
      "\u001b[0;32m~/opt/anaconda3/envs/dl_env/lib/python3.8/site-packages/pandas/core/indexing.py\u001b[0m in \u001b[0;36m_get_listlike_indexer\u001b[0;34m(self, key, axis, raise_missing)\u001b[0m\n\u001b[1;32m   1264\u001b[0m             \u001b[0mkeyarr\u001b[0m\u001b[0;34m,\u001b[0m \u001b[0mindexer\u001b[0m\u001b[0;34m,\u001b[0m \u001b[0mnew_indexer\u001b[0m \u001b[0;34m=\u001b[0m \u001b[0max\u001b[0m\u001b[0;34m.\u001b[0m\u001b[0m_reindex_non_unique\u001b[0m\u001b[0;34m(\u001b[0m\u001b[0mkeyarr\u001b[0m\u001b[0;34m)\u001b[0m\u001b[0;34m\u001b[0m\u001b[0;34m\u001b[0m\u001b[0m\n\u001b[1;32m   1265\u001b[0m \u001b[0;34m\u001b[0m\u001b[0m\n\u001b[0;32m-> 1266\u001b[0;31m         \u001b[0mself\u001b[0m\u001b[0;34m.\u001b[0m\u001b[0m_validate_read_indexer\u001b[0m\u001b[0;34m(\u001b[0m\u001b[0mkeyarr\u001b[0m\u001b[0;34m,\u001b[0m \u001b[0mindexer\u001b[0m\u001b[0;34m,\u001b[0m \u001b[0maxis\u001b[0m\u001b[0;34m,\u001b[0m \u001b[0mraise_missing\u001b[0m\u001b[0;34m=\u001b[0m\u001b[0mraise_missing\u001b[0m\u001b[0;34m)\u001b[0m\u001b[0;34m\u001b[0m\u001b[0;34m\u001b[0m\u001b[0m\n\u001b[0m\u001b[1;32m   1267\u001b[0m         \u001b[0;32mreturn\u001b[0m \u001b[0mkeyarr\u001b[0m\u001b[0;34m,\u001b[0m \u001b[0mindexer\u001b[0m\u001b[0;34m\u001b[0m\u001b[0;34m\u001b[0m\u001b[0m\n\u001b[1;32m   1268\u001b[0m \u001b[0;34m\u001b[0m\u001b[0m\n",
      "\u001b[0;32m~/opt/anaconda3/envs/dl_env/lib/python3.8/site-packages/pandas/core/indexing.py\u001b[0m in \u001b[0;36m_validate_read_indexer\u001b[0;34m(self, key, indexer, axis, raise_missing)\u001b[0m\n\u001b[1;32m   1314\u001b[0m             \u001b[0;32mif\u001b[0m \u001b[0mraise_missing\u001b[0m\u001b[0;34m:\u001b[0m\u001b[0;34m\u001b[0m\u001b[0;34m\u001b[0m\u001b[0m\n\u001b[1;32m   1315\u001b[0m                 \u001b[0mnot_found\u001b[0m \u001b[0;34m=\u001b[0m \u001b[0mlist\u001b[0m\u001b[0;34m(\u001b[0m\u001b[0mset\u001b[0m\u001b[0;34m(\u001b[0m\u001b[0mkey\u001b[0m\u001b[0;34m)\u001b[0m \u001b[0;34m-\u001b[0m \u001b[0mset\u001b[0m\u001b[0;34m(\u001b[0m\u001b[0max\u001b[0m\u001b[0;34m)\u001b[0m\u001b[0;34m)\u001b[0m\u001b[0;34m\u001b[0m\u001b[0;34m\u001b[0m\u001b[0m\n\u001b[0;32m-> 1316\u001b[0;31m                 \u001b[0;32mraise\u001b[0m \u001b[0mKeyError\u001b[0m\u001b[0;34m(\u001b[0m\u001b[0;34mf\"{not_found} not in index\"\u001b[0m\u001b[0;34m)\u001b[0m\u001b[0;34m\u001b[0m\u001b[0;34m\u001b[0m\u001b[0m\n\u001b[0m\u001b[1;32m   1317\u001b[0m \u001b[0;34m\u001b[0m\u001b[0m\n\u001b[1;32m   1318\u001b[0m             \u001b[0mnot_found\u001b[0m \u001b[0;34m=\u001b[0m \u001b[0mkey\u001b[0m\u001b[0;34m[\u001b[0m\u001b[0mmissing_mask\u001b[0m\u001b[0;34m]\u001b[0m\u001b[0;34m\u001b[0m\u001b[0;34m\u001b[0m\u001b[0m\n",
      "\u001b[0;31mKeyError\u001b[0m: \"['전라선  KTX', '경부선  KTX', '호남선  KTX'] not in index\""
     ]
    }
   ],
   "source": [
    "print(df_KTX[['동해선 KTX', '전라선  KTX', '경전선 KTX', '호남선  KTX', '경부선  KTX']])"
   ]
  },
  {
   "cell_type": "code",
   "execution_count": 72,
   "id": "convinced-weekend",
   "metadata": {},
   "outputs": [],
   "source": [
    "## 데이터 프레임 통합"
   ]
  },
  {
   "cell_type": "code",
   "execution_count": 73,
   "id": "motivated-louisville",
   "metadata": {},
   "outputs": [
    {
     "name": "stdout",
     "output_type": "stream",
     "text": [
      "   Class1  Class2\n",
      "0      95      91\n",
      "1      92      93\n",
      "2      98      97\n",
      "3     100      99\n"
     ]
    }
   ],
   "source": [
    "df1 = pd.DataFrame({'Class1': [95, 92 ,98, 100],\n",
    "                    'Class2': [91,93,97,99]})\n",
    "print(df1)"
   ]
  },
  {
   "cell_type": "code",
   "execution_count": 74,
   "id": "intellectual-worcester",
   "metadata": {},
   "outputs": [],
   "source": [
    "df2 = pd.DataFrame({'Class1': [87, 89],\n",
    "                    'Class2': [85, 90]})"
   ]
  },
  {
   "cell_type": "code",
   "execution_count": 75,
   "id": "extra-paper",
   "metadata": {},
   "outputs": [
    {
     "name": "stdout",
     "output_type": "stream",
     "text": [
      "   Class1  Class2\n",
      "0      95      91\n",
      "1      92      93\n",
      "2      98      97\n",
      "3     100      99\n",
      "0      87      85\n",
      "1      89      90\n"
     ]
    }
   ],
   "source": [
    "print(df1.append(df2)) # 같은 key 끼리 묶는거 append"
   ]
  },
  {
   "cell_type": "code",
   "execution_count": 76,
   "id": "universal-wrist",
   "metadata": {},
   "outputs": [
    {
     "name": "stdout",
     "output_type": "stream",
     "text": [
      "   Class1  Class2\n",
      "0      95      91\n",
      "1      92      93\n",
      "2      98      97\n",
      "3     100      99\n",
      "4      87      85\n",
      "5      89      90\n"
     ]
    }
   ],
   "source": [
    "print(df1.append(df2, ignore_index=True)) # append로 합쳤을떄의 인덱스를 순서로 조정"
   ]
  },
  {
   "cell_type": "code",
   "execution_count": 77,
   "id": "anticipated-salad",
   "metadata": {},
   "outputs": [],
   "source": [
    "df3 = pd.DataFrame({'Class1': [96, 83]})"
   ]
  },
  {
   "cell_type": "code",
   "execution_count": 78,
   "id": "honest-edgar",
   "metadata": {},
   "outputs": [
    {
     "name": "stdout",
     "output_type": "stream",
     "text": [
      "   Class1  Class2\n",
      "0      87    85.0\n",
      "1      89    90.0\n",
      "2      96     NaN\n",
      "3      83     NaN\n"
     ]
    }
   ],
   "source": [
    "print(df2.append(df3, ignore_index=True))"
   ]
  },
  {
   "cell_type": "code",
   "execution_count": 79,
   "id": "incredible-default",
   "metadata": {},
   "outputs": [],
   "source": [
    "df4 = pd.DataFrame({'Class3': [93, 91, 96, 98]})"
   ]
  },
  {
   "cell_type": "code",
   "execution_count": 80,
   "id": "arbitrary-child",
   "metadata": {},
   "outputs": [
    {
     "name": "stdout",
     "output_type": "stream",
     "text": [
      "   Class1  Class2  Class3\n",
      "0      95      91      93\n",
      "1      92      93      91\n",
      "2      98      97      96\n",
      "3     100      99      98\n"
     ]
    }
   ],
   "source": [
    "print(df1.join(df4)) # 옆으로 붙이는거 조인 (같은 index기준)"
   ]
  },
  {
   "cell_type": "code",
   "execution_count": 81,
   "id": "institutional-oregon",
   "metadata": {},
   "outputs": [
    {
     "name": "stdout",
     "output_type": "stream",
     "text": [
      "   Class1  Class2  Class3\n",
      "a      95      91      92\n",
      "b      92      93      93\n",
      "c      98      95      94\n",
      "d     100      99      95\n"
     ]
    }
   ],
   "source": [
    "index_label = ['a', 'b','c','d']\n",
    "df1a = pd.DataFrame({'Class1': [95, 92, 98, 100],\n",
    "                    'Class2': [91,93,95,99]}, index=index_label)\n",
    "df4a = pd.DataFrame({'Class3': [92, 93, 94, 95]}, index=index_label)\n",
    "\n",
    "print(df1a.join(df4a))\n"
   ]
  },
  {
   "cell_type": "code",
   "execution_count": 82,
   "id": "funky-pledge",
   "metadata": {},
   "outputs": [
    {
     "name": "stdout",
     "output_type": "stream",
     "text": [
      "   Class1  Class2  Class4\n",
      "0      95      91    82.0\n",
      "1      92      93    92.0\n",
      "2      98      97     NaN\n",
      "3     100      99     NaN\n"
     ]
    }
   ],
   "source": [
    "df5 = pd.DataFrame({'Class4': [82, 92]})\n",
    "print(df1.join(df5))"
   ]
  },
  {
   "cell_type": "code",
   "execution_count": 83,
   "id": "documented-disability",
   "metadata": {},
   "outputs": [],
   "source": [
    "df_A_B = pd.DataFrame({'판매월': ['1월', '2월', '3월', '4월'],\n",
    "                      '제품A': [100, 150, 200, 130],\n",
    "                      '제품B': [90, 110, 140, 170]})\n",
    "\n",
    "df_C_D = pd.DataFrame({'판매월': ['1월', '2월', '3월', '4월'],\n",
    "                      '제품C': [112, 141, 203, 134],\n",
    "                      '제품D': [90, 110, 140, 170]})"
   ]
  },
  {
   "cell_type": "code",
   "execution_count": 84,
   "id": "functioning-fight",
   "metadata": {},
   "outputs": [
    {
     "ename": "ValueError",
     "evalue": "columns overlap but no suffix specified: Index(['판매월'], dtype='object')",
     "output_type": "error",
     "traceback": [
      "\u001b[0;31m---------------------------------------------------------------------------\u001b[0m",
      "\u001b[0;31mValueError\u001b[0m                                Traceback (most recent call last)",
      "\u001b[0;32m<ipython-input-84-352a206d38bb>\u001b[0m in \u001b[0;36m<module>\u001b[0;34m\u001b[0m\n\u001b[0;32m----> 1\u001b[0;31m \u001b[0mprint\u001b[0m\u001b[0;34m(\u001b[0m\u001b[0mdf_A_B\u001b[0m\u001b[0;34m.\u001b[0m\u001b[0mjoin\u001b[0m\u001b[0;34m(\u001b[0m\u001b[0mdf_C_D\u001b[0m\u001b[0;34m)\u001b[0m\u001b[0;34m)\u001b[0m\u001b[0;34m\u001b[0m\u001b[0;34m\u001b[0m\u001b[0m\n\u001b[0m",
      "\u001b[0;32m~/opt/anaconda3/envs/dl_env/lib/python3.8/site-packages/pandas/core/frame.py\u001b[0m in \u001b[0;36mjoin\u001b[0;34m(self, other, on, how, lsuffix, rsuffix, sort)\u001b[0m\n\u001b[1;32m   8108\u001b[0m         \u001b[0;36m5\u001b[0m  \u001b[0mK5\u001b[0m  \u001b[0mA5\u001b[0m  \u001b[0mNaN\u001b[0m\u001b[0;34m\u001b[0m\u001b[0;34m\u001b[0m\u001b[0m\n\u001b[1;32m   8109\u001b[0m         \"\"\"\n\u001b[0;32m-> 8110\u001b[0;31m         return self._join_compat(\n\u001b[0m\u001b[1;32m   8111\u001b[0m             \u001b[0mother\u001b[0m\u001b[0;34m,\u001b[0m \u001b[0mon\u001b[0m\u001b[0;34m=\u001b[0m\u001b[0mon\u001b[0m\u001b[0;34m,\u001b[0m \u001b[0mhow\u001b[0m\u001b[0;34m=\u001b[0m\u001b[0mhow\u001b[0m\u001b[0;34m,\u001b[0m \u001b[0mlsuffix\u001b[0m\u001b[0;34m=\u001b[0m\u001b[0mlsuffix\u001b[0m\u001b[0;34m,\u001b[0m \u001b[0mrsuffix\u001b[0m\u001b[0;34m=\u001b[0m\u001b[0mrsuffix\u001b[0m\u001b[0;34m,\u001b[0m \u001b[0msort\u001b[0m\u001b[0;34m=\u001b[0m\u001b[0msort\u001b[0m\u001b[0;34m\u001b[0m\u001b[0;34m\u001b[0m\u001b[0m\n\u001b[1;32m   8112\u001b[0m         )\n",
      "\u001b[0;32m~/opt/anaconda3/envs/dl_env/lib/python3.8/site-packages/pandas/core/frame.py\u001b[0m in \u001b[0;36m_join_compat\u001b[0;34m(self, other, on, how, lsuffix, rsuffix, sort)\u001b[0m\n\u001b[1;32m   8133\u001b[0m                     \u001b[0msort\u001b[0m\u001b[0;34m=\u001b[0m\u001b[0msort\u001b[0m\u001b[0;34m,\u001b[0m\u001b[0;34m\u001b[0m\u001b[0;34m\u001b[0m\u001b[0m\n\u001b[1;32m   8134\u001b[0m                 )\n\u001b[0;32m-> 8135\u001b[0;31m             return merge(\n\u001b[0m\u001b[1;32m   8136\u001b[0m                 \u001b[0mself\u001b[0m\u001b[0;34m,\u001b[0m\u001b[0;34m\u001b[0m\u001b[0;34m\u001b[0m\u001b[0m\n\u001b[1;32m   8137\u001b[0m                 \u001b[0mother\u001b[0m\u001b[0;34m,\u001b[0m\u001b[0;34m\u001b[0m\u001b[0;34m\u001b[0m\u001b[0m\n",
      "\u001b[0;32m~/opt/anaconda3/envs/dl_env/lib/python3.8/site-packages/pandas/core/reshape/merge.py\u001b[0m in \u001b[0;36mmerge\u001b[0;34m(left, right, how, on, left_on, right_on, left_index, right_index, sort, suffixes, copy, indicator, validate)\u001b[0m\n\u001b[1;32m     87\u001b[0m         \u001b[0mvalidate\u001b[0m\u001b[0;34m=\u001b[0m\u001b[0mvalidate\u001b[0m\u001b[0;34m,\u001b[0m\u001b[0;34m\u001b[0m\u001b[0;34m\u001b[0m\u001b[0m\n\u001b[1;32m     88\u001b[0m     )\n\u001b[0;32m---> 89\u001b[0;31m     \u001b[0;32mreturn\u001b[0m \u001b[0mop\u001b[0m\u001b[0;34m.\u001b[0m\u001b[0mget_result\u001b[0m\u001b[0;34m(\u001b[0m\u001b[0;34m)\u001b[0m\u001b[0;34m\u001b[0m\u001b[0;34m\u001b[0m\u001b[0m\n\u001b[0m\u001b[1;32m     90\u001b[0m \u001b[0;34m\u001b[0m\u001b[0m\n\u001b[1;32m     91\u001b[0m \u001b[0;34m\u001b[0m\u001b[0m\n",
      "\u001b[0;32m~/opt/anaconda3/envs/dl_env/lib/python3.8/site-packages/pandas/core/reshape/merge.py\u001b[0m in \u001b[0;36mget_result\u001b[0;34m(self)\u001b[0m\n\u001b[1;32m    684\u001b[0m         \u001b[0mjoin_index\u001b[0m\u001b[0;34m,\u001b[0m \u001b[0mleft_indexer\u001b[0m\u001b[0;34m,\u001b[0m \u001b[0mright_indexer\u001b[0m \u001b[0;34m=\u001b[0m \u001b[0mself\u001b[0m\u001b[0;34m.\u001b[0m\u001b[0m_get_join_info\u001b[0m\u001b[0;34m(\u001b[0m\u001b[0;34m)\u001b[0m\u001b[0;34m\u001b[0m\u001b[0;34m\u001b[0m\u001b[0m\n\u001b[1;32m    685\u001b[0m \u001b[0;34m\u001b[0m\u001b[0m\n\u001b[0;32m--> 686\u001b[0;31m         llabels, rlabels = _items_overlap_with_suffix(\n\u001b[0m\u001b[1;32m    687\u001b[0m             \u001b[0mself\u001b[0m\u001b[0;34m.\u001b[0m\u001b[0mleft\u001b[0m\u001b[0;34m.\u001b[0m\u001b[0m_info_axis\u001b[0m\u001b[0;34m,\u001b[0m \u001b[0mself\u001b[0m\u001b[0;34m.\u001b[0m\u001b[0mright\u001b[0m\u001b[0;34m.\u001b[0m\u001b[0m_info_axis\u001b[0m\u001b[0;34m,\u001b[0m \u001b[0mself\u001b[0m\u001b[0;34m.\u001b[0m\u001b[0msuffixes\u001b[0m\u001b[0;34m\u001b[0m\u001b[0;34m\u001b[0m\u001b[0m\n\u001b[1;32m    688\u001b[0m         )\n",
      "\u001b[0;32m~/opt/anaconda3/envs/dl_env/lib/python3.8/site-packages/pandas/core/reshape/merge.py\u001b[0m in \u001b[0;36m_items_overlap_with_suffix\u001b[0;34m(left, right, suffixes)\u001b[0m\n\u001b[1;32m   2176\u001b[0m \u001b[0;34m\u001b[0m\u001b[0m\n\u001b[1;32m   2177\u001b[0m     \u001b[0;32mif\u001b[0m \u001b[0;32mnot\u001b[0m \u001b[0mlsuffix\u001b[0m \u001b[0;32mand\u001b[0m \u001b[0;32mnot\u001b[0m \u001b[0mrsuffix\u001b[0m\u001b[0;34m:\u001b[0m\u001b[0;34m\u001b[0m\u001b[0;34m\u001b[0m\u001b[0m\n\u001b[0;32m-> 2178\u001b[0;31m         \u001b[0;32mraise\u001b[0m \u001b[0mValueError\u001b[0m\u001b[0;34m(\u001b[0m\u001b[0;34mf\"columns overlap but no suffix specified: {to_rename}\"\u001b[0m\u001b[0;34m)\u001b[0m\u001b[0;34m\u001b[0m\u001b[0;34m\u001b[0m\u001b[0m\n\u001b[0m\u001b[1;32m   2179\u001b[0m \u001b[0;34m\u001b[0m\u001b[0m\n\u001b[1;32m   2180\u001b[0m     \u001b[0;32mdef\u001b[0m \u001b[0mrenamer\u001b[0m\u001b[0;34m(\u001b[0m\u001b[0mx\u001b[0m\u001b[0;34m,\u001b[0m \u001b[0msuffix\u001b[0m\u001b[0;34m)\u001b[0m\u001b[0;34m:\u001b[0m\u001b[0;34m\u001b[0m\u001b[0;34m\u001b[0m\u001b[0m\n",
      "\u001b[0;31mValueError\u001b[0m: columns overlap but no suffix specified: Index(['판매월'], dtype='object')"
     ]
    }
   ],
   "source": [
    "# 판매 월 이라는 동일한 컬럼이 겹쳐서 에러가남\n",
    "print(df_A_B.join(df_C_D))"
   ]
  },
  {
   "cell_type": "code",
   "execution_count": 87,
   "id": "experienced-ceiling",
   "metadata": {},
   "outputs": [
    {
     "name": "stdout",
     "output_type": "stream",
     "text": [
      "  판매월  제품A  제품B  제품C  제품D\n",
      "0  1월  100   90  112   90\n",
      "1  2월  150  110  141  110\n",
      "2  3월  200  140  203  140\n",
      "3  4월  130  170  134  170\n",
      "  판매월    제품A    제품B    제품C    제품D\n",
      "0  1월  100.0   90.0    NaN    NaN\n",
      "1  2월  150.0  110.0    NaN    NaN\n",
      "2  3월  200.0  140.0    NaN    NaN\n",
      "3  4월  130.0  170.0    NaN    NaN\n",
      "0  1월    NaN    NaN  112.0   90.0\n",
      "1  2월    NaN    NaN  141.0  110.0\n",
      "2  3월    NaN    NaN  203.0  140.0\n",
      "3  4월    NaN    NaN  134.0  170.0\n"
     ]
    }
   ],
   "source": [
    "#동일한 컬럼으로 조인 시킴\n",
    "print(df_A_B.merge(df_C_D))\n",
    "#append와의 차이\n",
    "print(df_A_B.append(df_C_D))"
   ]
  },
  {
   "cell_type": "code",
   "execution_count": 88,
   "id": "extended-strain",
   "metadata": {},
   "outputs": [
    {
     "name": "stdout",
     "output_type": "stream",
     "text": [
      "  key  left\n",
      "0   A     1\n",
      "1   B     2\n",
      "2   C     3   key  right\n",
      "0   A      1\n",
      "1   B      2\n",
      "2   D      3\n"
     ]
    }
   ],
   "source": [
    "df_left = pd.DataFrame({'key': ['A', 'B','C'], 'left':[1, 2, 3]})\n",
    "df_right = pd.DataFrame({'key': ['A','B','D'], 'right':[4, 5, 6]})\n",
    "print(df_left, df_right)"
   ]
  },
  {
   "cell_type": "code",
   "execution_count": 89,
   "id": "touched-karen",
   "metadata": {},
   "outputs": [
    {
     "name": "stdout",
     "output_type": "stream",
     "text": [
      "  key  left  right\n",
      "0   A     1    1.0\n",
      "1   B     2    2.0\n",
      "2   C     3    NaN\n"
     ]
    }
   ],
   "source": [
    "print(df_left.merge(df_right, how='left', on='key')) #기준을 잡아서 머지하는 것"
   ]
  },
  {
   "cell_type": "code",
   "execution_count": 90,
   "id": "joined-printing",
   "metadata": {},
   "outputs": [
    {
     "name": "stdout",
     "output_type": "stream",
     "text": [
      "  key  left  right\n",
      "0   A   1.0    1.0\n",
      "1   B   2.0    2.0\n",
      "2   C   3.0    NaN\n",
      "3   D   NaN    3.0\n"
     ]
    }
   ],
   "source": [
    "print(df_left.merge(df_right, how='outer', on='key')) # 양쪽 다"
   ]
  },
  {
   "cell_type": "code",
   "execution_count": 91,
   "id": "universal-error",
   "metadata": {},
   "outputs": [
    {
     "name": "stdout",
     "output_type": "stream",
     "text": [
      "  key  left  right\n",
      "0   A     1      1\n",
      "1   B     2      2\n"
     ]
    }
   ],
   "source": [
    "print(df_left.merge(df_right, how='inner', on='key')) # 겹치는 부분만"
   ]
  },
  {
   "cell_type": "code",
   "execution_count": 99,
   "id": "running-quebec",
   "metadata": {},
   "outputs": [],
   "source": [
    "df = pd.read_csv('/Users/user/java-web-project0208/python-basic/data/sea_rain1.csv')"
   ]
  },
  {
   "cell_type": "code",
   "execution_count": 96,
   "id": "generous-hartford",
   "metadata": {},
   "outputs": [
    {
     "name": "stdout",
     "output_type": "stream",
     "text": [
      "     연도       동해       남해       서해       전체\n",
      "0  1996  17.4629  17.2288  14.4360  15.9067\n",
      "1  1997  17.4116  17.4092  14.8248  16.1526\n",
      "2  1998  17.5944  18.0110  15.2512  16.6044\n",
      "3  1999  18.1495  18.3175  14.8979  16.6284\n",
      "4  2000  17.9288  18.1766  15.0504  16.6178\n"
     ]
    }
   ],
   "source": [
    "print(df)"
   ]
  },
  {
   "cell_type": "code",
   "execution_count": 100,
   "id": "minimal-liberty",
   "metadata": {},
   "outputs": [
    {
     "name": "stdout",
     "output_type": "stream",
     "text": [
      "      Weight  Height\n",
      "User                \n",
      "ID_1      62     165\n",
      "ID_2      67     177\n",
      "ID_3      55     160\n",
      "ID_4      74     180\n"
     ]
    }
   ],
   "source": [
    "df_WH = pd.DataFrame({'Weight': [62, 67, 55, 74],\n",
    "                      'Height':[165, 177,160,180]},\n",
    "                    index=['ID_1', 'ID_2', 'ID_3', 'ID_4' ])\n",
    "df_WH.index.name = 'User'\n",
    "print(df_WH)"
   ]
  },
  {
   "cell_type": "code",
   "execution_count": 101,
   "id": "excessive-officer",
   "metadata": {},
   "outputs": [
    {
     "name": "stdout",
     "output_type": "stream",
     "text": [
      "User\n",
      "ID_1    22.773186\n",
      "ID_2    21.385936\n",
      "ID_3    21.484375\n",
      "ID_4    22.839506\n",
      "dtype: float64\n"
     ]
    }
   ],
   "source": [
    "bmi = df_WH['Weight']/(df_WH['Height']/100) **2\n",
    "print(bmi)"
   ]
  },
  {
   "cell_type": "code",
   "execution_count": 102,
   "id": "banned-forward",
   "metadata": {},
   "outputs": [
    {
     "name": "stdout",
     "output_type": "stream",
     "text": [
      "      Weight  Height        BMI\n",
      "User                           \n",
      "ID_1      62     165  22.773186\n",
      "ID_2      67     177  21.385936\n",
      "ID_3      55     160  21.484375\n",
      "ID_4      74     180  22.839506\n"
     ]
    }
   ],
   "source": [
    "df_WH['BMI'] = bmi\n",
    "print(df_WH)"
   ]
  },
  {
   "cell_type": "code",
   "execution_count": 103,
   "id": "traditional-individual",
   "metadata": {},
   "outputs": [],
   "source": [
    "df_WH.to_csv('/Users/user/java-web-project0208/python-basic/data/save_DataFrame.csv')"
   ]
  },
  {
   "cell_type": "code",
   "execution_count": 104,
   "id": "upset-progressive",
   "metadata": {},
   "outputs": [],
   "source": [
    "import matplotlib.pyplot as plt"
   ]
  },
  {
   "cell_type": "code",
   "execution_count": 105,
   "id": "south-fifteen",
   "metadata": {},
   "outputs": [
    {
     "data": {
      "image/png": "[encoded data removed]",
      "text/plain": [
       "<Figure size 432x288 with 1 Axes>"
      ]
     },
     "metadata": {
      "needs_background": "light"
     },
     "output_type": "display_data"
    }
   ],
   "source": [
    "data1 = [10, 14, 19, 20, 25]\n",
    "plt.plot(data1)\n",
    "plt.show()"
   ]
  },
  {
   "cell_type": "code",
   "execution_count": 108,
   "id": "approved-decade",
   "metadata": {},
   "outputs": [],
   "source": [
    "# 별도의 창으로 띄워줌\n",
    "# %matplotlib auto\n",
    "\n",
    "#jupyter 에서 쓸때\n",
    "%matplotlib inline"
   ]
  },
  {
   "cell_type": "code",
   "execution_count": 109,
   "id": "compatible-leone",
   "metadata": {},
   "outputs": [
    {
     "data": {
      "image/png": "[encoded data removed]",
      "text/plain": [
       "<Figure size 432x288 with 1 Axes>"
      ]
     },
     "metadata": {
      "needs_background": "light"
     },
     "output_type": "display_data"
    }
   ],
   "source": [
    "data1 = [10, 14, 19, 20, 25]\n",
    "plt.plot(data1)\n",
    "plt.show()"
   ]
  },
  {
   "cell_type": "code",
   "execution_count": 112,
   "id": "german-criterion",
   "metadata": {},
   "outputs": [
    {
     "data": {
      "image/png": "[encoded data removed]",
      "text/plain": [
       "<Figure size 432x288 with 1 Axes>"
      ]
     },
     "metadata": {
      "needs_background": "light"
     },
     "output_type": "display_data"
    }
   ],
   "source": [
    "x = np.arange(-4.5, 5, 0.5) # 범위 -4.5~ 5 0.5씩증가\n",
    "y= 2*x**2\n",
    "plt.plot(x, y)\n",
    "plt.show()"
   ]
  },
  {
   "cell_type": "code",
   "execution_count": 113,
   "id": "suspended-modern",
   "metadata": {},
   "outputs": [],
   "source": [
    "x = np.arange(-4.5, 5, 0.5)\n",
    "y1 = 2*x**2\n",
    "y2 = 5*x +30\n",
    "y3 = 4*x**2 +10"
   ]
  },
  {
   "cell_type": "code",
   "execution_count": 115,
   "id": "racial-canon",
   "metadata": {},
   "outputs": [
    {
     "data": {
      "image/png": "[encoded data removed]",
      "text/plain": [
       "<Figure size 432x288 with 1 Axes>"
      ]
     },
     "metadata": {
      "needs_background": "light"
     },
     "output_type": "display_data"
    }
   ],
   "source": [
    "plt.plot(x, y1)\n",
    "plt.plot(x, y2)\n",
    "plt.plot(x, y3)\n",
    "plt.show()"
   ]
  },
  {
   "cell_type": "code",
   "execution_count": 116,
   "id": "controlled-queen",
   "metadata": {},
   "outputs": [
    {
     "data": {
      "image/png": "[encoded data removed]",
      "text/plain": [
       "<Figure size 432x288 with 1 Axes>"
      ]
     },
     "metadata": {
      "needs_background": "light"
     },
     "output_type": "display_data"
    }
   ],
   "source": [
    "plt.plot(x, y1, x, y2, x, y3)\n",
    "plt.show()"
   ]
  },
  {
   "cell_type": "code",
   "execution_count": 118,
   "id": "contemporary-timeline",
   "metadata": {},
   "outputs": [
    {
     "data": {
      "image/png": "[encoded data removed]",
      "text/plain": [
       "<Figure size 432x288 with 1 Axes>"
      ]
     },
     "metadata": {
      "needs_background": "light"
     },
     "output_type": "display_data"
    },
    {
     "data": {
      "image/png": "[encoded data removed]",
      "text/plain": [
       "<Figure size 432x288 with 1 Axes>"
      ]
     },
     "metadata": {
      "needs_background": "light"
     },
     "output_type": "display_data"
    }
   ],
   "source": [
    "x = np.arange(-5, 5, 0.1)\n",
    "y1 = x **2 -2\n",
    "y2 = 20*np.cos(x) **2 \n",
    "\n",
    "plt.figure(1) # 1번 그래프 창을 생성합\n",
    "plt.plot(x, y1) # 지정된 그래프 창에 그래프를 그림\n",
    "\n",
    "plt.figure(2) # 2번 그래프 창을 생성합\n",
    "plt.plot(x, y2)# 지정된 그래프 창에 그래프를 그림\n",
    "\n",
    "plt.figure(1) # 이미 생성된 1번 그래프 창을 지정함\n",
    "plt.plot(x, y2) # 지정된 그래프 창에 그래프를 그림\n",
    "\n",
    "plt.figure(2) # 이미 생성된 2번 그래프창을 지정합\n",
    "plt.clf() # 2번 그래프 창에 그려진 모든 그래프를 지움\n",
    "plt.plot(x, y1) # 지정된 그래프 창에 그래프를 그림\n",
    "\n",
    "plt.show()\n"
   ]
  },
  {
   "cell_type": "markdown",
   "id": "original-interest",
   "metadata": {},
   "source": [
    "# 그래프 영역 나누기   \n",
    "  - plt.subplot(m,n,p)\n",
    "  - m X n 행렬의 그래프 영역 중 p 번쨰 위치\n",
    "  - p는 왼쪽 -> 오른쪽 ,위 -> 아래\n",
    "  "
   ]
  },
  {
   "cell_type": "code",
   "execution_count": 119,
   "id": "oriental-astrology",
   "metadata": {},
   "outputs": [],
   "source": [
    "x = np.arange(0, 10, 0.1)\n",
    "y1 = 0.3*(x-5) **2 +1\n",
    "y2 = -1.5*x +3\n",
    "y3 = np.sin(x)**2 # Numpy에서 sin()은 np.sin()\n",
    "y4 = 10*np.exp(-x) +1 # exp() 는 np.exp() 지수함수"
   ]
  },
  {
   "cell_type": "code",
   "execution_count": 120,
   "id": "minus-newspaper",
   "metadata": {},
   "outputs": [
    {
     "data": {
      "image/png": "[encoded data removed]",
      "text/plain": [
       "<Figure size 432x288 with 4 Axes>"
      ]
     },
     "metadata": {
      "needs_background": "light"
     },
     "output_type": "display_data"
    }
   ],
   "source": [
    "# 2 x 2 행렬로 이루어진 하위 그래프에서 p 에따라 위치를 지정\n",
    "\n",
    "plt.subplot(2,2,1)  # p는 1\n",
    "plt.plot(x,y1)\n",
    "\n",
    "plt.subplot(2,2,2)  # p는 2\n",
    "plt.plot(x,y2)\n",
    "\n",
    "plt.subplot(2,2,3)  # p는 3\n",
    "plt.plot(x,y3)\n",
    "\n",
    "plt.subplot(2,2,4)  # p는 4\n",
    "plt.plot(x,y4)\n",
    "\n",
    "plt.show()"
   ]
  },
  {
   "cell_type": "code",
   "execution_count": 121,
   "id": "neural-meter",
   "metadata": {},
   "outputs": [
    {
     "data": {
      "image/png": "[encoded data removed]",
      "text/plain": [
       "<Figure size 432x288 with 1 Axes>"
      ]
     },
     "metadata": {
      "needs_background": "light"
     },
     "output_type": "display_data"
    }
   ],
   "source": [
    "x = np.linspace(-4, 4, 100) # [-4, 4] 범위에서 100개의 값 생성\n",
    "y1 = x**3\n",
    "y2 = 10*x**2 - 2\n",
    "\n",
    "plt.plot(x, y1, x, y2)\n",
    "plt.show()"
   ]
  },
  {
   "cell_type": "code",
   "execution_count": 123,
   "id": "aware-chain",
   "metadata": {},
   "outputs": [
    {
     "data": {
      "image/png": "[encoded data removed]",
      "text/plain": [
       "<Figure size 432x288 with 1 Axes>"
      ]
     },
     "metadata": {
      "needs_background": "light"
     },
     "output_type": "display_data"
    }
   ],
   "source": [
    "# 겹치는 부분의 데이터를 잘 확인할 수 있게해줌\n",
    "\n",
    "plt.plot(x, y1, x, y2)\n",
    "#x, y에 limit을 줘서 그부분만 확대 할수 있음\n",
    "plt.xlim(-1, 1)\n",
    "plt.ylim(-3, 3)\n",
    "plt.show()"
   ]
  },
  {
   "cell_type": "markdown",
   "id": "incorrect-jefferson",
   "metadata": {},
   "source": [
    "## 포맷 문자열 '[color][line_style][marker]'"
   ]
  },
  {
   "cell_type": "code",
   "execution_count": 129,
   "id": "numerical-angola",
   "metadata": {},
   "outputs": [
    {
     "data": {
      "image/png": "[encoded data removed]",
      "text/plain": [
       "<Figure size 432x288 with 1 Axes>"
      ]
     },
     "metadata": {
      "needs_background": "light"
     },
     "output_type": "display_data"
    }
   ],
   "source": [
    "x = np.arange(0, 5, 1)\n",
    "y1 = x\n",
    "y2 = x + 1\n",
    "y3 = x + 2\n",
    "y4 = x + 3\n",
    "\n",
    "plt.plot(x, y1, x, y2, x, y3, x, y4)\n",
    "plt.show()"
   ]
  },
  {
   "cell_type": "code",
   "execution_count": 130,
   "id": "destroyed-collapse",
   "metadata": {},
   "outputs": [
    {
     "data": {
      "image/png": "[encoded data removed]",
      "text/plain": [
       "<Figure size 432x288 with 1 Axes>"
      ]
     },
     "metadata": {
      "needs_background": "light"
     },
     "output_type": "display_data"
    }
   ],
   "source": [
    "plt.plot(x, y1, '>--r', x, y2, 's-g', x, y3, 'd:b', x, y4,'-.Xc')\n",
    "plt.show()"
   ]
  },
  {
   "cell_type": "code",
   "execution_count": 127,
   "id": "informational-nickname",
   "metadata": {},
   "outputs": [
    {
     "data": {
      "image/png": "[encoded data removed]",
      "text/plain": [
       "<Figure size 432x288 with 1 Axes>"
      ]
     },
     "metadata": {
      "needs_background": "light"
     },
     "output_type": "display_data"
    }
   ],
   "source": [
    "plt.plot(x,y1)\n",
    "plt.xlabel('X-axis')\n",
    "plt.ylabel('Y-axis')\n",
    "plt.title('Graph title')\n",
    "plt.grid()\n",
    "plt.show()"
   ]
  },
  {
   "cell_type": "code",
   "execution_count": 128,
   "id": "dental-helmet",
   "metadata": {},
   "outputs": [],
   "source": [
    "x = np.arange(0, 5, 1)\n",
    "y1 = x\n",
    "y2 = x + 1\n",
    "y3 = x + 2\n",
    "y4 = x + 3"
   ]
  },
  {
   "cell_type": "code",
   "execution_count": 132,
   "id": "graduate-melissa",
   "metadata": {},
   "outputs": [
    {
     "data": {
      "image/png": "[encoded data removed]",
      "text/plain": [
       "<Figure size 432x288 with 1 Axes>"
      ]
     },
     "metadata": {
      "needs_background": "light"
     },
     "output_type": "display_data"
    }
   ],
   "source": [
    "# 그래프의 이름 표시\n",
    "plt.plot(x, y1, '>--r', x, y2, 's-g', x, y3, 'd:b', x, y4,'-.Xc')\n",
    "plt.legend(['data1', 'data2', 'data3', 'data4'], loc = 'lower right') #loc 로 위치 조정가능\n",
    "plt.show()"
   ]
  },
  {
   "cell_type": "code",
   "execution_count": 136,
   "id": "given-patch",
   "metadata": {},
   "outputs": [
    {
     "data": {
      "image/png": "[encoded data removed]",
      "text/plain": [
       "<Figure size 432x288 with 1 Axes>"
      ]
     },
     "metadata": {
      "needs_background": "light"
     },
     "output_type": "display_data"
    }
   ],
   "source": [
    "plt.plot(x, y1, '>--r', x, y2, 's-g', x, y3, 'd:b', x, y4,'-.Xc')\n",
    "plt.legend(['data1', 'data2', 'data3', 'data4'], loc=4)\n",
    "plt.xlabel('X-axis')\n",
    "plt.ylabel('Y-axis')\n",
    "plt.title('Graph title')\n",
    "plt.grid(True)\n",
    "plt.show()"
   ]
  },
  {
   "cell_type": "code",
   "execution_count": 142,
   "id": "induced-railway",
   "metadata": {},
   "outputs": [
    {
     "data": {
      "image/png": "[encoded data removed]",
      "text/plain": [
       "<Figure size 432x288 with 1 Axes>"
      ]
     },
     "metadata": {
      "needs_background": "light"
     },
     "output_type": "display_data"
    }
   ],
   "source": [
    "plt.plot(x, y1, '>--r', x, y2, 's-g', x, y3, 'd:b', x, y4,'-.Xc')\n",
    "plt.legend(['데이터1', '데이터2', '데이터3', '데이터4'], loc=4)\n",
    "plt.xlabel('X-axis')\n",
    "plt.ylabel('Y-axis')\n",
    "plt.title('Graph title')\n",
    "plt.grid(True)\n",
    "plt.show()"
   ]
  },
  {
   "cell_type": "code",
   "execution_count": 140,
   "id": "strategic-guitar",
   "metadata": {},
   "outputs": [],
   "source": [
    "from matplotlib import rc # 한글출력할 수 있게 하는 임포트"
   ]
  },
  {
   "cell_type": "code",
   "execution_count": 141,
   "id": "simplified-radius",
   "metadata": {},
   "outputs": [],
   "source": [
    "rc('font', family='AppleGothic')"
   ]
  },
  {
   "cell_type": "code",
   "execution_count": 143,
   "id": "acoustic-brazilian",
   "metadata": {},
   "outputs": [],
   "source": [
    "import platform\n",
    "from matplotlib import font_manager, rc # 운영체제에 따라 구분\n",
    "path = \"c:/Windows/Fonts/malgun.ttf\"\n",
    "if platform.system() == 'Darwin':\n",
    "    rc('font', family='AppleGothic')\n",
    "elif platform.system() == 'Windows':\n",
    "    font_name = font_manager.FontProperties(fname=path).get_name()\n",
    "    rc('font', family = font_name)\n",
    "else:\n",
    "    print(\"Unknown system ..\")"
   ]
  },
  {
   "cell_type": "code",
   "execution_count": 146,
   "id": "healthy-marketing",
   "metadata": {},
   "outputs": [
    {
     "data": {
      "image/png": "[encoded data removed]",
      "text/plain": [
       "<Figure size 432x288 with 1 Axes>"
      ]
     },
     "metadata": {
      "needs_background": "light"
     },
     "output_type": "display_data"
    }
   ],
   "source": [
    "plt.plot(x, y1, '>--r', x, y2, 's-g', x, y3, 'd:b', x, y4,'-.Xc')\n",
    "\n",
    "# x, y 좌표를 지정해 그 위치에 문자열 출력 가능\n",
    "\n",
    "plt.text(0, 6, \"문자열 출력 1\")\n",
    "plt.text(0, 5, \"문자열 출력 2\")\n",
    "plt.text(3, 1, \"문자열 출력 3\")\n",
    "plt.text(3, 0, \"문자열 출력 4\")\n",
    "\n",
    "plt.show()"
   ]
  }
 ],
 "metadata": {
  "kernelspec": {
   "display_name": "Python 3",
   "language": "python",
   "name": "python3"
  },
  "language_info": {
   "codemirror_mode": {
    "name": "ipython",
    "version": 3
   },
   "file_extension": ".py",
   "mimetype": "text/x-python",
   "name": "python",
   "nbconvert_exporter": "python",
   "pygments_lexer": "ipython3",
   "version": "3.8.8"
  }
 },
 "nbformat": 4,
 "nbformat_minor": 5
}
