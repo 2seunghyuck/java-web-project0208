{
 "cells": [
  {
   "cell_type": "code",
   "execution_count": 7,
   "id": "recognized-blast",
   "metadata": {},
   "outputs": [],
   "source": [
    "class SoccerPlayer(object):\n",
    "    def __init__(self, name, position, back_number):\n",
    "        self.name = name\n",
    "        self.position = position\n",
    "        self.back_number = back_number\n",
    "        \n",
    "    def change_back_number(self, new_number):\n",
    "        print(\"선수 등번호 변경 : From %d to %d\" % (self.back_number, new_number))\n",
    "        self.back_number = new_number\n",
    "        \n",
    "    def __str__(self):\n",
    "        return \"Hello, My name is %s. I play in %s in center.\" % (self.name, self.position)\n",
    "    "
   ]
  },
  {
   "cell_type": "code",
   "execution_count": 9,
   "id": "vulnerable-bacteria",
   "metadata": {},
   "outputs": [
    {
     "name": "stdout",
     "output_type": "stream",
     "text": [
      "현재 선수의 등번호:  11\n",
      "선수 등번호 변경 : From 11 to 9\n",
      "현재 선수의 등번호:  9\n",
      "\n",
      "Hello, My name is Chaboom. I play in CF in center.\n"
     ]
    }
   ],
   "source": [
    "chaboom = SoccerPlayer(\"Chaboom\", \"CF\", 11)\n",
    "\n",
    "print(\"현재 선수의 등번호: \", chaboom.back_number)\n",
    "chaboom.change_back_number(9)\n",
    "print(\"현재 선수의 등번호: \", chaboom.back_number)\n",
    "print()\n",
    "print(chaboom)"
   ]
  },
  {
   "cell_type": "code",
   "execution_count": 13,
   "id": "satisfactory-arrival",
   "metadata": {},
   "outputs": [],
   "source": [
    "class Car:\n",
    "    instance_count = 0\n",
    "    \n",
    "    def __init__(self, size, color):\n",
    "        self.size = size\n",
    "        self.color = color\n",
    "        Car.instance_count += 1\n",
    "        print(f\"자동차 객체의 수: {Car.instance_count}\")\n",
    "        \n",
    "    def move(self):\n",
    "        print(f\"자동차({self.size} & {self.color})가 움직입니다.\")\n",
    "        "
   ]
  },
  {
   "cell_type": "code",
   "execution_count": 18,
   "id": "expressed-click",
   "metadata": {},
   "outputs": [
    {
     "name": "stdout",
     "output_type": "stream",
     "text": [
      "자동차 객체의 수: 4\n"
     ]
    }
   ],
   "source": [
    "K5 = Car(\"small\", \"white\")"
   ]
  },
  {
   "cell_type": "code",
   "execution_count": 16,
   "id": "exterior-cookie",
   "metadata": {},
   "outputs": [
    {
     "name": "stdout",
     "output_type": "stream",
     "text": [
      "자동차 객체의 수: 3\n"
     ]
    }
   ],
   "source": [
    "car2 = Car(\"big\", \"black\")"
   ]
  },
  {
   "cell_type": "code",
   "execution_count": 19,
   "id": "checked-applicant",
   "metadata": {},
   "outputs": [
    {
     "name": "stdout",
     "output_type": "stream",
     "text": [
      "Car클래스의 총 인스턴스 수: 4\n"
     ]
    }
   ],
   "source": [
    "print(f\"Car클래스의 총 인스턴스 수: {Car.instance_count}\")"
   ]
  },
  {
   "cell_type": "code",
   "execution_count": 20,
   "id": "yellow-concept",
   "metadata": {},
   "outputs": [
    {
     "name": "stdout",
     "output_type": "stream",
     "text": [
      "자동차(small & white)가 움직입니다.\n",
      "자동차(big & black)가 움직입니다.\n"
     ]
    }
   ],
   "source": [
    "K5.move()\n",
    "car2.move()"
   ]
  },
  {
   "cell_type": "code",
   "execution_count": 1,
   "id": "israeli-specialist",
   "metadata": {},
   "outputs": [],
   "source": [
    "class Car:\n",
    "    instance_count = 0\n",
    "    \n",
    "    def __init__(self, size, color):\n",
    "        self.size = size\n",
    "        self.color = color\n",
    "        self.speed = 0\n",
    "        Car.instance_count += 1\n",
    "        print(f\"자동차 객체의 수: {Car.instance_count}\")\n",
    "        \n",
    "    def move(self, speed):\n",
    "        self.speed = speed\n",
    "        print(f\"자동차({self.size} & {self.color})가\", end='')\n",
    "        print(f\"자동차가 {self.speed}Km 으로 움직입니다.\")\n",
    "        \n",
    "    def auto_cruise(self):\n",
    "        print(\"자율주행 모드\")\n",
    "        self.move(self.speed)\n",
    "    \n",
    "    # python의 staticMethod\n",
    "    @staticmethod\n",
    "    def check_type(model_code):\n",
    "        if(model_code >= 20):\n",
    "            print(\"이 자동차는 전기차 입니다.\")\n",
    "        elif(10<= model_code <20):\n",
    "            print(\"이 자동차는 가솔린 입니다.\")\n",
    "        else:\n",
    "            print(\"이 자동차는 디젤 입니다.\")\n",
    "        \n",
    "    @classmethod\n",
    "    def count_instance(cls):\n",
    "        print(f\"클래스 변수: {cls.instance_count}\")\n",
    "    "
   ]
  },
  {
   "cell_type": "code",
   "execution_count": 25,
   "id": "synthetic-selection",
   "metadata": {},
   "outputs": [
    {
     "name": "stdout",
     "output_type": "stream",
     "text": [
      "자동차 객체의 수: 1\n",
      "자동차(Small & red)가자동차가 80Km 으로 움직입니다.\n",
      "자율주행 모드\n",
      "자동차(Small & red)가자동차가 80Km 으로 움직입니다.\n"
     ]
    }
   ],
   "source": [
    "car = Car(\"Small\",\"red\")\n",
    "car.move(80)\n",
    "car.auto_cruise()"
   ]
  },
  {
   "cell_type": "code",
   "execution_count": 27,
   "id": "christian-yacht",
   "metadata": {},
   "outputs": [
    {
     "name": "stdout",
     "output_type": "stream",
     "text": [
      "이 자동차는 전기차 입니다.\n"
     ]
    }
   ],
   "source": [
    "Car.check_type(25)"
   ]
  },
  {
   "cell_type": "code",
   "execution_count": 2,
   "id": "still-swiss",
   "metadata": {},
   "outputs": [
    {
     "name": "stdout",
     "output_type": "stream",
     "text": [
      "클래스 변수: 0\n",
      "자동차 객체의 수: 1\n",
      "클래스 변수: 1\n"
     ]
    }
   ],
   "source": [
    "Car.count_instance()\n",
    "car1 = Car(\"small\", \"greed\")\n",
    "Car.count_instance()"
   ]
  },
  {
   "cell_type": "code",
   "execution_count": 3,
   "id": "cloudy-thomson",
   "metadata": {},
   "outputs": [
    {
     "name": "stdout",
     "output_type": "stream",
     "text": [
      "자동차 객체의 수: 2\n",
      "클래스 변수: 2\n"
     ]
    }
   ],
   "source": [
    "car2 = Car(\"big\", \"black\")\n",
    "Car.count_instance()"
   ]
  },
  {
   "cell_type": "code",
   "execution_count": 5,
   "id": "authorized-sitting",
   "metadata": {},
   "outputs": [
    {
     "name": "stdout",
     "output_type": "stream",
     "text": [
      "클래스 변수: 2\n"
     ]
    }
   ],
   "source": [
    "car1.count_instance()"
   ]
  },
  {
   "cell_type": "code",
   "execution_count": 7,
   "id": "demographic-germany",
   "metadata": {},
   "outputs": [],
   "source": [
    "class Bicycle:\n",
    "    def __init__(self, wheel_size, color):\n",
    "        self.wheel_size = wheel_size\n",
    "        self.color = color\n",
    "\n",
    "    def move(self, speed):\n",
    "        print(f\"자전거 시속{speed}킬로미터로 전진\")\n",
    "    \n",
    "    def turn(self, direction):\n",
    "        print(f\"자전거 {direction}회전\")\n",
    "        \n",
    "    def stop(self):\n",
    "        print(f\"자전거 {self.wheel_size},{self.color} 정지\")"
   ]
  },
  {
   "cell_type": "code",
   "execution_count": 12,
   "id": "theoretical-milwaukee",
   "metadata": {},
   "outputs": [],
   "source": [
    "class FoldingBicycle(Bicycle):\n",
    "    def __init__(self, wheel_size, color, state):\n",
    "        super().__init__(wheel_size, color)\n",
    "        self.state = state\n",
    "        \n",
    "    def fold(self):\n",
    "        self.state = 'folding'\n",
    "        print(f\"자전거: 접기, state = {self.state}\")\n",
    "        \n",
    "    def unfold(self):\n",
    "        self.state = 'unfolding'\n",
    "        print(f\"자전거: 펴기, state = {self.state}\")"
   ]
  },
  {
   "cell_type": "code",
   "execution_count": 13,
   "id": "numeric-battlefield",
   "metadata": {},
   "outputs": [
    {
     "name": "stdout",
     "output_type": "stream",
     "text": [
      "자전거 시속20킬로미터로 전진\n",
      "자전거 right회전\n",
      "자전거 좌회전\n",
      "자전거 27,white 정지\n",
      "자전거: 접기, state = folding\n",
      "자전거: 펴기, state = unfolding\n"
     ]
    }
   ],
   "source": [
    "folding_bicycle = FoldingBicycle(27, 'white', 'unfolding')\n",
    "folding_bicycle.move(20)\n",
    "folding_bicycle.turn(\"right\")\n",
    "folding_bicycle.turn(\"좌\")\n",
    "folding_bicycle.stop()\n",
    "folding_bicycle.fold()\n",
    "folding_bicycle.unfold()"
   ]
  },
  {
   "cell_type": "code",
   "execution_count": 15,
   "id": "simplified-status",
   "metadata": {},
   "outputs": [
    {
     "name": "stdout",
     "output_type": "stream",
     "text": [
      "자전거 시속20킬로미터로 전진\n",
      "자전거 big,green 정지\n"
     ]
    }
   ],
   "source": [
    "bicycle = Bicycle(\"big\",\"green\")\n",
    "bicycle.move(20)\n",
    "bicycle.stop()"
   ]
  },
  {
   "cell_type": "code",
   "execution_count": 18,
   "id": "fatty-slave",
   "metadata": {},
   "outputs": [],
   "source": [
    "class Person:\n",
    "    def __init__(self, name, age, gender):\n",
    "        self.name = name\n",
    "        self.age = age\n",
    "        self.gender = gender\n",
    "        \n",
    "    def about_me(self):\n",
    "        print(\"저의 이름은\", self.name, end='')\n",
    "        print(f\"({self.gender})이고요, 제 나이는\", str(self.age),\"살 입니다.\")"
   ]
  },
  {
   "cell_type": "code",
   "execution_count": 19,
   "id": "immune-letter",
   "metadata": {},
   "outputs": [],
   "source": [
    "class Employee(Person):\n",
    "    \n",
    "    def __init__(self, name, age, gender, salary, hire_date):\n",
    "        super().__init__(name, age, gender)\n",
    "        self.salary = salary\n",
    "        self.hire_date = hire_date\n",
    "        \n",
    "    def do_work(self):\n",
    "        print(\"열심히 일을 한다\")\n",
    "    \n",
    "    # 부모의 메서드 오버라이딩\n",
    "    def about_me(self):\n",
    "        super().about_me()\n",
    "        print(\"제 급여는\", self.salary,\"원이고, 제 입사일은 \", self.hire_date,\"입니다.\")"
   ]
  },
  {
   "cell_type": "code",
   "execution_count": 20,
   "id": "applied-forty",
   "metadata": {},
   "outputs": [
    {
     "name": "stdout",
     "output_type": "stream",
     "text": [
      "열심히 일을 한다\n",
      "저의 이름은 Tom(남성)이고요, 제 나이는 25 살 입니다.\n",
      "제 급여는 350 원이고, 제 입사일은  2020/06/02 입니다.\n"
     ]
    }
   ],
   "source": [
    "emp = Employee('Tom', 25, '남성', 350, '2020/06/02')\n",
    "\n",
    "emp.do_work()\n",
    "emp.about_me()"
   ]
  },
  {
   "cell_type": "code",
   "execution_count": 21,
   "id": "handled-bradley",
   "metadata": {},
   "outputs": [],
   "source": [
    "class Product:\n",
    "    \n",
    "    #자바의 {}와 같은역할\n",
    "    pass"
   ]
  },
  {
   "cell_type": "code",
   "execution_count": 26,
   "id": "acquired-audit",
   "metadata": {},
   "outputs": [],
   "source": [
    "class Inventory(object):\n",
    "    def __init__(self):\n",
    "        # python의 private 처리 역할을하는 '__'\n",
    "        self.__items =[]\n",
    "    def add_new_item(self, product):\n",
    "        if type(product) == Product:\n",
    "            self.__items.append(product)\n",
    "            print(\"new item added\")\n",
    "        else:\n",
    "            raise ValueError(\"Invalid item\")\n",
    "    \n",
    "    #자바의 게터와 비슷한개념\n",
    "    def get_number_of_items(self):\n",
    "        return len(self.__items)\n",
    "    @property\n",
    "    def items(self):\n",
    "        return self.__items"
   ]
  },
  {
   "cell_type": "code",
   "execution_count": 23,
   "id": "numeric-brazilian",
   "metadata": {},
   "outputs": [
    {
     "name": "stdout",
     "output_type": "stream",
     "text": [
      "new item added\n",
      "new item added\n"
     ]
    }
   ],
   "source": [
    "my_inventory = Inventory()\n",
    "my_inventory.add_new_item(Product())\n",
    "my_inventory.add_new_item(Product())"
   ]
  },
  {
   "cell_type": "code",
   "execution_count": 24,
   "id": "blocked-director",
   "metadata": {},
   "outputs": [
    {
     "data": {
      "text/plain": [
       "2"
      ]
     },
     "execution_count": 24,
     "metadata": {},
     "output_type": "execute_result"
    }
   ],
   "source": [
    "my_inventory.get_number_of_items()"
   ]
  },
  {
   "cell_type": "code",
   "execution_count": 25,
   "id": "funny-quantity",
   "metadata": {},
   "outputs": [
    {
     "ename": "AttributeError",
     "evalue": "'Inventory' object has no attribute '__items'",
     "output_type": "error",
     "traceback": [
      "\u001b[0;31m---------------------------------------------------------------------------\u001b[0m",
      "\u001b[0;31mAttributeError\u001b[0m                            Traceback (most recent call last)",
      "\u001b[0;32m<ipython-input-25-11cc93e1f4f4>\u001b[0m in \u001b[0;36m<module>\u001b[0;34m\u001b[0m\n\u001b[0;32m----> 1\u001b[0;31m \u001b[0mmy_inventory\u001b[0m\u001b[0;34m.\u001b[0m\u001b[0m__items\u001b[0m\u001b[0;34m\u001b[0m\u001b[0;34m\u001b[0m\u001b[0m\n\u001b[0m",
      "\u001b[0;31mAttributeError\u001b[0m: 'Inventory' object has no attribute '__items'"
     ]
    }
   ],
   "source": [
    "my_inventory.__items"
   ]
  },
  {
   "cell_type": "code",
   "execution_count": 27,
   "id": "retained-secondary",
   "metadata": {},
   "outputs": [],
   "source": [
    "my_inventory = Inventory()"
   ]
  },
  {
   "cell_type": "code",
   "execution_count": 29,
   "id": "first-aquarium",
   "metadata": {},
   "outputs": [],
   "source": [
    "items = my_inventory.items\n",
    "items.append(Product)"
   ]
  },
  {
   "cell_type": "code",
   "execution_count": 30,
   "id": "mental-count",
   "metadata": {},
   "outputs": [
    {
     "data": {
      "text/plain": [
       "1"
      ]
     },
     "execution_count": 30,
     "metadata": {},
     "output_type": "execute_result"
    }
   ],
   "source": [
    "my_inventory.get_number_of_items()"
   ]
  },
  {
   "cell_type": "code",
   "execution_count": 31,
   "id": "cosmetic-standing",
   "metadata": {},
   "outputs": [
    {
     "data": {
      "text/plain": [
       "0"
      ]
     },
     "execution_count": 31,
     "metadata": {},
     "output_type": "execute_result"
    }
   ],
   "source": [
    "my_inventory2 = Inventory()\n",
    "my_inventory2.get_number_of_items()"
   ]
  },
  {
   "cell_type": "code",
   "execution_count": 39,
   "id": "cosmetic-recruitment",
   "metadata": {},
   "outputs": [
    {
     "name": "stdout",
     "output_type": "stream",
     "text": [
      "Enter a clecius value: \n",
      "33\n",
      "It 's 91.4 degrees Farenheit.\n"
     ]
    }
   ],
   "source": [
    "import fah_converter\n",
    "print(\"Enter a clecius value: \")\n",
    "celcius = float(input())\n",
    "fahrenheit = fah_converter.convert_to_f(celcius)\n",
    "print(\"It 's\", fahrenheit, \"degrees Farenheit.\")"
   ]
  },
  {
   "cell_type": "code",
   "execution_count": 35,
   "id": "atmospheric-namibia",
   "metadata": {},
   "outputs": [],
   "source": [
    "#너무 긴 모듈명을 간단한 약어로 변경\n",
    "import fah_converter as fah \n",
    "\n",
    "#모듈안의 함수를 직접 사용 하는것\n",
    "from fah_converter import convert_to_f\n",
    "\n",
    "#모듈안의 모든 함수를 사용\n",
    "from fah_converter import *"
   ]
  },
  {
   "cell_type": "code",
   "execution_count": 37,
   "id": "romance-smile",
   "metadata": {},
   "outputs": [
    {
     "name": "stdout",
     "output_type": "stream",
     "text": [
      "모듈 테스트\n",
      "113.0\n"
     ]
    }
   ],
   "source": [
    "%run -i 'fah_converter'"
   ]
  },
  {
   "cell_type": "code",
   "execution_count": 41,
   "id": "scientific-rendering",
   "metadata": {},
   "outputs": [
    {
     "ename": "ModuleNotFoundError",
     "evalue": "No module named 'roboadvisor'",
     "output_type": "error",
     "traceback": [
      "\u001b[0;31m---------------------------------------------------------------------------\u001b[0m",
      "\u001b[0;31mModuleNotFoundError\u001b[0m                       Traceback (most recent call last)",
      "\u001b[0;32m~/java-web-project0208/python-basic/fah_converter.py\u001b[0m in \u001b[0;36m<module>\u001b[0;34m\u001b[0m\n\u001b[0;32m----> 1\u001b[0;31m \u001b[0;32mfrom\u001b[0m \u001b[0mroboadvisor\u001b[0m\u001b[0;34m.\u001b[0m\u001b[0malalysis\u001b[0m \u001b[0;32mimport\u001b[0m \u001b[0mseries\u001b[0m\u001b[0;34m\u001b[0m\u001b[0;34m\u001b[0m\u001b[0m\n\u001b[0m\u001b[1;32m      2\u001b[0m \u001b[0mseries\u001b[0m\u001b[0;34m.\u001b[0m\u001b[0mseries_test\u001b[0m\u001b[0;34m(\u001b[0m\u001b[0;34m)\u001b[0m\u001b[0;34m\u001b[0m\u001b[0;34m\u001b[0m\u001b[0m\n",
      "\u001b[0;31mModuleNotFoundError\u001b[0m: No module named 'roboadvisor'"
     ]
    }
   ],
   "source": [
    "from roboadvisor.alalysis import series\n",
    "series.series_test()"
   ]
  },
  {
   "cell_type": "code",
   "execution_count": 42,
   "id": "empty-stress",
   "metadata": {},
   "outputs": [
    {
     "name": "stdout",
     "output_type": "stream",
     "text": [
      "['/Users/user/java-web-project0208/python-basic', '/Users/user/opt/anaconda3/envs/dl_env/lib/python38.zip', '/Users/user/opt/anaconda3/envs/dl_env/lib/python3.8', '/Users/user/opt/anaconda3/envs/dl_env/lib/python3.8/lib-dynload', '', '/Users/user/opt/anaconda3/envs/dl_env/lib/python3.8/site-packages', '/Users/user/opt/anaconda3/envs/dl_env/lib/python3.8/site-packages/IPython/extensions', '/Users/user/.ipython']\n"
     ]
    }
   ],
   "source": [
    "import sys\n",
    "print(sys.path)"
   ]
  },
  {
   "cell_type": "code",
   "execution_count": 48,
   "id": "structural-platform",
   "metadata": {},
   "outputs": [],
   "source": [
    "sys.path.append('/Users/user/java-web-project0208/python-modules')"
   ]
  },
  {
   "cell_type": "code",
   "execution_count": 51,
   "id": "needed-thing",
   "metadata": {},
   "outputs": [
    {
     "name": "stdout",
     "output_type": "stream",
     "text": [
      "series\n",
      "statics\n",
      "parser\n",
      "scrap\n",
      "connection\n",
      "query\n"
     ]
    }
   ],
   "source": [
    "import roboadvisor\n",
    "from roboadvisor import analysis\n",
    "from roboadvisor import crawling\n",
    "from roboadvisor import database\n",
    "\n",
    "\n",
    "analysis.series.series_test()\n",
    "analysis.statics.statics_test()\n",
    "crawling.parser.parser_test()\n",
    "crawling.scrap.scrap_test()\n",
    "database.connection.connection_test()\n",
    "database.query.query_test()"
   ]
  },
  {
   "cell_type": "code",
   "execution_count": 53,
   "id": "suited-genius",
   "metadata": {},
   "outputs": [
    {
     "name": "stdout",
     "output_type": "stream",
     "text": [
      "division by zero\n",
      "Not divide by 0\n",
      "10.0\n",
      "5.0\n",
      "3.3333333333333335\n",
      "2.5\n",
      "2.0\n",
      "1.6666666666666667\n",
      "1.4285714285714286\n",
      "1.25\n",
      "1.1111111111111112\n"
     ]
    }
   ],
   "source": [
    "# 예외처리\n",
    "for i in range(10):\n",
    "    try:\n",
    "        print(10/i)\n",
    "        \n",
    "    except ZeroDivisionError as e:\n",
    "            print(e)\n",
    "            print(\"Not divide by 0\")"
   ]
  },
  {
   "cell_type": "code",
   "execution_count": 54,
   "id": "entire-colony",
   "metadata": {},
   "outputs": [
    {
     "name": "stdout",
     "output_type": "stream",
     "text": [
      "division by zero\n",
      "Not divide by 0\n",
      "10.0\n",
      "10.0\n",
      "5.0\n",
      "5.0\n",
      "3.3333333333333335\n",
      "3.3333333333333335\n",
      "2.5\n",
      "2.5\n",
      "2.0\n",
      "2.0\n",
      "1.6666666666666667\n",
      "1.6666666666666667\n",
      "1.4285714285714286\n",
      "1.4285714285714286\n",
      "1.25\n",
      "1.25\n",
      "1.1111111111111112\n",
      "1.1111111111111112\n"
     ]
    }
   ],
   "source": [
    "# 예외처리\n",
    "for i in range(10):\n",
    "    try:\n",
    "        result\n",
    "        \n",
    "    except ZeroDivisionError as e:\n",
    "            print(e)\n",
    "            print(\"Not divide by 0\")\n",
    "    else:\n",
    "        print(10/i)"
   ]
  },
  {
   "cell_type": "code",
   "execution_count": null,
   "id": "arranged-activation",
   "metadata": {},
   "outputs": [],
   "source": []
  }
 ],
 "metadata": {
  "kernelspec": {
   "display_name": "Python 3",
   "language": "python",
   "name": "python3"
  },
  "language_info": {
   "codemirror_mode": {
    "name": "ipython",
    "version": 3
   },
   "file_extension": ".py",
   "mimetype": "text/x-python",
   "name": "python",
   "nbconvert_exporter": "python",
   "pygments_lexer": "ipython3",
   "version": "3.8.8"
  }
 },
 "nbformat": 4,
 "nbformat_minor": 5
}
