{
 "cells": [
  {
   "cell_type": "code",
   "execution_count": 9,
   "id": "stable-switzerland",
   "metadata": {},
   "outputs": [
    {
     "name": "stdout",
     "output_type": "stream",
     "text": [
      "Tell me your age\n",
      "31\n",
      "Old!\n"
     ]
    }
   ],
   "source": [
    "print(\"Tell me your age\")\n",
    "\n",
    "my_age=int(input())\n",
    "\n",
    "if my_age <30:\n",
    "    print(\"Young!\")\n",
    "else:\n",
    "    print(\"Old!\")"
   ]
  },
  {
   "cell_type": "code",
   "execution_count": 19,
   "id": "typical-plenty",
   "metadata": {},
   "outputs": [
    {
     "name": "stdout",
     "output_type": "stream",
     "text": [
      "Enter your score:90\n",
      "A\n"
     ]
    }
   ],
   "source": [
    "score = int(input(\"Enter your score:\"))\n",
    "\n",
    "if score >=90:\n",
    "    grade = 'A'\n",
    "elif score >=80:\n",
    "    grade = 'B'\n",
    "elif score >=70: grade = 'C'\n",
    "elif score >=60: grade = 'D'\n",
    "else: grade = 'F'\n",
    "\n",
    "print (grade)"
   ]
  },
  {
   "cell_type": "code",
   "execution_count": 18,
   "id": "touched-beast",
   "metadata": {},
   "outputs": [
    {
     "name": "stdout",
     "output_type": "stream",
     "text": [
      "100\n"
     ]
    }
   ],
   "source": [
    "a = 10\n",
    "b = a * 10 if a % 2 ==0 else a + 10\n",
    "print(b)"
   ]
  },
  {
   "cell_type": "code",
   "execution_count": 21,
   "id": "medical-processing",
   "metadata": {},
   "outputs": [
    {
     "name": "stdout",
     "output_type": "stream",
     "text": [
      "No. 1\n",
      "No. 2\n",
      "No. 3\n",
      "No. 4\n",
      "No. 5\n"
     ]
    }
   ],
   "source": [
    "for n in [1, 2, 3, 4, 5]:\n",
    "    print('No.', n) # 이게 주석임"
   ]
  },
  {
   "cell_type": "markdown",
   "id": "aware-birmingham",
   "metadata": {},
   "source": [
    "이건 주피터 노트북으로 메모하는거임 CODE - 코드작성 , MarkDown - 메모 작성\n"
   ]
  },
  {
   "cell_type": "markdown",
   "id": "entire-consideration",
   "metadata": {},
   "source": [
    "# 글자\n",
    "## 크기\n",
    "### 다르게\n",
    "\n",
    "다음라인으로 넘기기 스페이스두번 엔터  \n",
    "다음라인에 작성\n",
    "\n",
    "1.ㄱ\n",
    "2.ㄴ\n",
    "3.ㄷ\n",
    "\n",
    "- a\n",
    "- b\n",
    "- c"
   ]
  },
  {
   "cell_type": "code",
   "execution_count": 23,
   "id": "departmental-pierre",
   "metadata": {},
   "outputs": [
    {
     "name": "stdout",
     "output_type": "stream",
     "text": [
      "0\n",
      "1\n",
      "2\n",
      "3\n",
      "4\n"
     ]
    }
   ],
   "source": [
    "for n in range(5): # for문의 범위 지정\n",
    "    print(n)"
   ]
  },
  {
   "cell_type": "code",
   "execution_count": 26,
   "id": "thick-wages",
   "metadata": {},
   "outputs": [
    {
     "name": "stdout",
     "output_type": "stream",
     "text": [
      "1\n",
      "3\n",
      "5\n"
     ]
    }
   ],
   "source": [
    "for n in range(1,6,2): # a ~ b-1 까지 c 칸씩\n",
    "    print(n)"
   ]
  },
  {
   "cell_type": "code",
   "execution_count": 28,
   "id": "interpreted-skirt",
   "metadata": {},
   "outputs": [
    {
     "name": "stdout",
     "output_type": "stream",
     "text": [
      "a\n",
      "b\n",
      "c\n",
      "d\n",
      "e\n",
      "f\n",
      "g\n"
     ]
    }
   ],
   "source": [
    "for n in 'abcdefg': #문자열도 반복문으로 출력가능\n",
    "    print(n)"
   ]
  },
  {
   "cell_type": "code",
   "execution_count": 35,
   "id": "convinced-canvas",
   "metadata": {},
   "outputs": [
    {
     "name": "stdout",
     "output_type": "stream",
     "text": [
      "a\n",
      "p\n",
      "p\n",
      "l\n",
      "e\n",
      "apple\n",
      "b\n",
      "a\n",
      "n\n",
      "a\n",
      "n\n",
      "a\n",
      "banana\n",
      "m\n",
      "a\n",
      "n\n",
      "g\n",
      "o\n",
      "mango\n"
     ]
    }
   ],
   "source": [
    "for n in ['apple','banana','mango']:\n",
    "    for k in n:\n",
    "        print(k) # 배열중 string 을 char 로 출력\n",
    "    print(n) # 배열을 string으로 출력"
   ]
  },
  {
   "cell_type": "code",
   "execution_count": 36,
   "id": "continuing-madagascar",
   "metadata": {},
   "outputs": [
    {
     "name": "stdout",
     "output_type": "stream",
     "text": [
      "1\n",
      "2\n",
      "3\n",
      "4\n",
      "5\n",
      "6\n",
      "7\n",
      "8\n",
      "9\n"
     ]
    }
   ],
   "source": [
    "i=1\n",
    "while i<10:\n",
    "    print(i)\n",
    "    i+=1"
   ]
  },
  {
   "cell_type": "code",
   "execution_count": 45,
   "id": "derived-sigma",
   "metadata": {},
   "outputs": [
    {
     "name": "stdout",
     "output_type": "stream",
     "text": [
      "0\n",
      "1\n",
      "2\n",
      "3\n",
      "4\n",
      "End of program\n"
     ]
    }
   ],
   "source": [
    "for i in range(10):\n",
    "    if i ==5:\n",
    "        break\n",
    "    print (i)\n",
    "print(\"End of program\")"
   ]
  },
  {
   "cell_type": "code",
   "execution_count": 44,
   "id": "introductory-steal",
   "metadata": {},
   "outputs": [
    {
     "name": "stdout",
     "output_type": "stream",
     "text": [
      "0\n",
      "1\n",
      "2\n",
      "4\n",
      "End of program\n"
     ]
    }
   ],
   "source": [
    "for i in range(5):\n",
    "    if i ==3:\n",
    "        continue\n",
    "    print (i)\n",
    "print(\"End of program\")"
   ]
  },
  {
   "cell_type": "code",
   "execution_count": 48,
   "id": "greatest-eating",
   "metadata": {},
   "outputs": [
    {
     "name": "stdout",
     "output_type": "stream",
     "text": [
      "0\n",
      "1\n",
      "2\n",
      "3\n",
      "4\n",
      "5\n",
      "6\n",
      "7\n",
      "8\n",
      "9\n",
      "End of program\n"
     ]
    }
   ],
   "source": [
    "for i in range(10):\n",
    "    print(i)\n",
    "else:\n",
    "    print(\"End of program\")"
   ]
  },
  {
   "cell_type": "code",
   "execution_count": 71,
   "id": "strong-nigeria",
   "metadata": {},
   "outputs": [],
   "source": [
    "data = [2, 4, 5, 11, 3]\n",
    "\n",
    "for i in data: \n",
    "    if i > 10:\n",
    "        break\n",
    "else: \n",
    "    print('10 보다 큰 수 없음') # for 문이 완전히 실행되지 않으면 else 가 실행되지 않으므로 for문의 종결유무를 찾기 좋음"
   ]
  },
  {
   "cell_type": "code",
   "execution_count": 70,
   "id": "fiscal-colon",
   "metadata": {},
   "outputs": [
    {
     "name": "stdout",
     "output_type": "stream",
     "text": [
      "몇단3\n",
      "구구단 3 단 계산\n",
      "3 x 1 = 3\n",
      "3 x 2 = 6\n",
      "3 x 3 = 9\n",
      "3 x 4 = 12\n",
      "3 x 5 = 15\n",
      "3 x 6 = 18\n",
      "3 x 7 = 21\n",
      "3 x 8 = 24\n",
      "3 x 9 = 27\n"
     ]
    }
   ],
   "source": [
    "n = int(input(\"몇단\"))\n",
    "\n",
    "print(\"구구단\", n, \"단 계산\")\n",
    "for i in range(1,10):\n",
    "    print(n, 'x', i, '=', n*i)"
   ]
  },
  {
   "cell_type": "code",
   "execution_count": null,
   "id": "operational-burning",
   "metadata": {},
   "outputs": [],
   "source": []
  }
 ],
 "metadata": {
  "kernelspec": {
   "display_name": "Python 3",
   "language": "python",
   "name": "python3"
  },
  "language_info": {
   "codemirror_mode": {
    "name": "ipython",
    "version": 3
   },
   "file_extension": ".py",
   "mimetype": "text/x-python",
   "name": "python",
   "nbconvert_exporter": "python",
   "pygments_lexer": "ipython3",
   "version": "3.8.8"
  }
 },
 "nbformat": 4,
 "nbformat_minor": 5
}
