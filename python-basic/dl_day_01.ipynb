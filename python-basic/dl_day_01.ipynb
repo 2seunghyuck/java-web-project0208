{
 "cells": [
  {
   "cell_type": "code",
   "execution_count": 1,
   "id": "concrete-protection",
   "metadata": {},
   "outputs": [],
   "source": [
    "import numpy as np\n",
    "import matplotlib.pyplot as plt"
   ]
  },
  {
   "cell_type": "code",
   "execution_count": 24,
   "id": "cognitive-patio",
   "metadata": {},
   "outputs": [],
   "source": [
    "#x1, x1 값\n",
    "X1 = np.arange(-1.0, 1.0, 0.2) # 원소수는 10개\n",
    "X2 = np.arange(-1.0, 1.0, 0.2)"
   ]
  },
  {
   "cell_type": "code",
   "execution_count": 21,
   "id": "cellular-intersection",
   "metadata": {},
   "outputs": [],
   "source": [
    "# 출력값을 저장할 10x10 그리드\n",
    "Z = np.zeros((10, 10))"
   ]
  },
  {
   "cell_type": "code",
   "execution_count": 28,
   "id": "conscious-attack",
   "metadata": {},
   "outputs": [],
   "source": [
    "# x1, x2 값의 입력 가중치\n",
    "\n",
    "#1 w_x1 = 2.5\n",
    "#1 w_x2 = 3.0\n",
    "\n",
    "#2\n",
    "W = np.array([2.5, 3.0])\n",
    "\n",
    "#편향\n",
    "#1 bias = 0.1\n",
    "#2\n",
    "bias = np.array([0.1])"
   ]
  },
  {
   "cell_type": "code",
   "execution_count": 29,
   "id": "wicked-length",
   "metadata": {},
   "outputs": [],
   "source": [
    "for i in range(10):\n",
    "    for j in range(10):\n",
    "        #1 u = X1[i] * w_x1 + X2[j] * w_x2 + bias\n",
    "        xlist = [X1[i], X2[j]]\n",
    "        X = np.array(xlist)\n",
    "        u = np.dot(X, W.T) + bias\n",
    "        y = 1 / (1+np.exp(-u)) # sigmoid함수 \n",
    "        Z[j][i] = y"
   ]
  },
  {
   "cell_type": "code",
   "execution_count": 30,
   "id": "constant-california",
   "metadata": {},
   "outputs": [
    {
     "data": {
      "image/png": "[encoded data removed]",
      "text/plain": [
       "<Figure size 432x288 with 2 Axes>"
      ]
     },
     "metadata": {
      "needs_background": "light"
     },
     "output_type": "display_data"
    }
   ],
   "source": [
    "plt.imshow(Z, \"gray\", vmin=0.0, vmax=1.0)\n",
    "plt.colorbar()\n",
    "plt.show()"
   ]
  },
  {
   "cell_type": "markdown",
   "id": "crude-prevention",
   "metadata": {},
   "source": [
    "### 다중신경망"
   ]
  },
  {
   "cell_type": "code",
   "execution_count": 2,
   "id": "plastic-motorcycle",
   "metadata": {},
   "outputs": [],
   "source": [
    "X = np.arange(-1.0, 1.0, 0.2)\n",
    "Y = np.arange(-1.0, 1.0, 0.2)"
   ]
  },
  {
   "cell_type": "code",
   "execution_count": 3,
   "id": "contemporary-biography",
   "metadata": {},
   "outputs": [],
   "source": [
    "Z = np.zeros((10, 10))"
   ]
  },
  {
   "cell_type": "code",
   "execution_count": 4,
   "id": "electrical-enlargement",
   "metadata": {},
   "outputs": [],
   "source": [
    "# 가중치 선언\n",
    "w_im = np.array([[4.0, 4.0],[4.0, 4.0]]) # 은닉층 (2,2) 행렬\n",
    "w_mo = np.array([[1.0], [-1.0]]) # 출력층 (2,1)행렬\n"
   ]
  },
  {
   "cell_type": "code",
   "execution_count": 5,
   "id": "collect-flooring",
   "metadata": {},
   "outputs": [],
   "source": [
    "# 편향 선언\n",
    "b_im = np.array([3.0, -3.0]) #은닉층 \n",
    "b_mo = np.array([0.1])       #출력층"
   ]
  },
  {
   "cell_type": "code",
   "execution_count": 6,
   "id": "agreed-portuguese",
   "metadata": {},
   "outputs": [],
   "source": [
    "# hidden layer\n",
    "def middle_layer(x, w, b):\n",
    "    u = np.dot(x, w) + b\n",
    "    return 1 / (1+np.exp(-u)) # 활성화 함수\n"
   ]
  },
  {
   "cell_type": "code",
   "execution_count": 7,
   "id": "accredited-figure",
   "metadata": {},
   "outputs": [],
   "source": [
    "#output layer\n",
    "def output_layer(x, w, b):\n",
    "    u = np.dot(x, w) + b\n",
    "    return u                  # 활성화 함수"
   ]
  },
  {
   "cell_type": "code",
   "execution_count": 11,
   "id": "north-delhi",
   "metadata": {},
   "outputs": [],
   "source": [
    "for i in range(10):\n",
    "    for j in range(10):\n",
    "        inp = np.array([X[i], Y[j]])\n",
    "        mid = middle_layer(inp, w_im, b_im)\n",
    "        out = output_layer(mid, w_mo, b_mo)\n",
    "        Z[j][i] = out[0]"
   ]
  },
  {
   "cell_type": "code",
   "execution_count": 12,
   "id": "alternate-citizen",
   "metadata": {},
   "outputs": [
    {
     "data": {
      "image/png": "[encoded data removed]",
      "text/plain": [
       "<Figure size 432x288 with 2 Axes>"
      ]
     },
     "metadata": {
      "needs_background": "light"
     },
     "output_type": "display_data"
    }
   ],
   "source": [
    "plt.imshow(Z, \"gray\", vmin=0.0, vmax=1.0)\n",
    "plt.colorbar()\n",
    "plt.show()"
   ]
  },
  {
   "cell_type": "code",
   "execution_count": 39,
   "id": "auburn-glasgow",
   "metadata": {},
   "outputs": [],
   "source": [
    "X = np.arange(-1.0, 1.0, 0.1)\n",
    "Y = np.arange(-1.0, 1.0, 0.1)"
   ]
  },
  {
   "cell_type": "code",
   "execution_count": 40,
   "id": "tribal-brazil",
   "metadata": {},
   "outputs": [],
   "source": [
    "w_im = np.array([[1.0, 2.0], [2.0, 3.0]]) # 은닉층 2X2 행렬\n",
    "w_mo = np.array([[-1.0, 1.0], [1.0, -1.0]]) # 출력층 "
   ]
  },
  {
   "cell_type": "code",
   "execution_count": 41,
   "id": "psychological-investing",
   "metadata": {},
   "outputs": [],
   "source": [
    "b_im = np.array([0.3, -0.3])\n",
    "b_mo = np.array([0.4, 0.1])"
   ]
  },
  {
   "cell_type": "code",
   "execution_count": 42,
   "id": "offshore-marsh",
   "metadata": {},
   "outputs": [],
   "source": [
    "# hidden layer\n",
    "def middle_layer(x, w, b):\n",
    "    u = np.dot(x, w) + b\n",
    "    return 1 / (1+np.exp(-u)) # 활성화 함수\n"
   ]
  },
  {
   "cell_type": "code",
   "execution_count": 43,
   "id": "through-taylor",
   "metadata": {},
   "outputs": [],
   "source": [
    "#output layer\n",
    "def output_layer(x, w, b):\n",
    "    u = np.dot(x, w) + b\n",
    "    return np.exp(u)/ np.sum(np.exp(u))    # 활성화 함수 softmax"
   ]
  },
  {
   "cell_type": "code",
   "execution_count": 44,
   "id": "infinite-masters",
   "metadata": {},
   "outputs": [],
   "source": [
    "x_1 = []\n",
    "x_2 = []\n",
    "y_1 = []\n",
    "y_2 = []"
   ]
  },
  {
   "cell_type": "code",
   "execution_count": 45,
   "id": "mobile-announcement",
   "metadata": {},
   "outputs": [],
   "source": [
    "for i in range(20):\n",
    "    for j in range(20):\n",
    "        inp = np.array([X[i], Y[j]])\n",
    "        mid = middle_layer(inp, w_im, b_im)\n",
    "        out = output_layer(mid, w_mo, b_mo)\n",
    "\n",
    "        # 확률의 크기를 비교해 분류함\n",
    "        if out[0] > out[1]:\n",
    "            x_1.append(X[i])\n",
    "            y_1.append(Y[j])\n",
    "        else:\n",
    "            x_2.append(X[i])\n",
    "            y_2.append(Y[j])"
   ]
  },
  {
   "cell_type": "code",
   "execution_count": 46,
   "id": "coordinated-philosophy",
   "metadata": {},
   "outputs": [
    {
     "data": {
      "image/png": "[encoded data removed]",
      "text/plain": [
       "<Figure size 432x288 with 1 Axes>"
      ]
     },
     "metadata": {
      "needs_background": "light"
     },
     "output_type": "display_data"
    }
   ],
   "source": [
    "plt.scatter(x_1, y_1, marker=\"+\")\n",
    "plt.scatter(x_2, y_2, marker=\"o\")\n",
    "plt.show()"
   ]
  },
  {
   "cell_type": "markdown",
   "id": "violent-edmonton",
   "metadata": {},
   "source": [
    "## Loss function ( 손실함수)\n",
    "    - 실제출력값과 정답과의 오차계산 함수 -\n",
    "\n",
    "- 평균제곱 오차 : MSE(Mean squared error)\n",
    "    (회귀문제에 주로 사용)\n",
    "    - E = 1/n sigma (yk -tk)^2"
   ]
  },
  {
   "cell_type": "code",
   "execution_count": 47,
   "id": "located-senior",
   "metadata": {},
   "outputs": [],
   "source": [
    "import numpy as np\n",
    "\n",
    "def mean_squared_error(y, t):\n",
    "    return np.sum(np.power(y - t, 2)) / y.shape[0]"
   ]
  },
  {
   "cell_type": "markdown",
   "id": "included-thought",
   "metadata": {},
   "source": [
    " - 오차 제곱 합 - SSE(sum of squares for Error)\n",
    "     - 회귀문제에 주로 사용\n",
    "     - E = 1/2 sigma (yk -tk)^2"
   ]
  },
  {
   "cell_type": "code",
   "execution_count": 49,
   "id": "indonesian-combine",
   "metadata": {},
   "outputs": [],
   "source": [
    "def square_sum(y, t):\n",
    "    return 1.0/2.0 * np.sum(np.square(y - t))"
   ]
  },
  {
   "cell_type": "markdown",
   "id": "upset-bonus",
   "metadata": {},
   "source": [
    " - 교차 엔트로피"
   ]
  },
  {
   "cell_type": "code",
   "execution_count": 50,
   "id": "certified-latitude",
   "metadata": {},
   "outputs": [
    {
     "data": {
      "image/png": "[encoded data removed]",
      "text/plain": [
       "<Figure size 432x288 with 1 Axes>"
      ]
     },
     "metadata": {
      "needs_background": "light"
     },
     "output_type": "display_data"
    }
   ],
   "source": [
    "x = np.linspace(start = 0.00001, stop = 1.0, num = 100)\n",
    "plt.plot(x, -np.log(x), 'b-', label = 'Natural Logarithm(ln)')\n",
    "plt.legend()\n",
    "plt.show()\n"
   ]
  },
  {
   "cell_type": "code",
   "execution_count": 51,
   "id": "compressed-prairie",
   "metadata": {},
   "outputs": [],
   "source": [
    "def cross_entropy(y, t):\n",
    "    return -np.sum(t*np.log(y + 1e-7))"
   ]
  },
  {
   "cell_type": "code",
   "execution_count": null,
   "id": "third-curve",
   "metadata": {},
   "outputs": [],
   "source": []
  }
 ],
 "metadata": {
  "kernelspec": {
   "display_name": "Python 3",
   "language": "python",
   "name": "python3"
  },
  "language_info": {
   "codemirror_mode": {
    "name": "ipython",
    "version": 3
   },
   "file_extension": ".py",
   "mimetype": "text/x-python",
   "name": "python",
   "nbconvert_exporter": "python",
   "pygments_lexer": "ipython3",
   "version": "3.8.8"
  }
 },
 "nbformat": 4,
 "nbformat_minor": 5
}
