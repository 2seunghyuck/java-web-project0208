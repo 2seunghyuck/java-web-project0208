{
 "cells": [
  {
   "cell_type": "code",
   "execution_count": null,
   "id": "studied-folks",
   "metadata": {},
   "outputs": [],
   "source": [
    "class SoccerPlayer(object):\n",
    "    def __init__(self, name, position, back_number):\n",
    "        self.name = name\n",
    "        self.position = position\n",
    "        self.back_number = back_number\n",
    "        \n",
    "    def change_back_number(self, new_number):\n",
    "        print(\"선수 등번호 변경 : From %d to %d\" % (self.back_number, new_number))\n",
    "        self.back_number = new_number\n",
    "        \n",
    "    def __str__(self):\n",
    "        return \"Hello, My name is %s. I play in %s in center.\" % (self.name, self.position)\n",
    "    "
   ]
  },
  {
   "cell_type": "code",
   "execution_count": null,
   "id": "expensive-packaging",
   "metadata": {},
   "outputs": [],
   "source": [
    "chaboom = SoccerPlayer(\"Chaboom\", \"CF\", 11)\n",
    "\n",
    "print(\"현재 선수의 등번호: \", chaboom.back_number)\n",
    "chaboom.change_back_number(9)\n",
    "print(\"현재 선수의 등번호: \", chaboom.back_number)\n",
    "print()\n",
    "print(chaboom)"
   ]
  },
  {
   "cell_type": "code",
   "execution_count": null,
   "id": "distant-document",
   "metadata": {},
   "outputs": [],
   "source": [
    "class Car:\n",
    "    instance_count = 0\n",
    "    \n",
    "    def __init__(self, size, color):\n",
    "        self.size = size\n",
    "        self.color = color\n",
    "        Car.instance_count += 1\n",
    "        print(f\"자동차 객체의 수: {Car.instance_count}\")\n",
    "        \n",
    "    def move(self):\n",
    "        print(f\"자동차({self.size} & {self.color})가 움직입니다.\")\n",
    "        "
   ]
  },
  {
   "cell_type": "code",
   "execution_count": null,
   "id": "packed-proposal",
   "metadata": {},
   "outputs": [],
   "source": [
    "K5 = Car(\"small\", \"white\")"
   ]
  },
  {
   "cell_type": "code",
   "execution_count": null,
   "id": "pleasant-target",
   "metadata": {},
   "outputs": [],
   "source": [
    "car2 = Car(\"big\", \"black\")"
   ]
  },
  {
   "cell_type": "code",
   "execution_count": null,
   "id": "cubic-description",
   "metadata": {},
   "outputs": [],
   "source": [
    "print(f\"Car클래스의 총 인스턴스 수: {Car.instance_count}\")"
   ]
  },
  {
   "cell_type": "code",
   "execution_count": null,
   "id": "wooden-pendant",
   "metadata": {},
   "outputs": [],
   "source": [
    "K5.move()\n",
    "car2.move()"
   ]
  },
  {
   "cell_type": "code",
   "execution_count": null,
   "id": "sixth-corner",
   "metadata": {},
   "outputs": [],
   "source": [
    "class Car:\n",
    "    instance_count = 0\n",
    "    \n",
    "    def __init__(self, size, color):\n",
    "        self.size = size\n",
    "        self.color = color\n",
    "        self.speed = 0\n",
    "        Car.instance_count += 1\n",
    "        print(f\"자동차 객체의 수: {Car.instance_count}\")\n",
    "        \n",
    "    def move(self, speed):\n",
    "        self.speed = speed\n",
    "        print(f\"자동차({self.size} & {self.color})가\", end='')\n",
    "        print(f\"자동차가 {self.speed}Km 으로 움직입니다.\")\n",
    "        \n",
    "    def auto_cruise(self):\n",
    "        print(\"자율주행 모드\")\n",
    "        self.move(self.speed)\n",
    "    \n",
    "    # python의 staticMethod\n",
    "    @staticmethod\n",
    "    def check_type(model_code):\n",
    "        if(model_code >= 20):\n",
    "            print(\"이 자동차는 전기차 입니다.\")\n",
    "        elif(10<= model_code <20):\n",
    "            print(\"이 자동차는 가솔린 입니다.\")\n",
    "        else:\n",
    "            print(\"이 자동차는 디젤 입니다.\")\n",
    "        \n",
    "    @classmethod\n",
    "    def count_instance(cls):\n",
    "        print(f\"클래스 변수: {cls.instance_count}\")\n",
    "    "
   ]
  },
  {
   "cell_type": "code",
   "execution_count": null,
   "id": "gross-opera",
   "metadata": {},
   "outputs": [],
   "source": [
    "car = Car(\"Small\",\"red\")\n",
    "car.move(80)\n",
    "car.auto_cruise()"
   ]
  },
  {
   "cell_type": "code",
   "execution_count": null,
   "id": "grateful-disco",
   "metadata": {},
   "outputs": [],
   "source": [
    "Car.check_type(25)"
   ]
  },
  {
   "cell_type": "code",
   "execution_count": null,
   "id": "reasonable-palestine",
   "metadata": {},
   "outputs": [],
   "source": [
    "Car.count_instance()\n",
    "car1 = Car(\"small\", \"greed\")\n",
    "Car.count_instance()"
   ]
  },
  {
   "cell_type": "code",
   "execution_count": null,
   "id": "embedded-subject",
   "metadata": {},
   "outputs": [],
   "source": [
    "car2 = Car(\"big\", \"black\")\n",
    "Car.count_instance()"
   ]
  },
  {
   "cell_type": "code",
   "execution_count": null,
   "id": "meaning-canvas",
   "metadata": {},
   "outputs": [],
   "source": [
    "car1.count_instance()"
   ]
  },
  {
   "cell_type": "code",
   "execution_count": null,
   "id": "elder-provincial",
   "metadata": {},
   "outputs": [],
   "source": [
    "class Bicycle:\n",
    "    def __init__(self, wheel_size, color):\n",
    "        self.wheel_size = wheel_size\n",
    "        self.color = color\n",
    "\n",
    "    def move(self, speed):\n",
    "        print(f\"자전거 시속{speed}킬로미터로 전진\")\n",
    "    \n",
    "    def turn(self, direction):\n",
    "        print(f\"자전거 {direction}회전\")\n",
    "        \n",
    "    def stop(self):\n",
    "        print(f\"자전거 {self.wheel_size},{self.color} 정지\")"
   ]
  },
  {
   "cell_type": "code",
   "execution_count": null,
   "id": "published-shell",
   "metadata": {},
   "outputs": [],
   "source": [
    "class FoldingBicycle(Bicycle):\n",
    "    def __init__(self, wheel_size, color, state):\n",
    "        super().__init__(wheel_size, color)\n",
    "        self.state = state\n",
    "        \n",
    "    def fold(self):\n",
    "        self.state = 'folding'\n",
    "        print(f\"자전거: 접기, state = {self.state}\")\n",
    "        \n",
    "    def unfold(self):\n",
    "        self.state = 'unfolding'\n",
    "        print(f\"자전거: 펴기, state = {self.state}\")"
   ]
  },
  {
   "cell_type": "code",
   "execution_count": null,
   "id": "ordered-rapid",
   "metadata": {},
   "outputs": [],
   "source": [
    "folding_bicycle = FoldingBicycle(27, 'white', 'unfolding')\n",
    "folding_bicycle.move(20)\n",
    "folding_bicycle.turn(\"right\")\n",
    "folding_bicycle.turn(\"좌\")\n",
    "folding_bicycle.stop()\n",
    "folding_bicycle.fold()\n",
    "folding_bicycle.unfold()"
   ]
  },
  {
   "cell_type": "code",
   "execution_count": null,
   "id": "treated-extreme",
   "metadata": {},
   "outputs": [],
   "source": [
    "bicycle = Bicycle(\"big\",\"green\")\n",
    "bicycle.move(20)\n",
    "bicycle.stop()"
   ]
  },
  {
   "cell_type": "code",
   "execution_count": null,
   "id": "living-sensitivity",
   "metadata": {},
   "outputs": [],
   "source": [
    "class Person:\n",
    "    def __init__(self, name, age, gender):\n",
    "        self.name = name\n",
    "        self.age = age\n",
    "        self.gender = gender\n",
    "        \n",
    "    def about_me(self):\n",
    "        print(\"저의 이름은\", self.name, end='')\n",
    "        print(f\"({self.gender})이고요, 제 나이는\", str(self.age),\"살 입니다.\")"
   ]
  },
  {
   "cell_type": "code",
   "execution_count": null,
   "id": "mysterious-hawaii",
   "metadata": {},
   "outputs": [],
   "source": [
    "class Employee(Person):\n",
    "    \n",
    "    def __init__(self, name, age, gender, salary, hire_date):\n",
    "        super().__init__(name, age, gender)\n",
    "        self.salary = salary\n",
    "        self.hire_date = hire_date\n",
    "        \n",
    "    def do_work(self):\n",
    "        print(\"열심히 일을 한다\")\n",
    "    \n",
    "    # 부모의 메서드 오버라이딩\n",
    "    def about_me(self):\n",
    "        super().about_me()\n",
    "        print(\"제 급여는\", self.salary,\"원이고, 제 입사일은 \", self.hire_date,\"입니다.\")"
   ]
  },
  {
   "cell_type": "code",
   "execution_count": null,
   "id": "organic-belize",
   "metadata": {},
   "outputs": [],
   "source": [
    "emp = Employee('Tom', 25, '남성', 350, '2020/06/02')\n",
    "\n",
    "emp.do_work()\n",
    "emp.about_me()"
   ]
  },
  {
   "cell_type": "code",
   "execution_count": null,
   "id": "lyric-pledge",
   "metadata": {},
   "outputs": [],
   "source": [
    "class Product:\n",
    "    \n",
    "    #자바의 {}와 같은역할\n",
    "    pass"
   ]
  },
  {
   "cell_type": "code",
   "execution_count": null,
   "id": "floating-former",
   "metadata": {},
   "outputs": [],
   "source": [
    "class Inventory(object):\n",
    "    def __init__(self):\n",
    "        # python의 private 처리 역할을하는 '__'\n",
    "        self.__items =[]\n",
    "    def add_new_item(self, product):\n",
    "        if type(product) == Product:\n",
    "            self.__items.append(product)\n",
    "            print(\"new item added\")\n",
    "        else:\n",
    "            raise ValueError(\"Invalid item\")\n",
    "    \n",
    "    #자바의 게터와 비슷한개념\n",
    "    def get_number_of_items(self):\n",
    "        return len(self.__items)\n",
    "    @property\n",
    "    def items(self):\n",
    "        return self.__items"
   ]
  },
  {
   "cell_type": "code",
   "execution_count": null,
   "id": "current-banana",
   "metadata": {},
   "outputs": [],
   "source": [
    "my_inventory = Inventory()\n",
    "my_inventory.add_new_item(Product())\n",
    "my_inventory.add_new_item(Product())"
   ]
  },
  {
   "cell_type": "code",
   "execution_count": null,
   "id": "threaded-marshall",
   "metadata": {},
   "outputs": [],
   "source": [
    "my_inventory.get_number_of_items()"
   ]
  },
  {
   "cell_type": "code",
   "execution_count": null,
   "id": "piano-amount",
   "metadata": {},
   "outputs": [],
   "source": [
    "my_inventory.__items"
   ]
  },
  {
   "cell_type": "code",
   "execution_count": null,
   "id": "indirect-reducing",
   "metadata": {},
   "outputs": [],
   "source": [
    "my_inventory = Inventory()"
   ]
  },
  {
   "cell_type": "code",
   "execution_count": null,
   "id": "cosmetic-england",
   "metadata": {},
   "outputs": [],
   "source": [
    "items = my_inventory.items\n",
    "items.append(Product)"
   ]
  },
  {
   "cell_type": "code",
   "execution_count": null,
   "id": "intense-gathering",
   "metadata": {},
   "outputs": [],
   "source": [
    "my_inventory.get_number_of_items()"
   ]
  },
  {
   "cell_type": "code",
   "execution_count": null,
   "id": "wicked-laugh",
   "metadata": {},
   "outputs": [],
   "source": [
    "my_inventory2 = Inventory()\n",
    "my_inventory2.get_number_of_items()"
   ]
  },
  {
   "cell_type": "code",
   "execution_count": null,
   "id": "floppy-doubt",
   "metadata": {},
   "outputs": [],
   "source": [
    "import fah_converter\n",
    "print(\"Enter a clecius value: \")\n",
    "celcius = float(input())\n",
    "fahrenheit = fah_converter.convert_to_f(celcius)\n",
    "print(\"It 's\", fahrenheit, \"degrees Farenheit.\")"
   ]
  },
  {
   "cell_type": "code",
   "execution_count": null,
   "id": "capital-diesel",
   "metadata": {},
   "outputs": [],
   "source": [
    "#너무 긴 모듈명을 간단한 약어로 변경\n",
    "import fah_converter as fah \n",
    "\n",
    "#모듈안의 함수를 직접 사용 하는것\n",
    "from fah_converter import convert_to_f\n",
    "\n",
    "#모듈안의 모든 함수를 사용\n",
    "from fah_converter import *"
   ]
  },
  {
   "cell_type": "code",
   "execution_count": null,
   "id": "proved-leather",
   "metadata": {},
   "outputs": [],
   "source": [
    "%run -i 'fah_converter'"
   ]
  },
  {
   "cell_type": "code",
   "execution_count": null,
   "id": "mathematical-career",
   "metadata": {},
   "outputs": [],
   "source": [
    "from roboadvisor.alalysis import series\n",
    "series.series_test()"
   ]
  },
  {
   "cell_type": "code",
   "execution_count": null,
   "id": "conditional-worse",
   "metadata": {},
   "outputs": [],
   "source": [
    "import sys\n",
    "print(sys.path)"
   ]
  },
  {
   "cell_type": "code",
   "execution_count": null,
   "id": "developing-archive",
   "metadata": {},
   "outputs": [],
   "source": [
    "sys.path.append('/Users/user/java-web-project0208/python-modules')"
   ]
  },
  {
   "cell_type": "code",
   "execution_count": null,
   "id": "visible-forwarding",
   "metadata": {},
   "outputs": [],
   "source": [
    "import roboadvisor\n",
    "from roboadvisor import analysis\n",
    "from roboadvisor import crawling\n",
    "from roboadvisor import database\n",
    "\n",
    "\n",
    "analysis.series.series_test()\n",
    "analysis.statics.statics_test()\n",
    "crawling.parser.parser_test()\n",
    "crawling.scrap.scrap_test()\n",
    "database.connection.connection_test()\n",
    "database.query.query_test()"
   ]
  },
  {
   "cell_type": "code",
   "execution_count": null,
   "id": "creative-month",
   "metadata": {},
   "outputs": [],
   "source": [
    "# 예외처리\n",
    "for i in range(10):\n",
    "    try:\n",
    "        print(10/i)\n",
    "        \n",
    "    except ZeroDivisionError as e:\n",
    "            print(e)\n",
    "            print(\"Not divide by 0\")"
   ]
  },
  {
   "cell_type": "code",
   "execution_count": null,
   "id": "buried-pepper",
   "metadata": {},
   "outputs": [],
   "source": [
    "# 예외처리\n",
    "for i in range(10):\n",
    "    try:\n",
    "        result = 10/i\n",
    "    except ZeroDivisionError as e:\n",
    "        print(e)\n",
    "        print(\"Not divide by 0\")\n",
    "    else:\n",
    "        print(result)"
   ]
  },
  {
   "cell_type": "code",
   "execution_count": null,
   "id": "grave-mention",
   "metadata": {},
   "outputs": [],
   "source": [
    "# 예외처리\n",
    "try:\n",
    "    for i in range(1, 10):\n",
    "        result = 10 // i\n",
    "        print(result)\n",
    "except ZeroDivisionError as e:\n",
    "    print(e)\n",
    "    print(\"Not divide by 0\")\n",
    "finally:\n",
    "    print(\"프로그램 종료\")"
   ]
  },
  {
   "cell_type": "code",
   "execution_count": null,
   "id": "common-identifier",
   "metadata": {},
   "outputs": [],
   "source": [
    "while True:\n",
    "    value = input(\"변환할 정수값을 입력해주세요: \")\n",
    "    for digit in value:\n",
    "        if digit not in \"0123456789\":\n",
    "            raise ValueError(\"숫자를 입력하지 않았습니다.\")\n",
    "    print(\"정수값으로 변환된 숫자 : \", int(value))"
   ]
  },
  {
   "cell_type": "code",
   "execution_count": null,
   "id": "constitutional-glasgow",
   "metadata": {},
   "outputs": [],
   "source": [
    "def get_binary_number(decimal_number):\n",
    "    # 특정한 타입이 아닌 것에 에러를 발생시키는ㄱㅓ\n",
    "    assert isinstance(decimal_number, int)\n",
    "    return bin(decimal_number)"
   ]
  },
  {
   "cell_type": "code",
   "execution_count": null,
   "id": "alpha-identifier",
   "metadata": {},
   "outputs": [],
   "source": [
    "print(get_binary_number(10))"
   ]
  },
  {
   "cell_type": "code",
   "execution_count": null,
   "id": "developmental-accuracy",
   "metadata": {},
   "outputs": [],
   "source": [
    "print(get_binary_number('10'))"
   ]
  },
  {
   "cell_type": "code",
   "execution_count": null,
   "id": "front-habitat",
   "metadata": {},
   "outputs": [],
   "source": [
    "# TYPE 애너테이션 : parameter 에 타입을 주석처럼 지정해주는 문법 \n",
    "def add(a:int, b:int)->int:\n",
    "    return a + b\n",
    "print(add(10, 5))\n",
    "print(add([1,2], [3]))\n",
    "print(add(\"hi \", \"there\"))"
   ]
  },
  {
   "cell_type": "code",
   "execution_count": null,
   "id": "weird-dinner",
   "metadata": {},
   "outputs": [],
   "source": [
    "# 제공하는 기본타입이 아닌 사용자 지정타입에 타입에너테이션을 적어주기위한 typing 임포트\n",
    "from typing import List, Dict, Tuple, Set\n",
    "\n",
    "def add(a:List, b:List)->List:\n",
    "    return a + b\n",
    "print(add(10, 5))\n",
    "print(add([1,2], [3]))\n",
    "print(add(\"hi \", \"there\"))"
   ]
  },
  {
   "cell_type": "markdown",
   "id": "ordinary-enterprise",
   "metadata": {},
   "source": [
    "### 파이썬에서 많이 쓰이는 모듈 사용"
   ]
  },
  {
   "cell_type": "code",
   "execution_count": 1,
   "id": "exact-minority",
   "metadata": {},
   "outputs": [],
   "source": [
    "## numpy\n",
    "import numpy as np"
   ]
  },
  {
   "cell_type": "code",
   "execution_count": null,
   "id": "actual-hawaii",
   "metadata": {},
   "outputs": [],
   "source": [
    "data1 = [0, 1, 2, 3, 4, 5, 6, 7]\n",
    "\n",
    "#list를 numpy.array 로 만들어주는 메서드\n",
    "a1 = np.array(data1)\n",
    "\n",
    "print(a1)"
   ]
  },
  {
   "cell_type": "code",
   "execution_count": null,
   "id": "complete-copper",
   "metadata": {},
   "outputs": [],
   "source": [
    "#파이썬은 모든 타입이 배열에 들어갈 수 있는데 numpy는 자동으로 타입을 맞춰준다\n",
    "\n",
    "data2 = [0, 1, 2, 3, 4, 5.0]\n",
    "a2 = np.array(data2)\n",
    "print(a2)\n",
    "\n",
    "print(a1.dtype)\n",
    "print(a2.dtype)"
   ]
  },
  {
   "cell_type": "code",
   "execution_count": null,
   "id": "ultimate-invite",
   "metadata": {},
   "outputs": [],
   "source": [
    "a3 = np.array([[1, 2, 3], [4, 5, 6], [7, 8, 9]])\n",
    "print(a3)"
   ]
  },
  {
   "cell_type": "code",
   "execution_count": null,
   "id": "appropriate-trace",
   "metadata": {},
   "outputs": [],
   "source": [
    "#자동으로 범위를 지정하여 array를 만드는 함수\n",
    "\n",
    "a4 = np.arange(0, 10, 2)\n",
    "a5 = np.arange(1, 10)\n",
    "a6 = np.arange(5)\n",
    "\n",
    "print(a4)\n",
    "print(a5)\n",
    "print(a6)"
   ]
  },
  {
   "cell_type": "code",
   "execution_count": null,
   "id": "dietary-eleven",
   "metadata": {},
   "outputs": [],
   "source": [
    "#4행 3열의 2차원 배열을 생성해주는 함수\n",
    "a7 = np.arange(12).reshape(4, 3)\n",
    "print(a7)\n",
    "print(a7[0][2])\n",
    "print(a7.shape)"
   ]
  },
  {
   "cell_type": "code",
   "execution_count": null,
   "id": "circular-motivation",
   "metadata": {},
   "outputs": [],
   "source": [
    "a8 = np.arange(11).reshape(4,3)\n",
    "\n",
    "print(a8)\n",
    "#갯수가 안맞아서 에러\n"
   ]
  },
  {
   "cell_type": "code",
   "execution_count": null,
   "id": "responsible-appointment",
   "metadata": {},
   "outputs": [],
   "source": [
    "# linspace  == a부터 b 까지 c 조각으로 분리해줌 무조건 실수로 나옴\n",
    "b1 = np.linspace(1, 10, 10)\n",
    "print(b1)"
   ]
  },
  {
   "cell_type": "code",
   "execution_count": null,
   "id": "fresh-serbia",
   "metadata": {},
   "outputs": [],
   "source": [
    "b2 = np.linspace(1, 10, 8)\n",
    "print(b2)"
   ]
  },
  {
   "cell_type": "code",
   "execution_count": null,
   "id": "available-berkeley",
   "metadata": {},
   "outputs": [],
   "source": [
    "b3 = np.linspace(1, np.pi, 20)\n",
    "print(b3)"
   ]
  },
  {
   "cell_type": "code",
   "execution_count": null,
   "id": "weird-glory",
   "metadata": {},
   "outputs": [],
   "source": [
    "# zeros == 0을 a개, 타입은 b\n",
    "c1 = np.zeros(10, int)\n",
    "print(c1)"
   ]
  },
  {
   "cell_type": "code",
   "execution_count": null,
   "id": "authorized-permit",
   "metadata": {},
   "outputs": [],
   "source": [
    "c2 = np.zeros((3, 4), int)\n",
    "print(c2)"
   ]
  },
  {
   "cell_type": "code",
   "execution_count": null,
   "id": "equipped-corner",
   "metadata": {},
   "outputs": [],
   "source": [
    "# ones == 1을 채워주는거 \n",
    "c3 = np.ones(10)"
   ]
  },
  {
   "cell_type": "code",
   "execution_count": null,
   "id": "genetic-saskatchewan",
   "metadata": {},
   "outputs": [],
   "source": [
    "c4 = np.ones((3,5))\n",
    "print(c3)\n",
    "print(c4)"
   ]
  },
  {
   "cell_type": "code",
   "execution_count": null,
   "id": "respiratory-chancellor",
   "metadata": {},
   "outputs": [],
   "source": [
    "# 단위 행렬을 만들어주는 eye함수 \n",
    "c5 = np.eye(3)\n",
    "print(c5)"
   ]
  },
  {
   "cell_type": "code",
   "execution_count": null,
   "id": "biblical-replication",
   "metadata": {},
   "outputs": [],
   "source": [
    "# 문자열 의 타입 ==> 최대 문자열의 길이를 출력\n",
    "d1 = np.array(['abc', 'whoami', 'cheㅡistry', 'MerryChristmas'])\n",
    "print(d1)\n",
    "print(d1.dtype)"
   ]
  },
  {
   "cell_type": "code",
   "execution_count": null,
   "id": "sustained-slave",
   "metadata": {},
   "outputs": [],
   "source": [
    "d2 = np.array(['1.567', '0.123', '5.232', '5', '8'])\n",
    "num = a1.astype(float)\n",
    "print(num)"
   ]
  },
  {
   "cell_type": "code",
   "execution_count": null,
   "id": "dimensional-fruit",
   "metadata": {},
   "outputs": [],
   "source": [
    "a1 = np.random.rand(2,3,4)\n",
    "print(a1)"
   ]
  },
  {
   "cell_type": "code",
   "execution_count": null,
   "id": "excess-workstation",
   "metadata": {},
   "outputs": [],
   "source": [
    "# np.random.randint([low,]high, [,size])  <== [low, high] 사이의 정수 난수 생성\n",
    "a1 = np.random.randint(10, size=(3, 4))\n",
    "print(a1)"
   ]
  },
  {
   "cell_type": "code",
   "execution_count": null,
   "id": "neural-trail",
   "metadata": {},
   "outputs": [],
   "source": [
    "a2 = np.random.randint(1, 30)\n",
    "print(a2)"
   ]
  },
  {
   "cell_type": "code",
   "execution_count": 3,
   "id": "derived-evanescence",
   "metadata": {},
   "outputs": [],
   "source": [
    "# size 가 같은 두개의 배열은 각 배열의 항목끼리 사칙연산이 가능하다.\n",
    "# 이런 연산을 \"element wise\" 연산이라고 한다\n",
    "a1 = np.array([10, 20, 30, 40])\n",
    "a2 = np.array([1, 2, 3, 4])"
   ]
  },
  {
   "cell_type": "code",
   "execution_count": 5,
   "id": "innovative-blast",
   "metadata": {},
   "outputs": [
    {
     "name": "stdout",
     "output_type": "stream",
     "text": [
      "[11 22 33 44]\n",
      "[ 9 18 27 36]\n",
      "[20 40 60 80]\n",
      "[ 1000  8000 27000 64000]\n",
      "[ 10  40  90 160]\n",
      "[10. 10. 10. 10.]\n",
      "[10.          5.          3.33333333  2.5       ]\n",
      "[False False  True  True]\n"
     ]
    }
   ],
   "source": [
    "print(a1 + a2)\n",
    "print(a1 - a2)\n",
    "print(a1 * 2)\n",
    "print(a1 ** 3)\n",
    "print(a1 * a2)\n",
    "print(a1 / a2)\n",
    "print(a1 / (a2**2))\n",
    "print(a1 > 20)\n"
   ]
  },
  {
   "cell_type": "code",
   "execution_count": 13,
   "id": "bacterial-experience",
   "metadata": {},
   "outputs": [],
   "source": [
    "a3 = np.array([10, 20, 30, 40])\n",
    "a4 = np.array([2, 3, 4])"
   ]
  },
  {
   "cell_type": "code",
   "execution_count": 14,
   "id": "cleared-wales",
   "metadata": {},
   "outputs": [
    {
     "ename": "ValueError",
     "evalue": "operands could not be broadcast together with shapes (4,) (3,) ",
     "output_type": "error",
     "traceback": [
      "\u001b[0;31m---------------------------------------------------------------------------\u001b[0m",
      "\u001b[0;31mValueError\u001b[0m                                Traceback (most recent call last)",
      "\u001b[0;32m<ipython-input-14-8eb478c99a34>\u001b[0m in \u001b[0;36m<module>\u001b[0;34m\u001b[0m\n\u001b[0;32m----> 1\u001b[0;31m \u001b[0mprint\u001b[0m\u001b[0;34m(\u001b[0m\u001b[0ma3\u001b[0m \u001b[0;34m+\u001b[0m \u001b[0ma4\u001b[0m\u001b[0;34m)\u001b[0m\u001b[0;34m\u001b[0m\u001b[0;34m\u001b[0m\u001b[0m\n\u001b[0m\u001b[1;32m      2\u001b[0m \u001b[0mprint\u001b[0m\u001b[0;34m(\u001b[0m\u001b[0ma3\u001b[0m \u001b[0;34m-\u001b[0m \u001b[0ma4\u001b[0m\u001b[0;34m)\u001b[0m\u001b[0;34m\u001b[0m\u001b[0;34m\u001b[0m\u001b[0m\n\u001b[1;32m      3\u001b[0m \u001b[0mprint\u001b[0m\u001b[0;34m(\u001b[0m\u001b[0ma3\u001b[0m \u001b[0;34m*\u001b[0m \u001b[0ma4\u001b[0m\u001b[0;34m)\u001b[0m\u001b[0;34m\u001b[0m\u001b[0;34m\u001b[0m\u001b[0m\n",
      "\u001b[0;31mValueError\u001b[0m: operands could not be broadcast together with shapes (4,) (3,) "
     ]
    }
   ],
   "source": [
    "print(a3 + a4)\n",
    "print(a3 - a4)\n",
    "print(a3 * a4)"
   ]
  },
  {
   "cell_type": "code",
   "execution_count": 20,
   "id": "subject-treasure",
   "metadata": {},
   "outputs": [
    {
     "name": "stdout",
     "output_type": "stream",
     "text": [
      "100\n",
      "25.0\n",
      "10\n",
      "40\n"
     ]
    }
   ],
   "source": [
    "print(a1.sum())\n",
    "print(a1.mean())\n",
    "print(a1.min())\n",
    "print(a1.max())      "
   ]
  },
  {
   "cell_type": "code",
   "execution_count": 17,
   "id": "continental-blair",
   "metadata": {},
   "outputs": [
    {
     "name": "stdout",
     "output_type": "stream",
     "text": [
      "11.180339887498949\n",
      "125.0\n"
     ]
    }
   ],
   "source": [
    "print(a1.std()) # 표준편차\n",
    "print(a1.var()) # 분산"
   ]
  },
  {
   "cell_type": "code",
   "execution_count": 18,
   "id": "living-howard",
   "metadata": {},
   "outputs": [
    {
     "name": "stdout",
     "output_type": "stream",
     "text": [
      "[ 10  30  60 100]\n",
      "[    10    200   6000 240000]\n"
     ]
    }
   ],
   "source": [
    "print(a1.cumsum()) # 누적 합\n",
    "print(a1.cumprod()) # 누적 곱"
   ]
  },
  {
   "cell_type": "markdown",
   "id": "structural-syntax",
   "metadata": {},
   "source": [
    "## NumPy 는 선형대수(Linear Algebra)를 위한 행렬 연산을 지원"
   ]
  },
  {
   "cell_type": "code",
   "execution_count": 21,
   "id": "dietary-flash",
   "metadata": {},
   "outputs": [
    {
     "name": "stdout",
     "output_type": "stream",
     "text": [
      "[[0 1]\n",
      " [2 3]]\n"
     ]
    }
   ],
   "source": [
    "a = np.array([0, 1, 2, 3]).reshape(2, 2)\n",
    "print(a)"
   ]
  },
  {
   "cell_type": "code",
   "execution_count": 23,
   "id": "limited-naples",
   "metadata": {},
   "outputs": [
    {
     "name": "stdout",
     "output_type": "stream",
     "text": [
      "[[3 2]\n",
      " [0 1]]\n"
     ]
    }
   ],
   "source": [
    "b = np.array([3, 2, 0, 1]).reshape(2, 2)\n",
    "print(b)"
   ]
  },
  {
   "cell_type": "code",
   "execution_count": 26,
   "id": "naughty-template",
   "metadata": {},
   "outputs": [
    {
     "name": "stdout",
     "output_type": "stream",
     "text": [
      "[[0 1]\n",
      " [6 7]]\n",
      "[[0 1]\n",
      " [6 7]]\n"
     ]
    }
   ],
   "source": [
    "# 행렬의 곱\n",
    "print(a.dot(b))\n",
    "print(np.dot(a, b))"
   ]
  },
  {
   "cell_type": "code",
   "execution_count": 25,
   "id": "bridal-message",
   "metadata": {},
   "outputs": [
    {
     "name": "stdout",
     "output_type": "stream",
     "text": [
      "[[0 2]\n",
      " [1 3]]\n",
      "[[0 2]\n",
      " [1 3]]\n"
     ]
    }
   ],
   "source": [
    "# 행렬의 전행렬 구하기\n",
    "print(np.transpose(a))\n",
    "print(a.transpose())"
   ]
  },
  {
   "cell_type": "code",
   "execution_count": 28,
   "id": "promotional-receiver",
   "metadata": {},
   "outputs": [
    {
     "name": "stdout",
     "output_type": "stream",
     "text": [
      "[[-1.5  0.5]\n",
      " [ 1.   0. ]]\n",
      "-2.0\n"
     ]
    }
   ],
   "source": [
    "# 단위행렬 구하는거\n",
    "print(np.linalg.inv(a))\n",
    "# 행렬식 구하는거\n",
    "print(np.linalg.det(a))"
   ]
  },
  {
   "cell_type": "code",
   "execution_count": 30,
   "id": "expired-chassis",
   "metadata": {},
   "outputs": [
    {
     "name": "stdout",
     "output_type": "stream",
     "text": [
      "0\n",
      "40\n",
      "[ 0 10 20 30 40 90]\n"
     ]
    }
   ],
   "source": [
    "a = np.array([0, 10, 20, 30, 40, 50])\n",
    "\n",
    "print(a[0])\n",
    "print(a[4])\n",
    "a[5] = 90\n",
    "print(a)"
   ]
  },
  {
   "cell_type": "code",
   "execution_count": 31,
   "id": "celtic-productivity",
   "metadata": {},
   "outputs": [
    {
     "name": "stdout",
     "output_type": "stream",
     "text": [
      "[10 30 40]\n"
     ]
    }
   ],
   "source": [
    "a = np.array([0, 10, 20, 30, 40, 50])\n",
    "print(a[[1, 3, 4]])"
   ]
  },
  {
   "cell_type": "code",
   "execution_count": 32,
   "id": "average-bangladesh",
   "metadata": {},
   "outputs": [
    {
     "name": "stdout",
     "output_type": "stream",
     "text": [
      "[[10 20 30]\n",
      " [40 50 60]\n",
      " [70 80 90]]\n"
     ]
    }
   ],
   "source": [
    "b = np.arange(10, 100, 10).reshape(3, 3)\n",
    "print(b)"
   ]
  },
  {
   "cell_type": "code",
   "execution_count": 33,
   "id": "outside-member",
   "metadata": {},
   "outputs": [
    {
     "name": "stdout",
     "output_type": "stream",
     "text": [
      "30\n"
     ]
    }
   ],
   "source": [
    "print(b[0,2])"
   ]
  },
  {
   "cell_type": "code",
   "execution_count": 35,
   "id": "complimentary-porcelain",
   "metadata": {},
   "outputs": [
    {
     "name": "stdout",
     "output_type": "stream",
     "text": [
      "[[10 20 30]\n",
      " [45 55 65]\n",
      " [70 80 90]]\n"
     ]
    }
   ],
   "source": [
    "b[1] = np.array([45, 55, 65])\n",
    "print(b)"
   ]
  },
  {
   "cell_type": "code",
   "execution_count": 36,
   "id": "basic-fitting",
   "metadata": {},
   "outputs": [],
   "source": [
    "a = np.array([1, 2, 3, 4, 5, 6])"
   ]
  },
  {
   "cell_type": "code",
   "execution_count": 37,
   "id": "occupational-czech",
   "metadata": {},
   "outputs": [
    {
     "name": "stdout",
     "output_type": "stream",
     "text": [
      "[4 5 6]\n"
     ]
    }
   ],
   "source": [
    "print(a[a>3])"
   ]
  },
  {
   "cell_type": "code",
   "execution_count": 38,
   "id": "retired-evanescence",
   "metadata": {},
   "outputs": [
    {
     "name": "stdout",
     "output_type": "stream",
     "text": [
      "[2 4 6]\n"
     ]
    }
   ],
   "source": [
    "print(a[a%2 ==0])"
   ]
  },
  {
   "cell_type": "code",
   "execution_count": 39,
   "id": "banned-landing",
   "metadata": {},
   "outputs": [
    {
     "name": "stdout",
     "output_type": "stream",
     "text": [
      "[10 20 30]\n",
      "[ 0 10 20]\n",
      "[20 30 40 50]\n",
      "[ 0 10 25 35 45 50]\n"
     ]
    }
   ],
   "source": [
    "a = np.array([0, 10, 20, 30, 40, 50])\n",
    "print(a[1:4])\n",
    "print(a[:3])\n",
    "print(a[2:])\n",
    "a[2:5] = np.array([25, 35, 45])\n",
    "print(a)"
   ]
  },
  {
   "cell_type": "code",
   "execution_count": 40,
   "id": "lightweight-comparative",
   "metadata": {},
   "outputs": [
    {
     "name": "stdout",
     "output_type": "stream",
     "text": [
      "[[10 20 30]\n",
      " [40 50 60]\n",
      " [70 80 90]]\n"
     ]
    }
   ],
   "source": [
    "a = np.arange(10, 100, 10).reshape(3, 3)\n",
    "print(a)"
   ]
  },
  {
   "cell_type": "code",
   "execution_count": 41,
   "id": "adult-algeria",
   "metadata": {},
   "outputs": [
    {
     "name": "stdout",
     "output_type": "stream",
     "text": [
      "[[50 60]\n",
      " [80 90]]\n"
     ]
    }
   ],
   "source": [
    "print(a[1:3, 1:3])"
   ]
  },
  {
   "cell_type": "code",
   "execution_count": 42,
   "id": "diverse-browser",
   "metadata": {},
   "outputs": [
    {
     "name": "stdout",
     "output_type": "stream",
     "text": [
      "[[20 30]\n",
      " [50 60]\n",
      " [80 90]]\n"
     ]
    }
   ],
   "source": [
    "print(a[:3, 1:])"
   ]
  },
  {
   "cell_type": "code",
   "execution_count": 44,
   "id": "reverse-wells",
   "metadata": {},
   "outputs": [
    {
     "name": "stdout",
     "output_type": "stream",
     "text": [
      "[40 50]\n"
     ]
    }
   ],
   "source": [
    "print(a[1][0:2])"
   ]
  },
  {
   "cell_type": "code",
   "execution_count": 45,
   "id": "golden-soccer",
   "metadata": {},
   "outputs": [
    {
     "name": "stdout",
     "output_type": "stream",
     "text": [
      "[[10 25 35]\n",
      " [40 55 65]\n",
      " [70 80 90]]\n"
     ]
    }
   ],
   "source": [
    "a[0:2, 1:3] = np.array([[25, 35], [55, 65]])\n",
    "print(a)"
   ]
  },
  {
   "cell_type": "code",
   "execution_count": 46,
   "id": "reflected-there",
   "metadata": {},
   "outputs": [],
   "source": [
    "import pandas as pd"
   ]
  },
  {
   "cell_type": "code",
   "execution_count": 47,
   "id": "characteristic-contest",
   "metadata": {},
   "outputs": [
    {
     "name": "stdout",
     "output_type": "stream",
     "text": [
      "0    10\n",
      "1    20\n",
      "2    30\n",
      "3    40\n",
      "4    50\n",
      "dtype: int64\n"
     ]
    }
   ],
   "source": [
    "s1 = pd.Series([10, 20, 30, 40, 50])\n",
    "print(s1)"
   ]
  },
  {
   "cell_type": "code",
   "execution_count": 48,
   "id": "photographic-transfer",
   "metadata": {},
   "outputs": [
    {
     "name": "stdout",
     "output_type": "stream",
     "text": [
      "RangeIndex(start=0, stop=5, step=1)\n"
     ]
    }
   ],
   "source": [
    "print(s1.index)"
   ]
  },
  {
   "cell_type": "code",
   "execution_count": 54,
   "id": "swiss-lighting",
   "metadata": {},
   "outputs": [
    {
     "name": "stdout",
     "output_type": "stream",
     "text": [
      "[10 20 30 40 50]\n",
      "<class 'numpy.ndarray'>\n"
     ]
    }
   ],
   "source": [
    "print(s1.values)\n",
    "print(type(s1.values))"
   ]
  },
  {
   "cell_type": "code",
   "execution_count": 56,
   "id": "monthly-brake",
   "metadata": {},
   "outputs": [
    {
     "name": "stdout",
     "output_type": "stream",
     "text": [
      "0    a\n",
      "1    b\n",
      "2    c\n",
      "3    1\n",
      "4    2\n",
      "5    3\n",
      "dtype: object\n"
     ]
    }
   ],
   "source": [
    "s2 = pd.Series(['a','b','c', 1, 2, 3])\n",
    "print(s2)"
   ]
  },
  {
   "cell_type": "code",
   "execution_count": 57,
   "id": "sexual-verification",
   "metadata": {},
   "outputs": [
    {
     "name": "stdout",
     "output_type": "stream",
     "text": [
      "0    NaN\n",
      "1    1.0\n",
      "2    2.0\n",
      "dtype: float64\n"
     ]
    }
   ],
   "source": [
    "s3 = pd.Series([np.nan, 1, 2])\n",
    "print(s3)"
   ]
  },
  {
   "cell_type": "code",
   "execution_count": 61,
   "id": "dutch-condition",
   "metadata": {},
   "outputs": [
    {
     "name": "stdout",
     "output_type": "stream",
     "text": [
      "2020-03-20    200.0\n",
      "2020-03-21    187.0\n",
      "2020-03-22      NaN\n",
      "2020-03-21    210.0\n",
      "dtype: float64\n"
     ]
    }
   ],
   "source": [
    "index_date = ['2020-03-20', '2020-03-21', '2020-03-22', '2020-03-21']\n",
    "s4 = pd.Series([200, 187, np.nan, 210], index = index_date)\n",
    "print(s4)"
   ]
  },
  {
   "cell_type": "code",
   "execution_count": 62,
   "id": "committed-waters",
   "metadata": {},
   "outputs": [
    {
     "name": "stdout",
     "output_type": "stream",
     "text": [
      "국어    100\n",
      "영어     95\n",
      "수학    100\n",
      "dtype: int64\n"
     ]
    }
   ],
   "source": [
    "# 딕셔너리로 만들면 키가 인덱스, 밸류가 밸류가됨\n",
    "s5 = pd.Series({'국어':100, '영어':95, '수학':100})\n",
    "print(s5)"
   ]
  },
  {
   "cell_type": "markdown",
   "id": "satisfied-favor",
   "metadata": {},
   "source": [
    "## pd.date_range(start=None, end=None, periods=None, freq ='D')\n",
    "                                        시작, 끝, 기간, 생성주기"
   ]
  },
  {
   "cell_type": "code",
   "execution_count": 64,
   "id": "ongoing-ghana",
   "metadata": {},
   "outputs": [
    {
     "name": "stdout",
     "output_type": "stream",
     "text": [
      "DatetimeIndex(['2020-01-20', '2020-01-21', '2020-01-22', '2020-01-23',\n",
      "               '2020-01-24', '2020-01-25', '2020-01-26', '2020-01-27'],\n",
      "              dtype='datetime64[ns]', freq='D')\n"
     ]
    }
   ],
   "source": [
    "p = pd.date_range(start='2020-01-20', end='2020-01-27')\n",
    "print(p)"
   ]
  },
  {
   "cell_type": "code",
   "execution_count": 79,
   "id": "impressive-netscape",
   "metadata": {},
   "outputs": [
    {
     "name": "stdout",
     "output_type": "stream",
     "text": [
      "1\n",
      "0b1001\n",
      "1\n",
      "0b10100\n",
      "1\n",
      "0b11100\n",
      "1\n",
      "0b10010\n",
      "1\n",
      "0b1011\n"
     ]
    }
   ],
   "source": [
    "n = 5\n",
    "arr1 = [9, 20, 28, 18, 11]\n",
    "arr2 = [30, 1, 21, 17, 28]\n",
    "\n",
    "for i in arr1:\n",
    "    k = bin(i)\n",
    "    k.\n",
    "    print(k[2])\n",
    "    print(k)"
   ]
  },
  {
   "cell_type": "code",
   "execution_count": null,
   "id": "governmental-instruction",
   "metadata": {},
   "outputs": [],
   "source": [
    "def solution(n, arr1, arr2):\n",
    "    answer = []\n",
    "\n",
    "    for i in arr1:\n",
    "        answer = bin(arr1)\n",
    "    print(k)\n",
    "\n",
    "    print(answer)\n",
    "    return answer\n"
   ]
  }
 ],
 "metadata": {
  "kernelspec": {
   "display_name": "Python 3",
   "language": "python",
   "name": "python3"
  },
  "language_info": {
   "codemirror_mode": {
    "name": "ipython",
    "version": 3
   },
   "file_extension": ".py",
   "mimetype": "text/x-python",
   "name": "python",
   "nbconvert_exporter": "python",
   "pygments_lexer": "ipython3",
   "version": "3.8.8"
  }
 },
 "nbformat": 4,
 "nbformat_minor": 5
}
